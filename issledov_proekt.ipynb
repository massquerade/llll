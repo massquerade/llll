{
 "cells": [
  {
   "cell_type": "markdown",
   "metadata": {
    "id": "-VFbjcb3Awb7"
   },
   "source": [
    "# Исследование объявлений о продаже квартир\n",
    "\n",
    "В вашем распоряжении данные сервиса Яндекс Недвижимость — архив объявлений о продаже квартир в Санкт-Петербурге и соседних населённых пунктах за несколько лет. Вам нужно научиться определять рыночную стоимость объектов недвижимости. Для этого проведите исследовательский анализ данных и установите параметры, влияющие на цену объектов. Это позволит построить автоматизированную систему: она отследит аномалии и мошенническую деятельность.\n",
    "\n",
    "По каждой квартире на продажу доступны два вида данных. Первые вписаны пользователем, вторые — получены автоматически на основе картографических данных. Например, расстояние до центра, аэропорта и других объектов — эти данные автоматически получены из геосервисов. Количество парков и водоёмов также заполняется без участия пользователя."
   ]
  },
  {
   "cell_type": "markdown",
   "metadata": {},
   "source": [
    "1.проверяем данные на наличие пропусков\n",
    "2.устраняем пропуски\n",
    "3.ищем аномалии и устраняем их \n",
    "4.проводим исследовательский анализ\n",
    "5.вывод "
   ]
  },
  {
   "cell_type": "markdown",
   "metadata": {
    "id": "aeFLH07FAwb9"
   },
   "source": [
    "### Откройте файл с данными и изучите общую информацию"
   ]
  },
  {
   "cell_type": "code",
   "execution_count": 1,
   "metadata": {
    "id": "7MZxY65pAwb9"
   },
   "outputs": [
    {
     "name": "stdout",
     "output_type": "stream",
     "text": [
      "   total_images  last_price  total_area first_day_exposition  rooms  \\\n",
      "0            20  13000000.0      108.00  2019-03-07T00:00:00      3   \n",
      "1             7   3350000.0       40.40  2018-12-04T00:00:00      1   \n",
      "2            10   5196000.0       56.00  2015-08-20T00:00:00      2   \n",
      "3             0  64900000.0      159.00  2015-07-24T00:00:00      3   \n",
      "4             2  10000000.0      100.00  2018-06-19T00:00:00      2   \n",
      "5            10   2890000.0       30.40  2018-09-10T00:00:00      1   \n",
      "6             6   3700000.0       37.30  2017-11-02T00:00:00      1   \n",
      "7             5   7915000.0       71.60  2019-04-18T00:00:00      2   \n",
      "8            20   2900000.0       33.16  2018-05-23T00:00:00      1   \n",
      "9            18   5400000.0       61.00  2017-02-26T00:00:00      3   \n",
      "\n",
      "   ceiling_height  floors_total  living_area  floor is_apartment  ...  \\\n",
      "0            2.70          16.0        51.00      8          NaN  ...   \n",
      "1             NaN          11.0        18.60      1          NaN  ...   \n",
      "2             NaN           5.0        34.30      4          NaN  ...   \n",
      "3             NaN          14.0          NaN      9          NaN  ...   \n",
      "4            3.03          14.0        32.00     13          NaN  ...   \n",
      "5             NaN          12.0        14.40      5          NaN  ...   \n",
      "6             NaN          26.0        10.60      6          NaN  ...   \n",
      "7             NaN          24.0          NaN     22          NaN  ...   \n",
      "8             NaN          27.0        15.43     26          NaN  ...   \n",
      "9            2.50           9.0        43.60      7          NaN  ...   \n",
      "\n",
      "   kitchen_area  balcony              locality_name  airports_nearest  \\\n",
      "0         25.00      NaN            Санкт-Петербург           18863.0   \n",
      "1         11.00      2.0             посёлок Шушары           12817.0   \n",
      "2          8.30      0.0            Санкт-Петербург           21741.0   \n",
      "3           NaN      0.0            Санкт-Петербург           28098.0   \n",
      "4         41.00      NaN            Санкт-Петербург           31856.0   \n",
      "5          9.10      NaN  городской посёлок Янино-1               NaN   \n",
      "6         14.40      1.0          посёлок Парголово           52996.0   \n",
      "7         18.90      2.0            Санкт-Петербург           23982.0   \n",
      "8          8.81      NaN             посёлок Мурино               NaN   \n",
      "9          6.50      2.0            Санкт-Петербург           50898.0   \n",
      "\n",
      "  cityCenters_nearest  parks_around3000  parks_nearest  ponds_around3000  \\\n",
      "0             16028.0               1.0          482.0               2.0   \n",
      "1             18603.0               0.0            NaN               0.0   \n",
      "2             13933.0               1.0           90.0               2.0   \n",
      "3              6800.0               2.0           84.0               3.0   \n",
      "4              8098.0               2.0          112.0               1.0   \n",
      "5                 NaN               NaN            NaN               NaN   \n",
      "6             19143.0               0.0            NaN               0.0   \n",
      "7             11634.0               0.0            NaN               0.0   \n",
      "8                 NaN               NaN            NaN               NaN   \n",
      "9             15008.0               0.0            NaN               0.0   \n",
      "\n",
      "   ponds_nearest  days_exposition  \n",
      "0          755.0              NaN  \n",
      "1            NaN             81.0  \n",
      "2          574.0            558.0  \n",
      "3          234.0            424.0  \n",
      "4           48.0            121.0  \n",
      "5            NaN             55.0  \n",
      "6            NaN            155.0  \n",
      "7            NaN              NaN  \n",
      "8            NaN            189.0  \n",
      "9            NaN            289.0  \n",
      "\n",
      "[10 rows x 22 columns]\n"
     ]
    }
   ],
   "source": [
    "import pandas as pd \n",
    "import numpy as np\n",
    "import matplotlib.pyplot as plt\n",
    "\n",
    "data = pd.read_csv('/datasets/real_estate_data.csv',sep='\\t')\n",
    "print(data.head(10))\n",
    "shape = data.shape"
   ]
  },
  {
   "cell_type": "code",
   "execution_count": 2,
   "metadata": {},
   "outputs": [
    {
     "data": {
      "text/plain": [
       "array([[<AxesSubplot:title={'center':'total_images'}>,\n",
       "        <AxesSubplot:title={'center':'last_price'}>,\n",
       "        <AxesSubplot:title={'center':'total_area'}>,\n",
       "        <AxesSubplot:title={'center':'rooms'}>],\n",
       "       [<AxesSubplot:title={'center':'ceiling_height'}>,\n",
       "        <AxesSubplot:title={'center':'floors_total'}>,\n",
       "        <AxesSubplot:title={'center':'living_area'}>,\n",
       "        <AxesSubplot:title={'center':'floor'}>],\n",
       "       [<AxesSubplot:title={'center':'kitchen_area'}>,\n",
       "        <AxesSubplot:title={'center':'balcony'}>,\n",
       "        <AxesSubplot:title={'center':'airports_nearest'}>,\n",
       "        <AxesSubplot:title={'center':'cityCenters_nearest'}>],\n",
       "       [<AxesSubplot:title={'center':'parks_around3000'}>,\n",
       "        <AxesSubplot:title={'center':'parks_nearest'}>,\n",
       "        <AxesSubplot:title={'center':'ponds_around3000'}>,\n",
       "        <AxesSubplot:title={'center':'ponds_nearest'}>],\n",
       "       [<AxesSubplot:title={'center':'days_exposition'}>, <AxesSubplot:>,\n",
       "        <AxesSubplot:>, <AxesSubplot:>]], dtype=object)"
      ]
     },
     "execution_count": 2,
     "metadata": {},
     "output_type": "execute_result"
    },
    {
     "data": {
      "image/png": "[encoded data removed]",
      "text/plain": [
       "<Figure size 2520x1440 with 20 Axes>"
      ]
     },
     "metadata": {
      "needs_background": "light"
     },
     "output_type": "display_data"
    }
   ],
   "source": [
    "data.hist(figsize=(35,20))"
   ]
  },
  {
   "cell_type": "markdown",
   "metadata": {},
   "source": [
    "на гистограммах видны пропуски в данных"
   ]
  },
  {
   "cell_type": "markdown",
   "metadata": {
    "id": "-O5NtivEAwb9"
   },
   "source": [
    "### Выполните предобработку данных"
   ]
  },
  {
   "cell_type": "code",
   "execution_count": 3,
   "metadata": {
    "id": "7v3vAeTuAwb-",
    "scrolled": true
   },
   "outputs": [
    {
     "name": "stdout",
     "output_type": "stream",
     "text": [
      "<class 'pandas.core.frame.DataFrame'>\n",
      "RangeIndex: 23699 entries, 0 to 23698\n",
      "Data columns (total 22 columns):\n",
      " #   Column                Non-Null Count  Dtype  \n",
      "---  ------                --------------  -----  \n",
      " 0   total_images          23699 non-null  int64  \n",
      " 1   last_price            23699 non-null  float64\n",
      " 2   total_area            23699 non-null  float64\n",
      " 3   first_day_exposition  23699 non-null  object \n",
      " 4   rooms                 23699 non-null  int64  \n",
      " 5   ceiling_height        14504 non-null  float64\n",
      " 6   floors_total          23613 non-null  float64\n",
      " 7   living_area           21796 non-null  float64\n",
      " 8   floor                 23699 non-null  int64  \n",
      " 9   is_apartment          2775 non-null   object \n",
      " 10  studio                23699 non-null  bool   \n",
      " 11  open_plan             23699 non-null  bool   \n",
      " 12  kitchen_area          21421 non-null  float64\n",
      " 13  balcony               12180 non-null  float64\n",
      " 14  locality_name         23650 non-null  object \n",
      " 15  airports_nearest      18157 non-null  float64\n",
      " 16  cityCenters_nearest   18180 non-null  float64\n",
      " 17  parks_around3000      18181 non-null  float64\n",
      " 18  parks_nearest         8079 non-null   float64\n",
      " 19  ponds_around3000      18181 non-null  float64\n",
      " 20  ponds_nearest         9110 non-null   float64\n",
      " 21  days_exposition       20518 non-null  float64\n",
      "dtypes: bool(2), float64(14), int64(3), object(3)\n",
      "memory usage: 3.7+ MB\n"
     ]
    }
   ],
   "source": [
    "data.info()"
   ]
  },
  {
   "cell_type": "code",
   "execution_count": 4,
   "metadata": {},
   "outputs": [],
   "source": [
    "data['balcony'] = data['balcony'].fillna(0) #заполнение пропусков нулем\n",
    "mediana_ceiling_h = data['ceiling_height'].median() # объявление пременной с медианой высоты потолков \n",
    "data['ceiling_height'] = data['ceiling_height'].fillna(value=mediana_ceiling_h) # заполнение пропусков медианой\n",
    "mean_area_l = data['living_area'].mean() #переменная со среднем жилой площади в км2\n",
    "data['living_area'] = data['living_area'].fillna(value=mean_area_l) #заполнение пропусков перменной со среднем\n",
    "mean_kitchen_a = data['kitchen_area'].mean() # переменная со среднем км2 территории кухни\n",
    "data['kitchen_area'] = data['kitchen_area'].fillna(value=mean_kitchen_a) #заполнение пропусков перменной среднем кухни\n"
   ]
  },
  {
   "cell_type": "code",
   "execution_count": 5,
   "metadata": {},
   "outputs": [],
   "source": [
    "#studio_false = data.loc[data['studio'] == False] #149 true\n",
    "#openplan_false = data.loc[data['open_plan'] == False] # 67 true\n",
    "data['is_apartment'] = data['is_apartment'].fillna(value=True) #заполняем пропуски в is_apartment значением True, так в studio и open_plan, положительных значений в сумме 216, означает что в датафрейме 149 недвижимости вида студия, и 67 со свободной планировкой\n",
    "\n",
    "\n",
    "floors_total_m = data['floors_total'].median()\n",
    "def new_floors_total(floor_total,floor,median):\n",
    "    if floor_total > 0: # если кол-во этажей больше 0 \n",
    "        floor_to_update = floor_total # вернуть без изменений\n",
    "    elif floor > median: # если же этаж больше медианы \n",
    "            floor_to_update = floor # вернуть этаж\n",
    "    else:\n",
    "                floor_to_update = median # иначе новое кол-во этажей равно медиане\n",
    "    return floor_to_update # вернуть обновленное колво этажей\n",
    "data['floors_total'] = data.apply(lambda x:new_floors_total(x['floors_total'],x['floor'],floors_total_m),axis=1)\n",
    "#применить к каждой строке лямбду функцию, к строке кол-во этажей и этаж, вконце медиана\n",
    "\n",
    "\n",
    "\n",
    "\n",
    "\n",
    "\n",
    "\n",
    "data = data.dropna(subset=['locality_name']) #удаление строк без названия населенного пункта \n",
    "\n",
    "\n",
    "parks_ar3_m = data['parks_around3000'].mean() # поиск среднего\n",
    "spb_median = data.loc[data['locality_name'] == 'Санкт-Петербург','cityCenters_nearest'].median() # среднее путь до центра объявлений из спб\n",
    "data.loc[(data['locality_name'] == 'Санкт-Петербург') & (data['cityCenters_nearest'].isna()), 'cityCenters_nearest'] = spb_median\n",
    "# заполнение пропусков в cityCenters_nearest только для объявлений из спб \n"
   ]
  },
  {
   "cell_type": "markdown",
   "metadata": {},
   "source": [
    "были обнаружены и заполнены пропуски в датафрейме: кол-во балконов, жилая площадь, высота потолков, кухня, столбец с подтверждением того, что недвижимость это апартаменты, кол-во этажей в доме, расстояние до центра(только в городе Санкт Петербург), количество дней публикации объявление и продажи недвижимости.\n",
    "удалены строки в которых нет названия города/поселка/села так как выводы будут некорректные.\n",
    "airports_nearest было решено оставить как есть, так как можно допустить ошибку, так же и parks_around3000, parks_nearest, ponds_around3000, ponds_nearest, airports_nearest.\n"
   ]
  },
  {
   "cell_type": "markdown",
   "metadata": {},
   "source": [
    "пропуски в days_exposition было решено не трогать, судя по году они допущены случайно, если заполнить их то можно сделать некорректные выводы. "
   ]
  },
  {
   "cell_type": "code",
   "execution_count": 6,
   "metadata": {},
   "outputs": [
    {
     "data": {
      "text/html": [
       "<div>\n",
       "<style scoped>\n",
       "    .dataframe tbody tr th:only-of-type {\n",
       "        vertical-align: middle;\n",
       "    }\n",
       "\n",
       "    .dataframe tbody tr th {\n",
       "        vertical-align: top;\n",
       "    }\n",
       "\n",
       "    .dataframe thead th {\n",
       "        text-align: right;\n",
       "    }\n",
       "</style>\n",
       "<table border=\"1\" class=\"dataframe\">\n",
       "  <thead>\n",
       "    <tr style=\"text-align: right;\">\n",
       "      <th>first_day_year</th>\n",
       "      <th>2014</th>\n",
       "      <th>2015</th>\n",
       "      <th>2016</th>\n",
       "      <th>2017</th>\n",
       "      <th>2018</th>\n",
       "      <th>2019</th>\n",
       "    </tr>\n",
       "  </thead>\n",
       "  <tbody>\n",
       "    <tr>\n",
       "      <th>total_area</th>\n",
       "      <td>18</td>\n",
       "      <td>70</td>\n",
       "      <td>67</td>\n",
       "      <td>271</td>\n",
       "      <td>958</td>\n",
       "      <td>1796</td>\n",
       "    </tr>\n",
       "  </tbody>\n",
       "</table>\n",
       "</div>"
      ],
      "text/plain": [
       "first_day_year  2014  2015  2016  2017  2018  2019\n",
       "total_area        18    70    67   271   958  1796"
      ]
     },
     "execution_count": 6,
     "metadata": {},
     "output_type": "execute_result"
    }
   ],
   "source": [
    "# код ревьюера\n",
    "import datetime as dt\n",
    "\n",
    "data['first_day_exposition'] = pd.to_datetime(data['first_day_exposition'], format='%Y-%m-%dT%H:%M:%S')\n",
    "data['first_day_year'] = data['first_day_exposition'].dt.year\n",
    "data[data['days_exposition'].isnull()].pivot_table(columns = 'first_day_year', values = 'total_area', aggfunc = 'count')"
   ]
  },
  {
   "cell_type": "code",
   "execution_count": 7,
   "metadata": {},
   "outputs": [],
   "source": [
    "data['first_day_exposition'] = pd.to_datetime(data['first_day_exposition'], format='%Y-%m-%dT%H:%M:%S')#смена формата\n",
    "data['last_price'] = data['last_price'].astype(int)\n"
   ]
  },
  {
   "cell_type": "markdown",
   "metadata": {},
   "source": [
    "был изменен тип данных в столбце дата публикации объявления, в верный формат datetime"
   ]
  },
  {
   "cell_type": "code",
   "execution_count": 8,
   "metadata": {},
   "outputs": [],
   "source": [
    "data['locality_name'] = data['locality_name'].replace(['посёлок Мурино','поселок Мурино'], 'Мурино') # удаление неявных дубликатов\n",
    "data['locality_name'] = data['locality_name'].replace(['посёлок Пансионат Зелёный Бор','поселок Пансионат Зелёный Бор'], 'посёлок Пансионат Зелёный Бор')\n",
    "data['locality_name'] = data['locality_name'].replace(['поселок Рябово'], 'поселок городского типа Рябово')\n",
    "data['locality_name'] = data['locality_name'].replace(['поселок Тельмана'], 'посёлок Тельмана')\n",
    "data['locality_name'] = data['locality_name'].replace(['поселок Бугры'], 'посёлок Бугры')\n",
    "data['locality_name'] = data['locality_name'].replace(['городской посёлок Мга'], 'посёлок городского типа Мга')\n"
   ]
  },
  {
   "cell_type": "code",
   "execution_count": 9,
   "metadata": {},
   "outputs": [
    {
     "data": {
      "text/plain": [
       "(23699, 22)"
      ]
     },
     "execution_count": 9,
     "metadata": {},
     "output_type": "execute_result"
    }
   ],
   "source": [
    "anomaly_borders = {} #счетчик аноималий\n",
    "for i in ['total_area', 'rooms', 'ceiling_height', 'living_area', 'kitchen_area','last_price',]: # начало цикла, перебрать выбранные значения\n",
    "    left_border = np.nanpercentile(data[i], 0.5) # низкие значения 0.5 %\n",
    "    right_border = np.nanpercentile(data[i], 99.5) # высокие значения 0.5%\n",
    "    anomaly_borders[i] = (left_border, right_border) # счетчик аномалий это значения низкого порога и высокого \n",
    "\n",
    "mask = np.ones(len(data), dtype=bool) # создание маски где сначала все значения True\n",
    "\n",
    "for i in ['total_area', 'rooms', 'ceiling_height', 'living_area', 'kitchen_area','last_price',]:\n",
    "    left_border, right_border = anomaly_borders[i] \n",
    "    mask &= (data[i] >= left_border) & (data[i] <= right_border) # обновление маски установление значеия False аномальным строкам\n",
    "\n",
    "filt_data = data.loc[mask] # создание нового отфильтрованного датафрейма\n",
    "filt_data.shape #(22731, 22)\n",
    "shape #(23699, 22) отфильтрованно 968 строк"
   ]
  },
  {
   "cell_type": "markdown",
   "metadata": {
    "id": "QCcvyY6YAwb-"
   },
   "source": [
    "### Добавьте в таблицу новые столбцы"
   ]
  },
  {
   "cell_type": "code",
   "execution_count": 10,
   "metadata": {
    "id": "Z8eJek3IAwb-"
   },
   "outputs": [
    {
     "data": {
      "text/html": [
       "<div>\n",
       "<style scoped>\n",
       "    .dataframe tbody tr th:only-of-type {\n",
       "        vertical-align: middle;\n",
       "    }\n",
       "\n",
       "    .dataframe tbody tr th {\n",
       "        vertical-align: top;\n",
       "    }\n",
       "\n",
       "    .dataframe thead th {\n",
       "        text-align: right;\n",
       "    }\n",
       "</style>\n",
       "<table border=\"1\" class=\"dataframe\">\n",
       "  <thead>\n",
       "    <tr style=\"text-align: right;\">\n",
       "      <th></th>\n",
       "      <th>total_images</th>\n",
       "      <th>last_price</th>\n",
       "      <th>total_area</th>\n",
       "      <th>first_day_exposition</th>\n",
       "      <th>rooms</th>\n",
       "      <th>ceiling_height</th>\n",
       "      <th>floors_total</th>\n",
       "      <th>living_area</th>\n",
       "      <th>floor</th>\n",
       "      <th>is_apartment</th>\n",
       "      <th>...</th>\n",
       "      <th>ponds_around3000</th>\n",
       "      <th>ponds_nearest</th>\n",
       "      <th>days_exposition</th>\n",
       "      <th>first_day_year</th>\n",
       "      <th>price_square_meter</th>\n",
       "      <th>day_of_week</th>\n",
       "      <th>month</th>\n",
       "      <th>year</th>\n",
       "      <th>floor_type</th>\n",
       "      <th>cityCenters_nearest_KM</th>\n",
       "    </tr>\n",
       "  </thead>\n",
       "  <tbody>\n",
       "    <tr>\n",
       "      <th>0</th>\n",
       "      <td>20</td>\n",
       "      <td>13000000</td>\n",
       "      <td>108.00</td>\n",
       "      <td>2019-03-07</td>\n",
       "      <td>3</td>\n",
       "      <td>2.70</td>\n",
       "      <td>16.0</td>\n",
       "      <td>51.000000</td>\n",
       "      <td>8</td>\n",
       "      <td>True</td>\n",
       "      <td>...</td>\n",
       "      <td>2.0</td>\n",
       "      <td>755.0</td>\n",
       "      <td>NaN</td>\n",
       "      <td>2019</td>\n",
       "      <td>120370.370370</td>\n",
       "      <td>3</td>\n",
       "      <td>3</td>\n",
       "      <td>2019</td>\n",
       "      <td>другой</td>\n",
       "      <td>16.028</td>\n",
       "    </tr>\n",
       "    <tr>\n",
       "      <th>1</th>\n",
       "      <td>7</td>\n",
       "      <td>3350000</td>\n",
       "      <td>40.40</td>\n",
       "      <td>2018-12-04</td>\n",
       "      <td>1</td>\n",
       "      <td>2.65</td>\n",
       "      <td>11.0</td>\n",
       "      <td>18.600000</td>\n",
       "      <td>1</td>\n",
       "      <td>True</td>\n",
       "      <td>...</td>\n",
       "      <td>0.0</td>\n",
       "      <td>NaN</td>\n",
       "      <td>81.0</td>\n",
       "      <td>2018</td>\n",
       "      <td>82920.792079</td>\n",
       "      <td>1</td>\n",
       "      <td>12</td>\n",
       "      <td>2018</td>\n",
       "      <td>первый</td>\n",
       "      <td>18.603</td>\n",
       "    </tr>\n",
       "    <tr>\n",
       "      <th>2</th>\n",
       "      <td>10</td>\n",
       "      <td>5196000</td>\n",
       "      <td>56.00</td>\n",
       "      <td>2015-08-20</td>\n",
       "      <td>2</td>\n",
       "      <td>2.65</td>\n",
       "      <td>5.0</td>\n",
       "      <td>34.300000</td>\n",
       "      <td>4</td>\n",
       "      <td>True</td>\n",
       "      <td>...</td>\n",
       "      <td>2.0</td>\n",
       "      <td>574.0</td>\n",
       "      <td>558.0</td>\n",
       "      <td>2015</td>\n",
       "      <td>92785.714286</td>\n",
       "      <td>3</td>\n",
       "      <td>8</td>\n",
       "      <td>2015</td>\n",
       "      <td>другой</td>\n",
       "      <td>13.933</td>\n",
       "    </tr>\n",
       "    <tr>\n",
       "      <th>4</th>\n",
       "      <td>2</td>\n",
       "      <td>10000000</td>\n",
       "      <td>100.00</td>\n",
       "      <td>2018-06-19</td>\n",
       "      <td>2</td>\n",
       "      <td>3.03</td>\n",
       "      <td>14.0</td>\n",
       "      <td>32.000000</td>\n",
       "      <td>13</td>\n",
       "      <td>True</td>\n",
       "      <td>...</td>\n",
       "      <td>1.0</td>\n",
       "      <td>48.0</td>\n",
       "      <td>121.0</td>\n",
       "      <td>2018</td>\n",
       "      <td>100000.000000</td>\n",
       "      <td>1</td>\n",
       "      <td>6</td>\n",
       "      <td>2018</td>\n",
       "      <td>другой</td>\n",
       "      <td>8.098</td>\n",
       "    </tr>\n",
       "    <tr>\n",
       "      <th>5</th>\n",
       "      <td>10</td>\n",
       "      <td>2890000</td>\n",
       "      <td>30.40</td>\n",
       "      <td>2018-09-10</td>\n",
       "      <td>1</td>\n",
       "      <td>2.65</td>\n",
       "      <td>12.0</td>\n",
       "      <td>14.400000</td>\n",
       "      <td>5</td>\n",
       "      <td>True</td>\n",
       "      <td>...</td>\n",
       "      <td>NaN</td>\n",
       "      <td>NaN</td>\n",
       "      <td>55.0</td>\n",
       "      <td>2018</td>\n",
       "      <td>95065.789474</td>\n",
       "      <td>0</td>\n",
       "      <td>9</td>\n",
       "      <td>2018</td>\n",
       "      <td>другой</td>\n",
       "      <td>NaN</td>\n",
       "    </tr>\n",
       "    <tr>\n",
       "      <th>7</th>\n",
       "      <td>5</td>\n",
       "      <td>7915000</td>\n",
       "      <td>71.60</td>\n",
       "      <td>2019-04-18</td>\n",
       "      <td>2</td>\n",
       "      <td>2.65</td>\n",
       "      <td>24.0</td>\n",
       "      <td>34.457852</td>\n",
       "      <td>22</td>\n",
       "      <td>True</td>\n",
       "      <td>...</td>\n",
       "      <td>0.0</td>\n",
       "      <td>NaN</td>\n",
       "      <td>NaN</td>\n",
       "      <td>2019</td>\n",
       "      <td>110544.692737</td>\n",
       "      <td>3</td>\n",
       "      <td>4</td>\n",
       "      <td>2019</td>\n",
       "      <td>другой</td>\n",
       "      <td>11.634</td>\n",
       "    </tr>\n",
       "    <tr>\n",
       "      <th>8</th>\n",
       "      <td>20</td>\n",
       "      <td>2900000</td>\n",
       "      <td>33.16</td>\n",
       "      <td>2018-05-23</td>\n",
       "      <td>1</td>\n",
       "      <td>2.65</td>\n",
       "      <td>27.0</td>\n",
       "      <td>15.430000</td>\n",
       "      <td>26</td>\n",
       "      <td>True</td>\n",
       "      <td>...</td>\n",
       "      <td>NaN</td>\n",
       "      <td>NaN</td>\n",
       "      <td>189.0</td>\n",
       "      <td>2018</td>\n",
       "      <td>87454.764777</td>\n",
       "      <td>2</td>\n",
       "      <td>5</td>\n",
       "      <td>2018</td>\n",
       "      <td>другой</td>\n",
       "      <td>NaN</td>\n",
       "    </tr>\n",
       "    <tr>\n",
       "      <th>9</th>\n",
       "      <td>18</td>\n",
       "      <td>5400000</td>\n",
       "      <td>61.00</td>\n",
       "      <td>2017-02-26</td>\n",
       "      <td>3</td>\n",
       "      <td>2.50</td>\n",
       "      <td>9.0</td>\n",
       "      <td>43.600000</td>\n",
       "      <td>7</td>\n",
       "      <td>True</td>\n",
       "      <td>...</td>\n",
       "      <td>0.0</td>\n",
       "      <td>NaN</td>\n",
       "      <td>289.0</td>\n",
       "      <td>2017</td>\n",
       "      <td>88524.590164</td>\n",
       "      <td>6</td>\n",
       "      <td>2</td>\n",
       "      <td>2017</td>\n",
       "      <td>другой</td>\n",
       "      <td>15.008</td>\n",
       "    </tr>\n",
       "    <tr>\n",
       "      <th>10</th>\n",
       "      <td>5</td>\n",
       "      <td>5050000</td>\n",
       "      <td>39.60</td>\n",
       "      <td>2017-11-16</td>\n",
       "      <td>1</td>\n",
       "      <td>2.67</td>\n",
       "      <td>12.0</td>\n",
       "      <td>20.300000</td>\n",
       "      <td>3</td>\n",
       "      <td>True</td>\n",
       "      <td>...</td>\n",
       "      <td>2.0</td>\n",
       "      <td>553.0</td>\n",
       "      <td>137.0</td>\n",
       "      <td>2017</td>\n",
       "      <td>127525.252525</td>\n",
       "      <td>3</td>\n",
       "      <td>11</td>\n",
       "      <td>2017</td>\n",
       "      <td>другой</td>\n",
       "      <td>13.878</td>\n",
       "    </tr>\n",
       "    <tr>\n",
       "      <th>11</th>\n",
       "      <td>9</td>\n",
       "      <td>3300000</td>\n",
       "      <td>44.00</td>\n",
       "      <td>2018-08-27</td>\n",
       "      <td>2</td>\n",
       "      <td>2.65</td>\n",
       "      <td>5.0</td>\n",
       "      <td>31.000000</td>\n",
       "      <td>4</td>\n",
       "      <td>False</td>\n",
       "      <td>...</td>\n",
       "      <td>0.0</td>\n",
       "      <td>NaN</td>\n",
       "      <td>7.0</td>\n",
       "      <td>2018</td>\n",
       "      <td>75000.000000</td>\n",
       "      <td>0</td>\n",
       "      <td>8</td>\n",
       "      <td>2018</td>\n",
       "      <td>другой</td>\n",
       "      <td>51.677</td>\n",
       "    </tr>\n",
       "  </tbody>\n",
       "</table>\n",
       "<p>10 rows × 29 columns</p>\n",
       "</div>"
      ],
      "text/plain": [
       "    total_images  last_price  total_area first_day_exposition  rooms  \\\n",
       "0             20    13000000      108.00           2019-03-07      3   \n",
       "1              7     3350000       40.40           2018-12-04      1   \n",
       "2             10     5196000       56.00           2015-08-20      2   \n",
       "4              2    10000000      100.00           2018-06-19      2   \n",
       "5             10     2890000       30.40           2018-09-10      1   \n",
       "7              5     7915000       71.60           2019-04-18      2   \n",
       "8             20     2900000       33.16           2018-05-23      1   \n",
       "9             18     5400000       61.00           2017-02-26      3   \n",
       "10             5     5050000       39.60           2017-11-16      1   \n",
       "11             9     3300000       44.00           2018-08-27      2   \n",
       "\n",
       "    ceiling_height  floors_total  living_area  floor  is_apartment  ...  \\\n",
       "0             2.70          16.0    51.000000      8          True  ...   \n",
       "1             2.65          11.0    18.600000      1          True  ...   \n",
       "2             2.65           5.0    34.300000      4          True  ...   \n",
       "4             3.03          14.0    32.000000     13          True  ...   \n",
       "5             2.65          12.0    14.400000      5          True  ...   \n",
       "7             2.65          24.0    34.457852     22          True  ...   \n",
       "8             2.65          27.0    15.430000     26          True  ...   \n",
       "9             2.50           9.0    43.600000      7          True  ...   \n",
       "10            2.67          12.0    20.300000      3          True  ...   \n",
       "11            2.65           5.0    31.000000      4         False  ...   \n",
       "\n",
       "    ponds_around3000  ponds_nearest  days_exposition  first_day_year  \\\n",
       "0                2.0          755.0              NaN            2019   \n",
       "1                0.0            NaN             81.0            2018   \n",
       "2                2.0          574.0            558.0            2015   \n",
       "4                1.0           48.0            121.0            2018   \n",
       "5                NaN            NaN             55.0            2018   \n",
       "7                0.0            NaN              NaN            2019   \n",
       "8                NaN            NaN            189.0            2018   \n",
       "9                0.0            NaN            289.0            2017   \n",
       "10               2.0          553.0            137.0            2017   \n",
       "11               0.0            NaN              7.0            2018   \n",
       "\n",
       "   price_square_meter  day_of_week  month  year  floor_type  \\\n",
       "0       120370.370370            3      3  2019      другой   \n",
       "1        82920.792079            1     12  2018      первый   \n",
       "2        92785.714286            3      8  2015      другой   \n",
       "4       100000.000000            1      6  2018      другой   \n",
       "5        95065.789474            0      9  2018      другой   \n",
       "7       110544.692737            3      4  2019      другой   \n",
       "8        87454.764777            2      5  2018      другой   \n",
       "9        88524.590164            6      2  2017      другой   \n",
       "10      127525.252525            3     11  2017      другой   \n",
       "11       75000.000000            0      8  2018      другой   \n",
       "\n",
       "    cityCenters_nearest_KM  \n",
       "0                   16.028  \n",
       "1                   18.603  \n",
       "2                   13.933  \n",
       "4                    8.098  \n",
       "5                      NaN  \n",
       "7                   11.634  \n",
       "8                      NaN  \n",
       "9                   15.008  \n",
       "10                  13.878  \n",
       "11                  51.677  \n",
       "\n",
       "[10 rows x 29 columns]"
      ]
     },
     "execution_count": 10,
     "metadata": {},
     "output_type": "execute_result"
    }
   ],
   "source": [
    "filt_data = filt_data.assign(price_square_meter=filt_data['last_price'] / filt_data['total_area']) #создание нового столбца с ценой за квадратный метр\n",
    "\n",
    "day = {\n",
    "    'Monday': 0, # словарь с днями недели\n",
    "    'Tuesday': 1,\n",
    "    'Wednesday': 2,\n",
    "    'Thursday': 3,\n",
    "    'Friday': 4,\n",
    "    'Saturday': 5,\n",
    "    'Sunday': 6\n",
    "}\n",
    "filt_data['day_of_week'] = filt_data['first_day_exposition'].dt.day_name().map(day) # создаем новый столбец, применяем метод dt.day_name() для получения названий дней\n",
    "# метод map применяется к результату чтобы отобразить названия дней недели на числа указанные в day \n",
    "filt_data['month'] = pd.DatetimeIndex(filt_data['first_day_exposition']).month #создание нового столбца с номером месяца \n",
    "filt_data['year'] = pd.DatetimeIndex(filt_data['first_day_exposition']).year #создание нового столбца с годом\n",
    "def floor_type(row): # функция для создания столбца с типом этажа \n",
    "    total_floors = row['floors_total']\n",
    "    floor = row['floor']\n",
    "    if floor == 1:\n",
    "        return 'первый'\n",
    "    elif floor == total_floors:\n",
    "        return 'последний'\n",
    "    else:\n",
    "        return 'другой'\n",
    "filt_data['floor_type'] = filt_data.apply(floor_type, axis=1) # применяем функцию к каждой строке по очереди   \n",
    "filt_data['cityCenters_nearest_KM'] = filt_data['cityCenters_nearest'] / 1000\n",
    "filt_data.head(10)"
   ]
  },
  {
   "cell_type": "markdown",
   "metadata": {},
   "source": [
    "были добавлены столбцы:\n",
    " – цена одного квадратного метра;\n",
    " – день публикации объявления (0 - понедельник, 1 - вторник и т. д.);\n",
    " – месяц публикации объявления;\n",
    " – год публикации объявления;\n",
    " – тип этажа квартиры (значения — «первый», «последний», «другой»);\n",
    " – расстояние до центра города в километрах.\n",
    " "
   ]
  },
  {
   "cell_type": "markdown",
   "metadata": {
    "id": "pPyxrKWTAwb-"
   },
   "source": [
    "### Проведите исследовательский анализ данных"
   ]
  },
  {
   "cell_type": "code",
   "execution_count": 11,
   "metadata": {
    "id": "V2f0D3kLAwb-"
   },
   "outputs": [
    {
     "name": "stdout",
     "output_type": "stream",
     "text": [
      "среднее 58.317959614623206\n",
      "максимальное 244.0\n",
      "минимальное 23.5\n"
     ]
    },
    {
     "data": {
      "image/png": "[encoded data removed]",
      "text/plain": [
       "<Figure size 432x288 with 1 Axes>"
      ]
     },
     "metadata": {
      "needs_background": "light"
     },
     "output_type": "display_data"
    }
   ],
   "source": [
    "filt_data['total_area'].hist(edgecolor='black') # постройка гистограммы с черными краями\n",
    "print('среднее',filt_data['total_area'].mean()) # рассчет среднего\n",
    "print('максимальное',filt_data['total_area'].max()) # рассчет максимального \n",
    "print('минимальное',filt_data['total_area'].min()) # рассчет минимального "
   ]
  },
  {
   "cell_type": "markdown",
   "metadata": {},
   "source": [
    "общая площадь недвижимости, можно сказать что больше всего недвижимости с площадью меньше 50 квадратных метров, это видно по гистограмме и по среднему числу.\n",
    "по минимальному значению понятно что в датафрейме присутствуют квартиры-студии, по максимальному можно сказать что есть недвижимость с открытой планировкой. разница между ними 225.2 что говорит о том что в датафрейме присутствуют различные типы недвижимости\n"
   ]
  },
  {
   "cell_type": "code",
   "execution_count": 12,
   "metadata": {},
   "outputs": [
    {
     "name": "stdout",
     "output_type": "stream",
     "text": [
      "среднее 33.442814506688265\n",
      "максимальное 150.0\n",
      "минимальное 11.47\n"
     ]
    },
    {
     "data": {
      "image/png": "[encoded data removed]",
      "text/plain": [
       "<Figure size 432x288 with 1 Axes>"
      ]
     },
     "metadata": {
      "needs_background": "light"
     },
     "output_type": "display_data"
    }
   ],
   "source": [
    "filt_data['living_area'].hist(edgecolor='black')\n",
    "print('среднее',filt_data['living_area'].mean())\n",
    "print('максимальное',filt_data['living_area'].max())\n",
    "print('минимальное',filt_data['living_area'].min())"
   ]
  },
  {
   "cell_type": "markdown",
   "metadata": {},
   "source": [
    "жилая площадь, можно более подробнее взглянуть на площадь недвижимости, все числа тут значительно меньше чем в общей площади, это обусловлено тем что жилая площадь и общая площадь недвижимости, это разные вещи. \n",
    "среднее 33, что может соответствовать обычной квартире.\n",
    "максимальное 150, скорее всего это большие дома.\n",
    "минимальное 11, это квартиры-студии.\n",
    "по гистограмме такое же распределение как в общей площади."
   ]
  },
  {
   "cell_type": "code",
   "execution_count": 13,
   "metadata": {
    "scrolled": true
   },
   "outputs": [
    {
     "name": "stdout",
     "output_type": "stream",
     "text": [
      "среднее 10.28154181712005\n",
      "максимальное 41.0\n",
      "минимальное 5.0\n"
     ]
    },
    {
     "data": {
      "image/png": "[encoded data removed]",
      "text/plain": [
       "<Figure size 432x288 with 1 Axes>"
      ]
     },
     "metadata": {
      "needs_background": "light"
     },
     "output_type": "display_data"
    }
   ],
   "source": [
    "filt_data['kitchen_area'].hist(edgecolor='black')\n",
    "print('среднее',filt_data['kitchen_area'].mean())\n",
    "print('максимальное',filt_data['kitchen_area'].max())\n",
    "print('минимальное',filt_data['kitchen_area'].min())"
   ]
  },
  {
   "cell_type": "markdown",
   "metadata": {},
   "source": [
    "площадь кухни, распределение гистограммы такое же как в общей и жилой площади.\n",
    "среднее говорит нам о том что в датафрейме распространены обычные квартиры.\n",
    "максимальное говорит о присутствии большой недвижимости.\n",
    "минимальное говорит о наличии квартир-студий."
   ]
  },
  {
   "cell_type": "code",
   "execution_count": 14,
   "metadata": {},
   "outputs": [
    {
     "name": "stdout",
     "output_type": "stream",
     "text": [
      "среднее 5898051.906427346\n",
      "максимальное 54000000\n",
      "минимальное 800000\n"
     ]
    },
    {
     "data": {
      "text/plain": [
       "<AxesSubplot:>"
      ]
     },
     "execution_count": 14,
     "metadata": {},
     "output_type": "execute_result"
    },
    {
     "data": {
      "image/png": "[encoded data removed]",
      "text/plain": [
       "<Figure size 432x288 with 1 Axes>"
      ]
     },
     "metadata": {
      "needs_background": "light"
     },
     "output_type": "display_data"
    }
   ],
   "source": [
    "print('среднее',filt_data['last_price'].mean())\n",
    "print('максимальное',filt_data['last_price'].max())\n",
    "print('минимальное',filt_data['last_price'].min())\n",
    "filt_data['last_price'].hist(bins=30, edgecolor='black')\n",
    "\n"
   ]
  },
  {
   "cell_type": "markdown",
   "metadata": {},
   "source": [
    "цена при снятии объявлении с публикации, средняя цена около 6 миллионов рублей, что в принципе подходит под среднестатистическую квартиру. \n",
    "максимальное значение 54 миллиона, свидетельствует о наличии дома или больших квартир.\n",
    "минимальное же подходит под квартиру-студию\n",
    "гистограмма имеет распределение пауссона, на 30 интервалов, один интервал ровняется 1773333(53200000 / 30 = 1773333), начиная с 800000 заканчивая 54000000.\n",
    "1 бин(800000 - 2573333)\n",
    "2 бин(2573334 - 4346667)\n",
    "3 бин(4346668 - 6120001)\n",
    "по ней можно сделать вывод что 2573334 - 4346667 самая популярная цена в датафрейме, это неудивительно так-как было выяснено что \"среднестатистических\" квартир больше всего."
   ]
  },
  {
   "cell_type": "code",
   "execution_count": 15,
   "metadata": {},
   "outputs": [
    {
     "name": "stdout",
     "output_type": "stream",
     "text": [
      "максимальное 6\n",
      "минимальное 0\n"
     ]
    },
    {
     "data": {
      "text/plain": [
       "<AxesSubplot:>"
      ]
     },
     "execution_count": 15,
     "metadata": {},
     "output_type": "execute_result"
    },
    {
     "data": {
      "image/png": "[encoded data removed]",
      "text/plain": [
       "<Figure size 432x288 with 1 Axes>"
      ]
     },
     "metadata": {
      "needs_background": "light"
     },
     "output_type": "display_data"
    }
   ],
   "source": [
    "\n",
    "print('максимальное',filt_data['rooms'].max())\n",
    "print('минимальное',filt_data['rooms'].min())\n",
    "filt_data['rooms'].hist(bins=6, edgecolor='black')"
   ]
  },
  {
   "cell_type": "markdown",
   "metadata": {},
   "source": [
    "больше всего недвижимости с 1-2 комнатами, что в принципе похоже на правду если судить по данным выше.\n",
    "так же есть значения у 0, это квартиры-студии, комнат в них нет.\n",
    "гистограмма имеет практически нормальное распределение."
   ]
  },
  {
   "cell_type": "code",
   "execution_count": 16,
   "metadata": {},
   "outputs": [
    {
     "name": "stdout",
     "output_type": "stream",
     "text": [
      "среднее 2.6883581892569617\n",
      "максимальное 3.95\n",
      "минимальное 2.5\n"
     ]
    },
    {
     "data": {
      "text/plain": [
       "<AxesSubplot:>"
      ]
     },
     "execution_count": 16,
     "metadata": {},
     "output_type": "execute_result"
    },
    {
     "data": {
      "image/png": "[encoded data removed]",
      "text/plain": [
       "<Figure size 432x288 with 1 Axes>"
      ]
     },
     "metadata": {
      "needs_background": "light"
     },
     "output_type": "display_data"
    }
   ],
   "source": [
    "print('среднее',filt_data['ceiling_height'].mean())\n",
    "print('максимальное',filt_data['ceiling_height'].max())\n",
    "print('минимальное',filt_data['ceiling_height'].min())\n",
    "filt_data['ceiling_height'].hist(edgecolor='black')"
   ]
  },
  {
   "cell_type": "markdown",
   "metadata": {},
   "source": [
    "высота потолков, самая популярная высота около 2.8, что вполне нормально так-как выше уже было выяснено что \"стандартные\" квартир больше всего в таблице.\n",
    "2.6 подходит квартирам-студиям, а 4 подходит под дорогую недвижимость."
   ]
  },
  {
   "cell_type": "code",
   "execution_count": 17,
   "metadata": {},
   "outputs": [
    {
     "data": {
      "text/plain": [
       "<AxesSubplot:>"
      ]
     },
     "execution_count": 17,
     "metadata": {},
     "output_type": "execute_result"
    },
    {
     "data": {
      "image/png": "[encoded data removed]",
      "text/plain": [
       "<Figure size 432x288 with 1 Axes>"
      ]
     },
     "metadata": {
      "needs_background": "light"
     },
     "output_type": "display_data"
    }
   ],
   "source": [
    "\n",
    "filt_data['floor_type'].hist(bins=3,edgecolor='black')"
   ]
  },
  {
   "cell_type": "markdown",
   "metadata": {},
   "source": [
    "очевидно что другой этаж популярнее всех, но интересно то, что недвижимости с последним этажом чуть больше чем с первым."
   ]
  },
  {
   "cell_type": "code",
   "execution_count": 18,
   "metadata": {},
   "outputs": [
    {
     "name": "stdout",
     "output_type": "stream",
     "text": [
      "среднее 10.777616470898773\n",
      "максимальное 60.0\n",
      "минимальное 1.0\n"
     ]
    },
    {
     "data": {
      "text/plain": [
       "<AxesSubplot:>"
      ]
     },
     "execution_count": 18,
     "metadata": {},
     "output_type": "execute_result"
    },
    {
     "data": {
      "image/png": "[encoded data removed]",
      "text/plain": [
       "<Figure size 432x288 with 1 Axes>"
      ]
     },
     "metadata": {
      "needs_background": "light"
     },
     "output_type": "display_data"
    }
   ],
   "source": [
    "print('среднее',filt_data['floors_total'].mean())\n",
    "print('максимальное',filt_data['floors_total'].max())\n",
    "print('минимальное',filt_data['floors_total'].min())\n",
    "filt_data['floors_total'].hist(edgecolor='black',range=(0,40))"
   ]
  },
  {
   "cell_type": "markdown",
   "metadata": {},
   "source": [
    "по гистограмме видно что больше всего недвижимости в 5-этажных домах, что подтверждает вышесказанное, а именно - обычных квартир в датафрейме болььше всего. однако недвижимости с 25 этажами больше чем например с 20, это связано с тем что 20ти этажные дома менее популярны в строительстве нежели 25 этажные"
   ]
  },
  {
   "cell_type": "code",
   "execution_count": 19,
   "metadata": {},
   "outputs": [
    {
     "name": "stdout",
     "output_type": "stream",
     "text": [
      "среднее 14327.389952698468\n",
      "максимальное 65968.0\n",
      "минимальное 181.0\n"
     ]
    },
    {
     "data": {
      "text/plain": [
       "<AxesSubplot:>"
      ]
     },
     "execution_count": 19,
     "metadata": {},
     "output_type": "execute_result"
    },
    {
     "data": {
      "image/png": "[encoded data removed]",
      "text/plain": [
       "<Figure size 432x288 with 1 Axes>"
      ]
     },
     "metadata": {
      "needs_background": "light"
     },
     "output_type": "display_data"
    }
   ],
   "source": [
    "print('среднее',filt_data['cityCenters_nearest'].mean())\n",
    "print('максимальное',filt_data['cityCenters_nearest'].max())\n",
    "print('минимальное',filt_data['cityCenters_nearest'].min())\n",
    "filt_data['cityCenters_nearest'].hist(edgecolor='black')"
   ]
  },
  {
   "cell_type": "markdown",
   "metadata": {},
   "source": [
    "больше всего недвижимости находится в 10 километрах от центра, однако гистограмма неточная так-как имеются пропуски в данных, но для Санкт-Петербурга пропусков нет."
   ]
  },
  {
   "cell_type": "code",
   "execution_count": 20,
   "metadata": {},
   "outputs": [
    {
     "name": "stdout",
     "output_type": "stream",
     "text": [
      "среднее 493.3750162654522\n",
      "максимальное 3190.0\n",
      "минимальное 1.0\n"
     ]
    },
    {
     "data": {
      "text/plain": [
       "<AxesSubplot:>"
      ]
     },
     "execution_count": 20,
     "metadata": {},
     "output_type": "execute_result"
    },
    {
     "data": {
      "image/png": "[encoded data removed]",
      "text/plain": [
       "<Figure size 432x288 with 1 Axes>"
      ]
     },
     "metadata": {
      "needs_background": "light"
     },
     "output_type": "display_data"
    }
   ],
   "source": [
    "print('среднее',filt_data['parks_nearest'].mean())\n",
    "print('максимальное',filt_data['parks_nearest'].max())\n",
    "print('минимальное',filt_data['parks_nearest'].min())\n",
    "filt_data['parks_nearest'].hist(edgecolor='black')"
   ]
  },
  {
   "cell_type": "markdown",
   "metadata": {},
   "source": [
    "ближайший парк в 500 метрах у большинства недвижимости, однако эта гистограмма тоже несовсем достоверна из-за пропусков в данных, они не было заполненны так-как можно получить некорректные выводы."
   ]
  },
  {
   "cell_type": "code",
   "execution_count": 21,
   "metadata": {},
   "outputs": [
    {
     "data": {
      "image/png": "[encoded data removed]",
      "text/plain": [
       "<Figure size 720x432 with 1 Axes>"
      ]
     },
     "metadata": {
      "needs_background": "light"
     },
     "output_type": "display_data"
    },
    {
     "name": "stdout",
     "output_type": "stream",
     "text": [
      "cреднее количество дней экспозиции: 179.79\n"
     ]
    },
    {
     "data": {
      "text/plain": [
       "count    19715.000000\n",
       "mean       179.794826\n",
       "std        218.767760\n",
       "min          1.000000\n",
       "25%         45.000000\n",
       "50%         95.000000\n",
       "75%        229.000000\n",
       "max       1580.000000\n",
       "Name: days_exposition, dtype: float64"
      ]
     },
     "execution_count": 21,
     "metadata": {},
     "output_type": "execute_result"
    }
   ],
   "source": [
    "plt.figure(figsize=(10, 6)) # обозначение размера 10х6\n",
    "plt.hist(filt_data['days_exposition'], bins=30, edgecolor='black') #  гистограмма на 30 корзин с черными краями\n",
    "plt.title('распределение количества дней экспозиции') # название гистограммы\n",
    "plt.xlabel('дни экспозиции') # надпись по иксу на гистограмме\n",
    "plt.ylabel('количество квартир') # надпись по игреку на гистограмме\n",
    "plt.show() # показать график \n",
    "mean_days = np.mean(filt_data['days_exposition']) # переменная со средним экспозиции \n",
    "median_days = np.median(filt_data['days_exposition']) # медиана экспозиции \n",
    "\n",
    "print(f\"cреднее количество дней экспозиции: {mean_days:.2f}\")\n",
    "filt_data['days_exposition'].describe()"
   ]
  },
  {
   "cell_type": "markdown",
   "metadata": {},
   "source": [
    "есть значительное количество квартир с очень короткой экспозицией (менее 50 дней)\n",
    "обычно недвижимость продается за 5-6 месяцев.\n",
    "половина недвижимости в датафрейме продается за 3 месяца.\n",
    "быстрая продажа это продажа недвижимости за 50 дней.\n",
    "необычно долгая продажа это продажа недвижимости за более чем 200 дней"
   ]
  },
  {
   "cell_type": "markdown",
   "metadata": {},
   "source": [
    "продажа за 200 дней считается относительно быстрой продажей, а вот необычно долгая продажа все же считается выше 229 дней"
   ]
  },
  {
   "cell_type": "code",
   "execution_count": 22,
   "metadata": {},
   "outputs": [
    {
     "data": {
      "image/png": "[encoded data removed]",
      "text/plain": [
       "<Figure size 864x720 with 25 Axes>"
      ]
     },
     "metadata": {
      "needs_background": "light"
     },
     "output_type": "display_data"
    }
   ],
   "source": [
    "\n",
    "corr = filt_data.corr() # корреляция \n",
    "high_corr_cols = corr[abs(corr['last_price']) > 0.5].index.drop('last_price') # рассчет и наход высокой корреляции с ценой\n",
    "high_corr_data = filt_data[list(high_corr_cols) + ['last_price']] # список имен столбцов с высокой корреляцией\n",
    "pd.plotting.scatter_matrix(high_corr_data, figsize=(12, 10), diagonal='kde') # постройка матрицы рассеяния\n",
    "plt.show() \n"
   ]
  },
  {
   "cell_type": "markdown",
   "metadata": {},
   "source": [
    "есть сильная положительная корреляция между ценой и общей площадью недвижимости(0.77), жилой площадью(0.63) и кухни(0.54) это означает что с увелечием этих площадей, цена так же будет возрастать\n",
    "total_area 0.7654232980246072\n",
    "living_area 0.6260186413627628\n",
    "kitchen_area 0.5437866475199966"
   ]
  },
  {
   "cell_type": "code",
   "execution_count": 23,
   "metadata": {},
   "outputs": [],
   "source": [
    "floor_type_pivot = pd.pivot_table(filt_data, index='floor_type', values='last_price', aggfunc='mean') # 0.46952224760988104\n",
    "month_pivot = pd.pivot_table(filt_data, index='month', values='last_price', aggfunc='mean') # 0.0032032493151530708\n",
    "day_pivot = pd.pivot_table(filt_data, index='day_of_week', values='last_price', aggfunc='mean') #-0.01822533702827188\n",
    "years_pivot = pd.pivot_table(filt_data, index='year', values='last_price', aggfunc='mean') # -0.03790030069270992\n",
    "#создание сводных таблиц с типом этажа, месяца, дня и года со средним последней цены "
   ]
  },
  {
   "cell_type": "markdown",
   "metadata": {},
   "source": [
    "корреляция между месяцем и последней ценой очень слабая но положительная(0.003), это означает что месяц имеет незначительное влияние на цену, возможно в некоторые месяцы идет небольшое повышение цены, но в целом связь слабая.\n",
    "корреляция между днем и последней ценой слабая и отрицательная(-0.01), значит что день недели имеет очень слабое отрицательное влияние на цену, возможно в некоторые дни есть маленькое снижение цены.\n",
    "корреляция между годом и последней ценой тоже слабая и отрицательная(-0.03), возможно в более поздние года цена ниже.\n",
    "корреляция между типом этажа и ценой(0.47) средняя и положительная, можно сказать что тип этажа влияет на итоговую цену, судя по графику последний этаж либо же другой, выходит дороже чем первый. "
   ]
  },
  {
   "cell_type": "code",
   "execution_count": 24,
   "metadata": {},
   "outputs": [
    {
     "data": {
      "text/plain": [
       "<AxesSubplot:xlabel='floor_type'>"
      ]
     },
     "execution_count": 24,
     "metadata": {},
     "output_type": "execute_result"
    },
    {
     "data": {
      "image/png": "[encoded data removed]",
      "text/plain": [
       "<Figure size 432x288 with 1 Axes>"
      ]
     },
     "metadata": {
      "needs_background": "light"
     },
     "output_type": "display_data"
    }
   ],
   "source": [
    "floor_type_pivot.plot(kind='bar') # постройка гистограммы"
   ]
  },
  {
   "cell_type": "code",
   "execution_count": 25,
   "metadata": {},
   "outputs": [
    {
     "data": {
      "text/plain": [
       "<AxesSubplot:xlabel='month'>"
      ]
     },
     "execution_count": 25,
     "metadata": {},
     "output_type": "execute_result"
    },
    {
     "data": {
      "image/png": "[encoded data removed]",
      "text/plain": [
       "<Figure size 432x288 with 1 Axes>"
      ]
     },
     "metadata": {
      "needs_background": "light"
     },
     "output_type": "display_data"
    }
   ],
   "source": [
    "month_pivot.plot(kind='bar')"
   ]
  },
  {
   "cell_type": "markdown",
   "metadata": {},
   "source": [
    "зависимость незначительная"
   ]
  },
  {
   "cell_type": "code",
   "execution_count": 26,
   "metadata": {},
   "outputs": [
    {
     "data": {
      "text/plain": [
       "<AxesSubplot:xlabel='day_of_week'>"
      ]
     },
     "execution_count": 26,
     "metadata": {},
     "output_type": "execute_result"
    },
    {
     "data": {
      "image/png": "[encoded data removed]",
      "text/plain": [
       "<Figure size 432x288 with 1 Axes>"
      ]
     },
     "metadata": {
      "needs_background": "light"
     },
     "output_type": "display_data"
    }
   ],
   "source": [
    "day_pivot.plot(kind='bar')"
   ]
  },
  {
   "cell_type": "markdown",
   "metadata": {},
   "source": [
    "зависимость незначительная"
   ]
  },
  {
   "cell_type": "code",
   "execution_count": 27,
   "metadata": {},
   "outputs": [
    {
     "data": {
      "text/plain": [
       "<AxesSubplot:xlabel='year'>"
      ]
     },
     "execution_count": 27,
     "metadata": {},
     "output_type": "execute_result"
    },
    {
     "data": {
      "image/png": "[encoded data removed]",
      "text/plain": [
       "<Figure size 432x288 with 1 Axes>"
      ]
     },
     "metadata": {
      "needs_background": "light"
     },
     "output_type": "display_data"
    }
   ],
   "source": [
    "years_pivot.plot(kind='bar')"
   ]
  },
  {
   "cell_type": "markdown",
   "metadata": {},
   "source": [
    "в 2014 году видно пик цены, однако потом он идет на спад, и в 2019 начинает расти."
   ]
  },
  {
   "cell_type": "code",
   "execution_count": 28,
   "metadata": {},
   "outputs": [
    {
     "data": {
      "text/html": [
       "<div>\n",
       "<style scoped>\n",
       "    .dataframe tbody tr th:only-of-type {\n",
       "        vertical-align: middle;\n",
       "    }\n",
       "\n",
       "    .dataframe tbody tr th {\n",
       "        vertical-align: top;\n",
       "    }\n",
       "\n",
       "    .dataframe thead th {\n",
       "        text-align: right;\n",
       "    }\n",
       "</style>\n",
       "<table border=\"1\" class=\"dataframe\">\n",
       "  <thead>\n",
       "    <tr style=\"text-align: right;\">\n",
       "      <th></th>\n",
       "      <th>город</th>\n",
       "      <th>средняя цена за кв м</th>\n",
       "    </tr>\n",
       "  </thead>\n",
       "  <tbody>\n",
       "    <tr>\n",
       "      <th>0</th>\n",
       "      <td>Санкт-Петербург</td>\n",
       "      <td>111833</td>\n",
       "    </tr>\n",
       "    <tr>\n",
       "      <th>4</th>\n",
       "      <td>Пушкин</td>\n",
       "      <td>102922</td>\n",
       "    </tr>\n",
       "    <tr>\n",
       "      <th>8</th>\n",
       "      <td>деревня Кудрово</td>\n",
       "      <td>92287</td>\n",
       "    </tr>\n",
       "    <tr>\n",
       "      <th>6</th>\n",
       "      <td>посёлок Парголово</td>\n",
       "      <td>90217</td>\n",
       "    </tr>\n",
       "    <tr>\n",
       "      <th>1</th>\n",
       "      <td>Мурино</td>\n",
       "      <td>85445</td>\n",
       "    </tr>\n",
       "    <tr>\n",
       "      <th>2</th>\n",
       "      <td>посёлок Шушары</td>\n",
       "      <td>77914</td>\n",
       "    </tr>\n",
       "    <tr>\n",
       "      <th>5</th>\n",
       "      <td>Колпино</td>\n",
       "      <td>75258</td>\n",
       "    </tr>\n",
       "    <tr>\n",
       "      <th>7</th>\n",
       "      <td>Гатчина</td>\n",
       "      <td>68913</td>\n",
       "    </tr>\n",
       "    <tr>\n",
       "      <th>3</th>\n",
       "      <td>Всеволожск</td>\n",
       "      <td>68633</td>\n",
       "    </tr>\n",
       "    <tr>\n",
       "      <th>9</th>\n",
       "      <td>Выборг</td>\n",
       "      <td>58298</td>\n",
       "    </tr>\n",
       "  </tbody>\n",
       "</table>\n",
       "</div>"
      ],
      "text/plain": [
       "               город  средняя цена за кв м\n",
       "0    Санкт-Петербург                111833\n",
       "4             Пушкин                102922\n",
       "8    деревня Кудрово                 92287\n",
       "6  посёлок Парголово                 90217\n",
       "1             Мурино                 85445\n",
       "2     посёлок Шушары                 77914\n",
       "5            Колпино                 75258\n",
       "7            Гатчина                 68913\n",
       "3         Всеволожск                 68633\n",
       "9             Выборг                 58298"
      ]
     },
     "execution_count": 28,
     "metadata": {},
     "output_type": "execute_result"
    }
   ],
   "source": [
    "localities = ['Санкт-Петербург', 'Мурино', 'посёлок Шушары','Всеволожск','Пушкин','Колпино','посёлок Парголово','Гатчина','деревня Кудрово','Выборг']\n",
    "\n",
    "local = []\n",
    "for locality in localities:\n",
    "    mean_price = int(filt_data.loc[filt_data['locality_name'] == locality, 'price_square_meter'].mean())\n",
    "    local.append({'город': locality, 'средняя цена за кв м': mean_price})\n",
    "\n",
    "df = pd.DataFrame(local)\n",
    "df.sort_values('средняя цена за кв м', ascending=False)"
   ]
  },
  {
   "cell_type": "markdown",
   "metadata": {},
   "source": [
    "минимальная цена за квадратный метр в Выборге, а максимальная в поселке Парголово, топ 3 самых дорогих это Парголово,Санкт-Петербург и Пушкин, а топ 3 самых дешевых это Выборг, Всеволожск, Гатчина."
   ]
  },
  {
   "cell_type": "code",
   "execution_count": 29,
   "metadata": {},
   "outputs": [
    {
     "data": {
      "text/plain": [
       "[<matplotlib.lines.Line2D at 0x7f8820590220>]"
      ]
     },
     "execution_count": 29,
     "metadata": {},
     "output_type": "execute_result"
    },
    {
     "data": {
      "image/png": "[encoded data removed]",
      "text/plain": [
       "<Figure size 1440x432 with 1 Axes>"
      ]
     },
     "metadata": {
      "needs_background": "light"
     },
     "output_type": "display_data"
    }
   ],
   "source": [
    "center_spb_data = filt_data.query('locality_name == \"Санкт-Петербург\"')\n",
    "center_spb_data = center_spb_data.groupby('cityCenters_nearest_KM')['price_square_meter'].mean().reset_index()\n",
    "center_spb_data = center_spb_data.sort_values('cityCenters_nearest_KM')\n",
    "plt.figure(figsize=(20, 6))\n",
    "plt.plot(center_spb_data['cityCenters_nearest_KM'], center_spb_data['price_square_meter'])"
   ]
  },
  {
   "cell_type": "code",
   "execution_count": 34,
   "metadata": {},
   "outputs": [
    {
     "data": {
      "text/html": [
       "<div>\n",
       "<style scoped>\n",
       "    .dataframe tbody tr th:only-of-type {\n",
       "        vertical-align: middle;\n",
       "    }\n",
       "\n",
       "    .dataframe tbody tr th {\n",
       "        vertical-align: top;\n",
       "    }\n",
       "\n",
       "    .dataframe thead th {\n",
       "        text-align: right;\n",
       "    }\n",
       "</style>\n",
       "<table border=\"1\" class=\"dataframe\">\n",
       "  <thead>\n",
       "    <tr style=\"text-align: right;\">\n",
       "      <th></th>\n",
       "      <th>price_square_meter</th>\n",
       "      <th>cityCenters_nearest_KM</th>\n",
       "    </tr>\n",
       "    <tr>\n",
       "      <th>cityCenters_nearest_KM</th>\n",
       "      <th></th>\n",
       "      <th></th>\n",
       "    </tr>\n",
       "  </thead>\n",
       "  <tbody>\n",
       "    <tr>\n",
       "      <th>0.0</th>\n",
       "      <td>197096.242249</td>\n",
       "      <td>0.0</td>\n",
       "    </tr>\n",
       "    <tr>\n",
       "      <th>1.0</th>\n",
       "      <td>144444.093178</td>\n",
       "      <td>1.0</td>\n",
       "    </tr>\n",
       "    <tr>\n",
       "      <th>2.0</th>\n",
       "      <td>136171.794084</td>\n",
       "      <td>2.0</td>\n",
       "    </tr>\n",
       "    <tr>\n",
       "      <th>3.0</th>\n",
       "      <td>118359.570965</td>\n",
       "      <td>3.0</td>\n",
       "    </tr>\n",
       "    <tr>\n",
       "      <th>4.0</th>\n",
       "      <td>127305.900692</td>\n",
       "      <td>4.0</td>\n",
       "    </tr>\n",
       "    <tr>\n",
       "      <th>5.0</th>\n",
       "      <td>135160.599926</td>\n",
       "      <td>5.0</td>\n",
       "    </tr>\n",
       "    <tr>\n",
       "      <th>6.0</th>\n",
       "      <td>141562.901771</td>\n",
       "      <td>6.0</td>\n",
       "    </tr>\n",
       "    <tr>\n",
       "      <th>7.0</th>\n",
       "      <td>141705.173820</td>\n",
       "      <td>7.0</td>\n",
       "    </tr>\n",
       "    <tr>\n",
       "      <th>8.0</th>\n",
       "      <td>123636.393210</td>\n",
       "      <td>8.0</td>\n",
       "    </tr>\n",
       "    <tr>\n",
       "      <th>9.0</th>\n",
       "      <td>113148.588888</td>\n",
       "      <td>9.0</td>\n",
       "    </tr>\n",
       "    <tr>\n",
       "      <th>10.0</th>\n",
       "      <td>112882.505918</td>\n",
       "      <td>10.0</td>\n",
       "    </tr>\n",
       "    <tr>\n",
       "      <th>11.0</th>\n",
       "      <td>108213.326721</td>\n",
       "      <td>11.0</td>\n",
       "    </tr>\n",
       "    <tr>\n",
       "      <th>12.0</th>\n",
       "      <td>108756.693940</td>\n",
       "      <td>12.0</td>\n",
       "    </tr>\n",
       "    <tr>\n",
       "      <th>13.0</th>\n",
       "      <td>108052.759327</td>\n",
       "      <td>13.0</td>\n",
       "    </tr>\n",
       "    <tr>\n",
       "      <th>14.0</th>\n",
       "      <td>104028.619518</td>\n",
       "      <td>14.0</td>\n",
       "    </tr>\n",
       "    <tr>\n",
       "      <th>15.0</th>\n",
       "      <td>103997.743846</td>\n",
       "      <td>15.0</td>\n",
       "    </tr>\n",
       "    <tr>\n",
       "      <th>16.0</th>\n",
       "      <td>100361.212418</td>\n",
       "      <td>16.0</td>\n",
       "    </tr>\n",
       "    <tr>\n",
       "      <th>17.0</th>\n",
       "      <td>96523.257016</td>\n",
       "      <td>17.0</td>\n",
       "    </tr>\n",
       "    <tr>\n",
       "      <th>18.0</th>\n",
       "      <td>96362.305131</td>\n",
       "      <td>18.0</td>\n",
       "    </tr>\n",
       "    <tr>\n",
       "      <th>19.0</th>\n",
       "      <td>97737.086086</td>\n",
       "      <td>19.0</td>\n",
       "    </tr>\n",
       "    <tr>\n",
       "      <th>20.0</th>\n",
       "      <td>103081.679025</td>\n",
       "      <td>20.0</td>\n",
       "    </tr>\n",
       "    <tr>\n",
       "      <th>21.0</th>\n",
       "      <td>94509.188656</td>\n",
       "      <td>21.0</td>\n",
       "    </tr>\n",
       "    <tr>\n",
       "      <th>22.0</th>\n",
       "      <td>91330.425050</td>\n",
       "      <td>22.0</td>\n",
       "    </tr>\n",
       "    <tr>\n",
       "      <th>23.0</th>\n",
       "      <td>91726.285167</td>\n",
       "      <td>23.0</td>\n",
       "    </tr>\n",
       "    <tr>\n",
       "      <th>24.0</th>\n",
       "      <td>85736.904595</td>\n",
       "      <td>24.0</td>\n",
       "    </tr>\n",
       "    <tr>\n",
       "      <th>25.0</th>\n",
       "      <td>90083.289655</td>\n",
       "      <td>25.0</td>\n",
       "    </tr>\n",
       "    <tr>\n",
       "      <th>26.0</th>\n",
       "      <td>89047.892512</td>\n",
       "      <td>26.0</td>\n",
       "    </tr>\n",
       "    <tr>\n",
       "      <th>27.0</th>\n",
       "      <td>132115.709459</td>\n",
       "      <td>27.0</td>\n",
       "    </tr>\n",
       "    <tr>\n",
       "      <th>28.0</th>\n",
       "      <td>81161.915320</td>\n",
       "      <td>28.0</td>\n",
       "    </tr>\n",
       "    <tr>\n",
       "      <th>29.0</th>\n",
       "      <td>72953.365445</td>\n",
       "      <td>29.0</td>\n",
       "    </tr>\n",
       "  </tbody>\n",
       "</table>\n",
       "</div>"
      ],
      "text/plain": [
       "                        price_square_meter  cityCenters_nearest_KM\n",
       "cityCenters_nearest_KM                                            \n",
       "0.0                          197096.242249                     0.0\n",
       "1.0                          144444.093178                     1.0\n",
       "2.0                          136171.794084                     2.0\n",
       "3.0                          118359.570965                     3.0\n",
       "4.0                          127305.900692                     4.0\n",
       "5.0                          135160.599926                     5.0\n",
       "6.0                          141562.901771                     6.0\n",
       "7.0                          141705.173820                     7.0\n",
       "8.0                          123636.393210                     8.0\n",
       "9.0                          113148.588888                     9.0\n",
       "10.0                         112882.505918                    10.0\n",
       "11.0                         108213.326721                    11.0\n",
       "12.0                         108756.693940                    12.0\n",
       "13.0                         108052.759327                    13.0\n",
       "14.0                         104028.619518                    14.0\n",
       "15.0                         103997.743846                    15.0\n",
       "16.0                         100361.212418                    16.0\n",
       "17.0                          96523.257016                    17.0\n",
       "18.0                          96362.305131                    18.0\n",
       "19.0                          97737.086086                    19.0\n",
       "20.0                         103081.679025                    20.0\n",
       "21.0                          94509.188656                    21.0\n",
       "22.0                          91330.425050                    22.0\n",
       "23.0                          91726.285167                    23.0\n",
       "24.0                          85736.904595                    24.0\n",
       "25.0                          90083.289655                    25.0\n",
       "26.0                          89047.892512                    26.0\n",
       "27.0                         132115.709459                    27.0\n",
       "28.0                          81161.915320                    28.0\n",
       "29.0                          72953.365445                    29.0"
      ]
     },
     "execution_count": 34,
     "metadata": {},
     "output_type": "execute_result"
    }
   ],
   "source": [
    "#код ревьюера\n",
    "#здесь лучше округлить значения, чтобы на графике не было зашумленности\n",
    "\n",
    "filt_data['cityCenters_nearest_KM'] = filt_data['cityCenters_nearest_KM'].round()\n",
    "spb = filt_data.query('locality_name == \"Санкт-Петербург\"')\n",
    "spb_hist = spb.groupby('cityCenters_nearest_KM')['price_square_meter'].mean().head(100).to_frame()\n",
    "spb_hist['cityCenters_nearest_KM'] = spb_hist.index\n",
    "spb_hist"
   ]
  },
  {
   "cell_type": "code",
   "execution_count": 37,
   "metadata": {},
   "outputs": [
    {
     "data": {
      "text/plain": [
       "<AxesSubplot:xlabel='cityCenters_nearest_KM'>"
      ]
     },
     "execution_count": 37,
     "metadata": {},
     "output_type": "execute_result"
    },
    {
     "data": {
      "image/png": "[encoded data removed]",
      "text/plain": [
       "<Figure size 720x720 with 1 Axes>"
      ]
     },
     "metadata": {
      "needs_background": "light"
     },
     "output_type": "display_data"
    }
   ],
   "source": [
    "#код ревьюера\n",
    "spb_hist.plot(kind = 'bar', x='cityCenters_nearest_KM', y='price_square_meter',figsize=(10,10), grid = True)"
   ]
  },
  {
   "cell_type": "markdown",
   "metadata": {},
   "source": [
    "на графике видно что цена действительно зависит от места где находится недвижимость(рядом с центром или нет), так же можно заметить аномальные значения которые выбиваются из нормы, нужно проверить причины высокой цены, как нам известно на цену влияет площадь недвижимости, и немного этаж. "
   ]
  },
  {
   "cell_type": "code",
   "execution_count": 31,
   "metadata": {},
   "outputs": [
    {
     "data": {
      "text/html": [
       "<style  type=\"text/css\" >\n",
       "</style><table id=\"T_cf5df_\" ><thead>    <tr>        <th class=\"blank\" ></th>        <th class=\"blank level0\" ></th>        <th class=\"col_heading level0 col0\" >last_price</th>        <th class=\"col_heading level0 col1\" >price_square_meter</th>        <th class=\"col_heading level0 col2\" >total_area</th>    </tr>    <tr>        <th class=\"index_name level0\" >cityCenters_nearest_KM</th>        <th class=\"index_name level1\" >floor_type</th>        <th class=\"blank\" ></th>        <th class=\"blank\" ></th>        <th class=\"blank\" ></th>    </tr></thead><tbody>\n",
       "                <tr>\n",
       "                        <th id=\"T_cf5df_level0_row0\" class=\"row_heading level0 row0\" rowspan=\"3\">1.0</th>\n",
       "                        <th id=\"T_cf5df_level1_row0\" class=\"row_heading level1 row0\" >другой</th>\n",
       "                        <td id=\"T_cf5df_row0_col0\" class=\"data row0 col0\" >12,925,800.00</td>\n",
       "                        <td id=\"T_cf5df_row0_col1\" class=\"data row0 col1\" >151093.265846</td>\n",
       "                        <td id=\"T_cf5df_row0_col2\" class=\"data row0 col2\" >89.98</td>\n",
       "            </tr>\n",
       "            <tr>\n",
       "                                <th id=\"T_cf5df_level1_row1\" class=\"row_heading level1 row1\" >первый</th>\n",
       "                        <td id=\"T_cf5df_row1_col0\" class=\"data row1 col0\" >10,742,449.95</td>\n",
       "                        <td id=\"T_cf5df_row1_col1\" class=\"data row1 col1\" >147766.911726</td>\n",
       "                        <td id=\"T_cf5df_row1_col2\" class=\"data row1 col2\" >74.18</td>\n",
       "            </tr>\n",
       "            <tr>\n",
       "                                <th id=\"T_cf5df_level1_row2\" class=\"row_heading level1 row2\" >последний</th>\n",
       "                        <td id=\"T_cf5df_row2_col0\" class=\"data row2 col0\" >10,169,210.53</td>\n",
       "                        <td id=\"T_cf5df_row2_col1\" class=\"data row2 col1\" >125197.418502</td>\n",
       "                        <td id=\"T_cf5df_row2_col2\" class=\"data row2 col2\" >82.97</td>\n",
       "            </tr>\n",
       "            <tr>\n",
       "                        <th id=\"T_cf5df_level0_row3\" class=\"row_heading level0 row3\" rowspan=\"3\">2.0</th>\n",
       "                        <th id=\"T_cf5df_level1_row3\" class=\"row_heading level1 row3\" >другой</th>\n",
       "                        <td id=\"T_cf5df_row3_col0\" class=\"data row3 col0\" >12,867,974.03</td>\n",
       "                        <td id=\"T_cf5df_row3_col1\" class=\"data row3 col1\" >143885.339159</td>\n",
       "                        <td id=\"T_cf5df_row3_col2\" class=\"data row3 col2\" >94.92</td>\n",
       "            </tr>\n",
       "            <tr>\n",
       "                                <th id=\"T_cf5df_level1_row4\" class=\"row_heading level1 row4\" >первый</th>\n",
       "                        <td id=\"T_cf5df_row4_col0\" class=\"data row4 col0\" >9,117,022.73</td>\n",
       "                        <td id=\"T_cf5df_row4_col1\" class=\"data row4 col1\" >122361.782265</td>\n",
       "                        <td id=\"T_cf5df_row4_col2\" class=\"data row4 col2\" >74.98</td>\n",
       "            </tr>\n",
       "            <tr>\n",
       "                                <th id=\"T_cf5df_level1_row5\" class=\"row_heading level1 row5\" >последний</th>\n",
       "                        <td id=\"T_cf5df_row5_col0\" class=\"data row5 col0\" >11,312,811.59</td>\n",
       "                        <td id=\"T_cf5df_row5_col1\" class=\"data row5 col1\" >127762.440149</td>\n",
       "                        <td id=\"T_cf5df_row5_col2\" class=\"data row5 col2\" >87.85</td>\n",
       "            </tr>\n",
       "            <tr>\n",
       "                        <th id=\"T_cf5df_level0_row6\" class=\"row_heading level0 row6\" rowspan=\"3\">3.0</th>\n",
       "                        <th id=\"T_cf5df_level1_row6\" class=\"row_heading level1 row6\" >другой</th>\n",
       "                        <td id=\"T_cf5df_row6_col0\" class=\"data row6 col0\" >10,836,747.71</td>\n",
       "                        <td id=\"T_cf5df_row6_col1\" class=\"data row6 col1\" >121938.335826</td>\n",
       "                        <td id=\"T_cf5df_row6_col2\" class=\"data row6 col2\" >89.62</td>\n",
       "            </tr>\n",
       "            <tr>\n",
       "                                <th id=\"T_cf5df_level1_row7\" class=\"row_heading level1 row7\" >первый</th>\n",
       "                        <td id=\"T_cf5df_row7_col0\" class=\"data row7 col0\" >7,528,677.36</td>\n",
       "                        <td id=\"T_cf5df_row7_col1\" class=\"data row7 col1\" >110754.090097</td>\n",
       "                        <td id=\"T_cf5df_row7_col2\" class=\"data row7 col2\" >67.22</td>\n",
       "            </tr>\n",
       "            <tr>\n",
       "                                <th id=\"T_cf5df_level1_row8\" class=\"row_heading level1 row8\" >последний</th>\n",
       "                        <td id=\"T_cf5df_row8_col0\" class=\"data row8 col0\" >9,633,070.58</td>\n",
       "                        <td id=\"T_cf5df_row8_col1\" class=\"data row8 col1\" >114223.595736</td>\n",
       "                        <td id=\"T_cf5df_row8_col2\" class=\"data row8 col2\" >85.37</td>\n",
       "            </tr>\n",
       "            <tr>\n",
       "                        <th id=\"T_cf5df_level0_row9\" class=\"row_heading level0 row9\" rowspan=\"3\">4.0</th>\n",
       "                        <th id=\"T_cf5df_level1_row9\" class=\"row_heading level1 row9\" >другой</th>\n",
       "                        <td id=\"T_cf5df_row9_col0\" class=\"data row9 col0\" >11,260,586.27</td>\n",
       "                        <td id=\"T_cf5df_row9_col1\" class=\"data row9 col1\" >129690.116328</td>\n",
       "                        <td id=\"T_cf5df_row9_col2\" class=\"data row9 col2\" >88.35</td>\n",
       "            </tr>\n",
       "            <tr>\n",
       "                                <th id=\"T_cf5df_level1_row10\" class=\"row_heading level1 row10\" >первый</th>\n",
       "                        <td id=\"T_cf5df_row10_col0\" class=\"data row10 col0\" >7,816,493.15</td>\n",
       "                        <td id=\"T_cf5df_row10_col1\" class=\"data row10 col1\" >115711.877991</td>\n",
       "                        <td id=\"T_cf5df_row10_col2\" class=\"data row10 col2\" >69.94</td>\n",
       "            </tr>\n",
       "            <tr>\n",
       "                                <th id=\"T_cf5df_level1_row11\" class=\"row_heading level1 row11\" >последний</th>\n",
       "                        <td id=\"T_cf5df_row11_col0\" class=\"data row11 col0\" >11,411,882.61</td>\n",
       "                        <td id=\"T_cf5df_row11_col1\" class=\"data row11 col1\" >124898.882138</td>\n",
       "                        <td id=\"T_cf5df_row11_col2\" class=\"data row11 col2\" >91.21</td>\n",
       "            </tr>\n",
       "            <tr>\n",
       "                        <th id=\"T_cf5df_level0_row12\" class=\"row_heading level0 row12\" rowspan=\"3\">5.0</th>\n",
       "                        <th id=\"T_cf5df_level1_row12\" class=\"row_heading level1 row12\" >другой</th>\n",
       "                        <td id=\"T_cf5df_row12_col0\" class=\"data row12 col0\" >11,672,090.16</td>\n",
       "                        <td id=\"T_cf5df_row12_col1\" class=\"data row12 col1\" >138081.745499</td>\n",
       "                        <td id=\"T_cf5df_row12_col2\" class=\"data row12 col2\" >84.89</td>\n",
       "            </tr>\n",
       "            <tr>\n",
       "                                <th id=\"T_cf5df_level1_row13\" class=\"row_heading level1 row13\" >первый</th>\n",
       "                        <td id=\"T_cf5df_row13_col0\" class=\"data row13 col0\" >7,411,124.29</td>\n",
       "                        <td id=\"T_cf5df_row13_col1\" class=\"data row13 col1\" >109663.330820</td>\n",
       "                        <td id=\"T_cf5df_row13_col2\" class=\"data row13 col2\" >69.17</td>\n",
       "            </tr>\n",
       "            <tr>\n",
       "                                <th id=\"T_cf5df_level1_row14\" class=\"row_heading level1 row14\" >последний</th>\n",
       "                        <td id=\"T_cf5df_row14_col0\" class=\"data row14 col0\" >12,178,340.67</td>\n",
       "                        <td id=\"T_cf5df_row14_col1\" class=\"data row14 col1\" >134939.270561</td>\n",
       "                        <td id=\"T_cf5df_row14_col2\" class=\"data row14 col2\" >90.57</td>\n",
       "            </tr>\n",
       "            <tr>\n",
       "                        <th id=\"T_cf5df_level0_row15\" class=\"row_heading level0 row15\" rowspan=\"3\">6.0</th>\n",
       "                        <th id=\"T_cf5df_level1_row15\" class=\"row_heading level1 row15\" >другой</th>\n",
       "                        <td id=\"T_cf5df_row15_col0\" class=\"data row15 col0\" >12,131,758.16</td>\n",
       "                        <td id=\"T_cf5df_row15_col1\" class=\"data row15 col1\" >147825.456541</td>\n",
       "                        <td id=\"T_cf5df_row15_col2\" class=\"data row15 col2\" >78.63</td>\n",
       "            </tr>\n",
       "            <tr>\n",
       "                                <th id=\"T_cf5df_level1_row16\" class=\"row_heading level1 row16\" >первый</th>\n",
       "                        <td id=\"T_cf5df_row16_col0\" class=\"data row16 col0\" >7,576,721.31</td>\n",
       "                        <td id=\"T_cf5df_row16_col1\" class=\"data row16 col1\" >121082.283807</td>\n",
       "                        <td id=\"T_cf5df_row16_col2\" class=\"data row16 col2\" >59.71</td>\n",
       "            </tr>\n",
       "            <tr>\n",
       "                                <th id=\"T_cf5df_level1_row17\" class=\"row_heading level1 row17\" >последний</th>\n",
       "                        <td id=\"T_cf5df_row17_col0\" class=\"data row17 col0\" >10,331,464.15</td>\n",
       "                        <td id=\"T_cf5df_row17_col1\" class=\"data row17 col1\" >124535.806231</td>\n",
       "                        <td id=\"T_cf5df_row17_col2\" class=\"data row17 col2\" >80.37</td>\n",
       "            </tr>\n",
       "            <tr>\n",
       "                        <th id=\"T_cf5df_level0_row18\" class=\"row_heading level0 row18\" rowspan=\"3\">7.0</th>\n",
       "                        <th id=\"T_cf5df_level1_row18\" class=\"row_heading level1 row18\" >другой</th>\n",
       "                        <td id=\"T_cf5df_row18_col0\" class=\"data row18 col0\" >11,828,304.19</td>\n",
       "                        <td id=\"T_cf5df_row18_col1\" class=\"data row18 col1\" >146932.423313</td>\n",
       "                        <td id=\"T_cf5df_row18_col2\" class=\"data row18 col2\" >75.20</td>\n",
       "            </tr>\n",
       "            <tr>\n",
       "                                <th id=\"T_cf5df_level1_row19\" class=\"row_heading level1 row19\" >первый</th>\n",
       "                        <td id=\"T_cf5df_row19_col0\" class=\"data row19 col0\" >9,461,857.37</td>\n",
       "                        <td id=\"T_cf5df_row19_col1\" class=\"data row19 col1\" >122783.239316</td>\n",
       "                        <td id=\"T_cf5df_row19_col2\" class=\"data row19 col2\" >68.90</td>\n",
       "            </tr>\n",
       "            <tr>\n",
       "                                <th id=\"T_cf5df_level1_row20\" class=\"row_heading level1 row20\" >последний</th>\n",
       "                        <td id=\"T_cf5df_row20_col0\" class=\"data row20 col0\" >9,109,178.57</td>\n",
       "                        <td id=\"T_cf5df_row20_col1\" class=\"data row20 col1\" >124212.177125</td>\n",
       "                        <td id=\"T_cf5df_row20_col2\" class=\"data row20 col2\" >68.12</td>\n",
       "            </tr>\n",
       "            <tr>\n",
       "                        <th id=\"T_cf5df_level0_row21\" class=\"row_heading level0 row21\" rowspan=\"3\">8.0</th>\n",
       "                        <th id=\"T_cf5df_level1_row21\" class=\"row_heading level1 row21\" >другой</th>\n",
       "                        <td id=\"T_cf5df_row21_col0\" class=\"data row21 col0\" >9,228,683.59</td>\n",
       "                        <td id=\"T_cf5df_row21_col1\" class=\"data row21 col1\" >125520.885056</td>\n",
       "                        <td id=\"T_cf5df_row21_col2\" class=\"data row21 col2\" >71.93</td>\n",
       "            </tr>\n",
       "            <tr>\n",
       "                                <th id=\"T_cf5df_level1_row22\" class=\"row_heading level1 row22\" >первый</th>\n",
       "                        <td id=\"T_cf5df_row22_col0\" class=\"data row22 col0\" >5,948,330.78</td>\n",
       "                        <td id=\"T_cf5df_row22_col1\" class=\"data row22 col1\" >107548.289364</td>\n",
       "                        <td id=\"T_cf5df_row22_col2\" class=\"data row22 col2\" >55.70</td>\n",
       "            </tr>\n",
       "            <tr>\n",
       "                                <th id=\"T_cf5df_level1_row23\" class=\"row_heading level1 row23\" >последний</th>\n",
       "                        <td id=\"T_cf5df_row23_col0\" class=\"data row23 col0\" >8,899,634.94</td>\n",
       "                        <td id=\"T_cf5df_row23_col1\" class=\"data row23 col1\" >122689.884374</td>\n",
       "                        <td id=\"T_cf5df_row23_col2\" class=\"data row23 col2\" >69.02</td>\n",
       "            </tr>\n",
       "            <tr>\n",
       "                        <th id=\"T_cf5df_level0_row24\" class=\"row_heading level0 row24\" rowspan=\"3\">9.0</th>\n",
       "                        <th id=\"T_cf5df_level1_row24\" class=\"row_heading level1 row24\" >другой</th>\n",
       "                        <td id=\"T_cf5df_row24_col0\" class=\"data row24 col0\" >6,980,262.58</td>\n",
       "                        <td id=\"T_cf5df_row24_col1\" class=\"data row24 col1\" >114170.908000</td>\n",
       "                        <td id=\"T_cf5df_row24_col2\" class=\"data row24 col2\" >59.31</td>\n",
       "            </tr>\n",
       "            <tr>\n",
       "                                <th id=\"T_cf5df_level1_row25\" class=\"row_heading level1 row25\" >первый</th>\n",
       "                        <td id=\"T_cf5df_row25_col0\" class=\"data row25 col0\" >5,795,098.04</td>\n",
       "                        <td id=\"T_cf5df_row25_col1\" class=\"data row25 col1\" >104045.077758</td>\n",
       "                        <td id=\"T_cf5df_row25_col2\" class=\"data row25 col2\" >54.22</td>\n",
       "            </tr>\n",
       "            <tr>\n",
       "                                <th id=\"T_cf5df_level1_row26\" class=\"row_heading level1 row26\" >последний</th>\n",
       "                        <td id=\"T_cf5df_row26_col0\" class=\"data row26 col0\" >7,456,054.22</td>\n",
       "                        <td id=\"T_cf5df_row26_col1\" class=\"data row26 col1\" >113261.204103</td>\n",
       "                        <td id=\"T_cf5df_row26_col2\" class=\"data row26 col2\" >62.61</td>\n",
       "            </tr>\n",
       "            <tr>\n",
       "                        <th id=\"T_cf5df_level0_row27\" class=\"row_heading level0 row27\" rowspan=\"3\">10.0</th>\n",
       "                        <th id=\"T_cf5df_level1_row27\" class=\"row_heading level1 row27\" >другой</th>\n",
       "                        <td id=\"T_cf5df_row27_col0\" class=\"data row27 col0\" >6,744,824.82</td>\n",
       "                        <td id=\"T_cf5df_row27_col1\" class=\"data row27 col1\" >115794.648424</td>\n",
       "                        <td id=\"T_cf5df_row27_col2\" class=\"data row27 col2\" >56.88</td>\n",
       "            </tr>\n",
       "            <tr>\n",
       "                                <th id=\"T_cf5df_level1_row28\" class=\"row_heading level1 row28\" >первый</th>\n",
       "                        <td id=\"T_cf5df_row28_col0\" class=\"data row28 col0\" >5,094,864.86</td>\n",
       "                        <td id=\"T_cf5df_row28_col1\" class=\"data row28 col1\" >96643.346734</td>\n",
       "                        <td id=\"T_cf5df_row28_col2\" class=\"data row28 col2\" >53.29</td>\n",
       "            </tr>\n",
       "            <tr>\n",
       "                                <th id=\"T_cf5df_level1_row29\" class=\"row_heading level1 row29\" >последний</th>\n",
       "                        <td id=\"T_cf5df_row29_col0\" class=\"data row29 col0\" >5,623,341.92</td>\n",
       "                        <td id=\"T_cf5df_row29_col1\" class=\"data row29 col1\" >108988.712946</td>\n",
       "                        <td id=\"T_cf5df_row29_col2\" class=\"data row29 col2\" >52.09</td>\n",
       "            </tr>\n",
       "            <tr>\n",
       "                        <th id=\"T_cf5df_level0_row30\" class=\"row_heading level0 row30\" rowspan=\"3\">11.0</th>\n",
       "                        <th id=\"T_cf5df_level1_row30\" class=\"row_heading level1 row30\" >другой</th>\n",
       "                        <td id=\"T_cf5df_row30_col0\" class=\"data row30 col0\" >6,311,567.81</td>\n",
       "                        <td id=\"T_cf5df_row30_col1\" class=\"data row30 col1\" >109889.622846</td>\n",
       "                        <td id=\"T_cf5df_row30_col2\" class=\"data row30 col2\" >56.25</td>\n",
       "            </tr>\n",
       "            <tr>\n",
       "                                <th id=\"T_cf5df_level1_row31\" class=\"row_heading level1 row31\" >первый</th>\n",
       "                        <td id=\"T_cf5df_row31_col0\" class=\"data row31 col0\" >5,090,766.16</td>\n",
       "                        <td id=\"T_cf5df_row31_col1\" class=\"data row31 col1\" >97096.808694</td>\n",
       "                        <td id=\"T_cf5df_row31_col2\" class=\"data row31 col2\" >52.66</td>\n",
       "            </tr>\n",
       "            <tr>\n",
       "                                <th id=\"T_cf5df_level1_row32\" class=\"row_heading level1 row32\" >последний</th>\n",
       "                        <td id=\"T_cf5df_row32_col0\" class=\"data row32 col0\" >5,706,971.86</td>\n",
       "                        <td id=\"T_cf5df_row32_col1\" class=\"data row32 col1\" >109085.983493</td>\n",
       "                        <td id=\"T_cf5df_row32_col2\" class=\"data row32 col2\" >51.54</td>\n",
       "            </tr>\n",
       "            <tr>\n",
       "                        <th id=\"T_cf5df_level0_row33\" class=\"row_heading level0 row33\" rowspan=\"3\">12.0</th>\n",
       "                        <th id=\"T_cf5df_level1_row33\" class=\"row_heading level1 row33\" >другой</th>\n",
       "                        <td id=\"T_cf5df_row33_col0\" class=\"data row33 col0\" >6,220,903.77</td>\n",
       "                        <td id=\"T_cf5df_row33_col1\" class=\"data row33 col1\" >111396.479241</td>\n",
       "                        <td id=\"T_cf5df_row33_col2\" class=\"data row33 col2\" >55.16</td>\n",
       "            </tr>\n",
       "            <tr>\n",
       "                                <th id=\"T_cf5df_level1_row34\" class=\"row_heading level1 row34\" >первый</th>\n",
       "                        <td id=\"T_cf5df_row34_col0\" class=\"data row34 col0\" >5,221,160.36</td>\n",
       "                        <td id=\"T_cf5df_row34_col1\" class=\"data row34 col1\" >94264.905420</td>\n",
       "                        <td id=\"T_cf5df_row34_col2\" class=\"data row34 col2\" >55.36</td>\n",
       "            </tr>\n",
       "            <tr>\n",
       "                                <th id=\"T_cf5df_level1_row35\" class=\"row_heading level1 row35\" >последний</th>\n",
       "                        <td id=\"T_cf5df_row35_col0\" class=\"data row35 col0\" >5,400,828.67</td>\n",
       "                        <td id=\"T_cf5df_row35_col1\" class=\"data row35 col1\" >103129.570729</td>\n",
       "                        <td id=\"T_cf5df_row35_col2\" class=\"data row35 col2\" >52.44</td>\n",
       "            </tr>\n",
       "            <tr>\n",
       "                        <th id=\"T_cf5df_level0_row36\" class=\"row_heading level0 row36\" rowspan=\"3\">13.0</th>\n",
       "                        <th id=\"T_cf5df_level1_row36\" class=\"row_heading level1 row36\" >другой</th>\n",
       "                        <td id=\"T_cf5df_row36_col0\" class=\"data row36 col0\" >6,228,507.19</td>\n",
       "                        <td id=\"T_cf5df_row36_col1\" class=\"data row36 col1\" >110514.503514</td>\n",
       "                        <td id=\"T_cf5df_row36_col2\" class=\"data row36 col2\" >56.21</td>\n",
       "            </tr>\n",
       "            <tr>\n",
       "                                <th id=\"T_cf5df_level1_row37\" class=\"row_heading level1 row37\" >первый</th>\n",
       "                        <td id=\"T_cf5df_row37_col0\" class=\"data row37 col0\" >4,852,719.51</td>\n",
       "                        <td id=\"T_cf5df_row37_col1\" class=\"data row37 col1\" >93126.385006</td>\n",
       "                        <td id=\"T_cf5df_row37_col2\" class=\"data row37 col2\" >53.32</td>\n",
       "            </tr>\n",
       "            <tr>\n",
       "                                <th id=\"T_cf5df_level1_row38\" class=\"row_heading level1 row38\" >последний</th>\n",
       "                        <td id=\"T_cf5df_row38_col0\" class=\"data row38 col0\" >5,656,523.65</td>\n",
       "                        <td id=\"T_cf5df_row38_col1\" class=\"data row38 col1\" >99575.012831</td>\n",
       "                        <td id=\"T_cf5df_row38_col2\" class=\"data row38 col2\" >56.78</td>\n",
       "            </tr>\n",
       "            <tr>\n",
       "                        <th id=\"T_cf5df_level0_row39\" class=\"row_heading level0 row39\" rowspan=\"3\">14.0</th>\n",
       "                        <th id=\"T_cf5df_level1_row39\" class=\"row_heading level1 row39\" >другой</th>\n",
       "                        <td id=\"T_cf5df_row39_col0\" class=\"data row39 col0\" >5,640,665.20</td>\n",
       "                        <td id=\"T_cf5df_row39_col1\" class=\"data row39 col1\" >105711.263688</td>\n",
       "                        <td id=\"T_cf5df_row39_col2\" class=\"data row39 col2\" >53.82</td>\n",
       "            </tr>\n",
       "            <tr>\n",
       "                                <th id=\"T_cf5df_level1_row40\" class=\"row_heading level1 row40\" >первый</th>\n",
       "                        <td id=\"T_cf5df_row40_col0\" class=\"data row40 col0\" >5,048,514.02</td>\n",
       "                        <td id=\"T_cf5df_row40_col1\" class=\"data row40 col1\" >93096.963896</td>\n",
       "                        <td id=\"T_cf5df_row40_col2\" class=\"data row40 col2\" >54.87</td>\n",
       "            </tr>\n",
       "            <tr>\n",
       "                                <th id=\"T_cf5df_level1_row41\" class=\"row_heading level1 row41\" >последний</th>\n",
       "                        <td id=\"T_cf5df_row41_col0\" class=\"data row41 col0\" >5,483,569.11</td>\n",
       "                        <td id=\"T_cf5df_row41_col1\" class=\"data row41 col1\" >99502.556369</td>\n",
       "                        <td id=\"T_cf5df_row41_col2\" class=\"data row41 col2\" >54.79</td>\n",
       "            </tr>\n",
       "            <tr>\n",
       "                        <th id=\"T_cf5df_level0_row42\" class=\"row_heading level0 row42\" rowspan=\"3\">15.0</th>\n",
       "                        <th id=\"T_cf5df_level1_row42\" class=\"row_heading level1 row42\" >другой</th>\n",
       "                        <td id=\"T_cf5df_row42_col0\" class=\"data row42 col0\" >5,832,175.11</td>\n",
       "                        <td id=\"T_cf5df_row42_col1\" class=\"data row42 col1\" >105720.634711</td>\n",
       "                        <td id=\"T_cf5df_row42_col2\" class=\"data row42 col2\" >55.31</td>\n",
       "            </tr>\n",
       "            <tr>\n",
       "                                <th id=\"T_cf5df_level1_row43\" class=\"row_heading level1 row43\" >первый</th>\n",
       "                        <td id=\"T_cf5df_row43_col0\" class=\"data row43 col0\" >4,923,650.34</td>\n",
       "                        <td id=\"T_cf5df_row43_col1\" class=\"data row43 col1\" >90570.946176</td>\n",
       "                        <td id=\"T_cf5df_row43_col2\" class=\"data row43 col2\" >54.04</td>\n",
       "            </tr>\n",
       "            <tr>\n",
       "                                <th id=\"T_cf5df_level1_row44\" class=\"row_heading level1 row44\" >последний</th>\n",
       "                        <td id=\"T_cf5df_row44_col0\" class=\"data row44 col0\" >5,901,585.03</td>\n",
       "                        <td id=\"T_cf5df_row44_col1\" class=\"data row44 col1\" >102455.635337</td>\n",
       "                        <td id=\"T_cf5df_row44_col2\" class=\"data row44 col2\" >55.93</td>\n",
       "            </tr>\n",
       "            <tr>\n",
       "                        <th id=\"T_cf5df_level0_row45\" class=\"row_heading level0 row45\" rowspan=\"3\">16.0</th>\n",
       "                        <th id=\"T_cf5df_level1_row45\" class=\"row_heading level1 row45\" >другой</th>\n",
       "                        <td id=\"T_cf5df_row45_col0\" class=\"data row45 col0\" >5,430,293.30</td>\n",
       "                        <td id=\"T_cf5df_row45_col1\" class=\"data row45 col1\" >102160.588663</td>\n",
       "                        <td id=\"T_cf5df_row45_col2\" class=\"data row45 col2\" >53.37</td>\n",
       "            </tr>\n",
       "            <tr>\n",
       "                                <th id=\"T_cf5df_level1_row46\" class=\"row_heading level1 row46\" >первый</th>\n",
       "                        <td id=\"T_cf5df_row46_col0\" class=\"data row46 col0\" >5,071,870.98</td>\n",
       "                        <td id=\"T_cf5df_row46_col1\" class=\"data row46 col1\" >88877.455958</td>\n",
       "                        <td id=\"T_cf5df_row46_col2\" class=\"data row46 col2\" >56.49</td>\n",
       "            </tr>\n",
       "            <tr>\n",
       "                                <th id=\"T_cf5df_level1_row47\" class=\"row_heading level1 row47\" >последний</th>\n",
       "                        <td id=\"T_cf5df_row47_col0\" class=\"data row47 col0\" >5,002,876.94</td>\n",
       "                        <td id=\"T_cf5df_row47_col1\" class=\"data row47 col1\" >97446.508688</td>\n",
       "                        <td id=\"T_cf5df_row47_col2\" class=\"data row47 col2\" >51.95</td>\n",
       "            </tr>\n",
       "            <tr>\n",
       "                        <th id=\"T_cf5df_level0_row48\" class=\"row_heading level0 row48\" rowspan=\"3\">17.0</th>\n",
       "                        <th id=\"T_cf5df_level1_row48\" class=\"row_heading level1 row48\" >другой</th>\n",
       "                        <td id=\"T_cf5df_row48_col0\" class=\"data row48 col0\" >5,257,847.34</td>\n",
       "                        <td id=\"T_cf5df_row48_col1\" class=\"data row48 col1\" >98255.027276</td>\n",
       "                        <td id=\"T_cf5df_row48_col2\" class=\"data row48 col2\" >53.82</td>\n",
       "            </tr>\n",
       "            <tr>\n",
       "                                <th id=\"T_cf5df_level1_row49\" class=\"row_heading level1 row49\" >первый</th>\n",
       "                        <td id=\"T_cf5df_row49_col0\" class=\"data row49 col0\" >4,945,765.14</td>\n",
       "                        <td id=\"T_cf5df_row49_col1\" class=\"data row49 col1\" >86835.267250</td>\n",
       "                        <td id=\"T_cf5df_row49_col2\" class=\"data row49 col2\" >57.65</td>\n",
       "            </tr>\n",
       "            <tr>\n",
       "                                <th id=\"T_cf5df_level1_row50\" class=\"row_heading level1 row50\" >последний</th>\n",
       "                        <td id=\"T_cf5df_row50_col0\" class=\"data row50 col0\" >5,332,089.85</td>\n",
       "                        <td id=\"T_cf5df_row50_col1\" class=\"data row50 col1\" >94503.241397</td>\n",
       "                        <td id=\"T_cf5df_row50_col2\" class=\"data row50 col2\" >55.27</td>\n",
       "            </tr>\n",
       "            <tr>\n",
       "                        <th id=\"T_cf5df_level0_row51\" class=\"row_heading level0 row51\" rowspan=\"3\">18.0</th>\n",
       "                        <th id=\"T_cf5df_level1_row51\" class=\"row_heading level1 row51\" >другой</th>\n",
       "                        <td id=\"T_cf5df_row51_col0\" class=\"data row51 col0\" >5,059,587.87</td>\n",
       "                        <td id=\"T_cf5df_row51_col1\" class=\"data row51 col1\" >98372.116306</td>\n",
       "                        <td id=\"T_cf5df_row51_col2\" class=\"data row51 col2\" >52.64</td>\n",
       "            </tr>\n",
       "            <tr>\n",
       "                                <th id=\"T_cf5df_level1_row52\" class=\"row_heading level1 row52\" >первый</th>\n",
       "                        <td id=\"T_cf5df_row52_col0\" class=\"data row52 col0\" >4,284,476.61</td>\n",
       "                        <td id=\"T_cf5df_row52_col1\" class=\"data row52 col1\" >85531.022969</td>\n",
       "                        <td id=\"T_cf5df_row52_col2\" class=\"data row52 col2\" >49.54</td>\n",
       "            </tr>\n",
       "            <tr>\n",
       "                                <th id=\"T_cf5df_level1_row53\" class=\"row_heading level1 row53\" >последний</th>\n",
       "                        <td id=\"T_cf5df_row53_col0\" class=\"data row53 col0\" >4,399,300.00</td>\n",
       "                        <td id=\"T_cf5df_row53_col1\" class=\"data row53 col1\" >90932.578421</td>\n",
       "                        <td id=\"T_cf5df_row53_col2\" class=\"data row53 col2\" >48.25</td>\n",
       "            </tr>\n",
       "            <tr>\n",
       "                        <th id=\"T_cf5df_level0_row54\" class=\"row_heading level0 row54\" rowspan=\"3\">19.0</th>\n",
       "                        <th id=\"T_cf5df_level1_row54\" class=\"row_heading level1 row54\" >другой</th>\n",
       "                        <td id=\"T_cf5df_row54_col0\" class=\"data row54 col0\" >5,206,912.98</td>\n",
       "                        <td id=\"T_cf5df_row54_col1\" class=\"data row54 col1\" >101699.735443</td>\n",
       "                        <td id=\"T_cf5df_row54_col2\" class=\"data row54 col2\" >50.75</td>\n",
       "            </tr>\n",
       "            <tr>\n",
       "                                <th id=\"T_cf5df_level1_row55\" class=\"row_heading level1 row55\" >первый</th>\n",
       "                        <td id=\"T_cf5df_row55_col0\" class=\"data row55 col0\" >4,279,555.56</td>\n",
       "                        <td id=\"T_cf5df_row55_col1\" class=\"data row55 col1\" >82931.458448</td>\n",
       "                        <td id=\"T_cf5df_row55_col2\" class=\"data row55 col2\" >54.45</td>\n",
       "            </tr>\n",
       "            <tr>\n",
       "                                <th id=\"T_cf5df_level1_row56\" class=\"row_heading level1 row56\" >последний</th>\n",
       "                        <td id=\"T_cf5df_row56_col0\" class=\"data row56 col0\" >4,795,719.59</td>\n",
       "                        <td id=\"T_cf5df_row56_col1\" class=\"data row56 col1\" >85908.184518</td>\n",
       "                        <td id=\"T_cf5df_row56_col2\" class=\"data row56 col2\" >58.73</td>\n",
       "            </tr>\n",
       "            <tr>\n",
       "                        <th id=\"T_cf5df_level0_row57\" class=\"row_heading level0 row57\" rowspan=\"3\">20.0</th>\n",
       "                        <th id=\"T_cf5df_level1_row57\" class=\"row_heading level1 row57\" >другой</th>\n",
       "                        <td id=\"T_cf5df_row57_col0\" class=\"data row57 col0\" >6,091,858.57</td>\n",
       "                        <td id=\"T_cf5df_row57_col1\" class=\"data row57 col1\" >104492.694138</td>\n",
       "                        <td id=\"T_cf5df_row57_col2\" class=\"data row57 col2\" >59.29</td>\n",
       "            </tr>\n",
       "            <tr>\n",
       "                                <th id=\"T_cf5df_level1_row58\" class=\"row_heading level1 row58\" >первый</th>\n",
       "                        <td id=\"T_cf5df_row58_col0\" class=\"data row58 col0\" >4,700,000.00</td>\n",
       "                        <td id=\"T_cf5df_row58_col1\" class=\"data row58 col1\" >70149.253731</td>\n",
       "                        <td id=\"T_cf5df_row58_col2\" class=\"data row58 col2\" >67.00</td>\n",
       "            </tr>\n",
       "            <tr>\n",
       "                                <th id=\"T_cf5df_level1_row59\" class=\"row_heading level1 row59\" >последний</th>\n",
       "                        <td id=\"T_cf5df_row59_col0\" class=\"data row59 col0\" >3,315,000.00</td>\n",
       "                        <td id=\"T_cf5df_row59_col1\" class=\"data row59 col1\" >88505.559189</td>\n",
       "                        <td id=\"T_cf5df_row59_col2\" class=\"data row59 col2\" >37.35</td>\n",
       "            </tr>\n",
       "            <tr>\n",
       "                        <th id=\"T_cf5df_level0_row60\" class=\"row_heading level0 row60\" rowspan=\"3\">21.0</th>\n",
       "                        <th id=\"T_cf5df_level1_row60\" class=\"row_heading level1 row60\" >другой</th>\n",
       "                        <td id=\"T_cf5df_row60_col0\" class=\"data row60 col0\" >5,214,792.88</td>\n",
       "                        <td id=\"T_cf5df_row60_col1\" class=\"data row60 col1\" >93580.136510</td>\n",
       "                        <td id=\"T_cf5df_row60_col2\" class=\"data row60 col2\" >56.34</td>\n",
       "            </tr>\n",
       "            <tr>\n",
       "                                <th id=\"T_cf5df_level1_row61\" class=\"row_heading level1 row61\" >первый</th>\n",
       "                        <td id=\"T_cf5df_row61_col0\" class=\"data row61 col0\" >5,012,747.08</td>\n",
       "                        <td id=\"T_cf5df_row61_col1\" class=\"data row61 col1\" >87205.968277</td>\n",
       "                        <td id=\"T_cf5df_row61_col2\" class=\"data row61 col2\" >58.87</td>\n",
       "            </tr>\n",
       "            <tr>\n",
       "                                <th id=\"T_cf5df_level1_row62\" class=\"row_heading level1 row62\" >последний</th>\n",
       "                        <td id=\"T_cf5df_row62_col0\" class=\"data row62 col0\" >7,119,057.17</td>\n",
       "                        <td id=\"T_cf5df_row62_col1\" class=\"data row62 col1\" >103816.806939</td>\n",
       "                        <td id=\"T_cf5df_row62_col2\" class=\"data row62 col2\" >69.00</td>\n",
       "            </tr>\n",
       "            <tr>\n",
       "                        <th id=\"T_cf5df_level0_row63\" class=\"row_heading level0 row63\" rowspan=\"3\">22.0</th>\n",
       "                        <th id=\"T_cf5df_level1_row63\" class=\"row_heading level1 row63\" >другой</th>\n",
       "                        <td id=\"T_cf5df_row63_col0\" class=\"data row63 col0\" >5,228,243.63</td>\n",
       "                        <td id=\"T_cf5df_row63_col1\" class=\"data row63 col1\" >92087.513453</td>\n",
       "                        <td id=\"T_cf5df_row63_col2\" class=\"data row63 col2\" >57.68</td>\n",
       "            </tr>\n",
       "            <tr>\n",
       "                                <th id=\"T_cf5df_level1_row64\" class=\"row_heading level1 row64\" >первый</th>\n",
       "                        <td id=\"T_cf5df_row64_col0\" class=\"data row64 col0\" >6,159,585.14</td>\n",
       "                        <td id=\"T_cf5df_row64_col1\" class=\"data row64 col1\" >83257.931280</td>\n",
       "                        <td id=\"T_cf5df_row64_col2\" class=\"data row64 col2\" >75.56</td>\n",
       "            </tr>\n",
       "            <tr>\n",
       "                                <th id=\"T_cf5df_level1_row65\" class=\"row_heading level1 row65\" >последний</th>\n",
       "                        <td id=\"T_cf5df_row65_col0\" class=\"data row65 col0\" >6,467,839.15</td>\n",
       "                        <td id=\"T_cf5df_row65_col1\" class=\"data row65 col1\" >90621.628102</td>\n",
       "                        <td id=\"T_cf5df_row65_col2\" class=\"data row65 col2\" >71.73</td>\n",
       "            </tr>\n",
       "            <tr>\n",
       "                        <th id=\"T_cf5df_level0_row66\" class=\"row_heading level0 row66\" rowspan=\"3\">23.0</th>\n",
       "                        <th id=\"T_cf5df_level1_row66\" class=\"row_heading level1 row66\" >другой</th>\n",
       "                        <td id=\"T_cf5df_row66_col0\" class=\"data row66 col0\" >4,832,409.84</td>\n",
       "                        <td id=\"T_cf5df_row66_col1\" class=\"data row66 col1\" >93273.487532</td>\n",
       "                        <td id=\"T_cf5df_row66_col2\" class=\"data row66 col2\" >53.77</td>\n",
       "            </tr>\n",
       "            <tr>\n",
       "                                <th id=\"T_cf5df_level1_row67\" class=\"row_heading level1 row67\" >первый</th>\n",
       "                        <td id=\"T_cf5df_row67_col0\" class=\"data row67 col0\" >4,149,000.00</td>\n",
       "                        <td id=\"T_cf5df_row67_col1\" class=\"data row67 col1\" >84117.973164</td>\n",
       "                        <td id=\"T_cf5df_row67_col2\" class=\"data row67 col2\" >52.00</td>\n",
       "            </tr>\n",
       "            <tr>\n",
       "                                <th id=\"T_cf5df_level1_row68\" class=\"row_heading level1 row68\" >последний</th>\n",
       "                        <td id=\"T_cf5df_row68_col0\" class=\"data row68 col0\" >4,668,181.82</td>\n",
       "                        <td id=\"T_cf5df_row68_col1\" class=\"data row68 col1\" >89371.327328</td>\n",
       "                        <td id=\"T_cf5df_row68_col2\" class=\"data row68 col2\" >53.58</td>\n",
       "            </tr>\n",
       "            <tr>\n",
       "                        <th id=\"T_cf5df_level0_row69\" class=\"row_heading level0 row69\" rowspan=\"3\">24.0</th>\n",
       "                        <th id=\"T_cf5df_level1_row69\" class=\"row_heading level1 row69\" >другой</th>\n",
       "                        <td id=\"T_cf5df_row69_col0\" class=\"data row69 col0\" >3,854,798.75</td>\n",
       "                        <td id=\"T_cf5df_row69_col1\" class=\"data row69 col1\" >86801.448107</td>\n",
       "                        <td id=\"T_cf5df_row69_col2\" class=\"data row69 col2\" >45.33</td>\n",
       "            </tr>\n",
       "            <tr>\n",
       "                                <th id=\"T_cf5df_level1_row70\" class=\"row_heading level1 row70\" >первый</th>\n",
       "                        <td id=\"T_cf5df_row70_col0\" class=\"data row70 col0\" >2,400,000.00</td>\n",
       "                        <td id=\"T_cf5df_row70_col1\" class=\"data row70 col1\" >54545.454545</td>\n",
       "                        <td id=\"T_cf5df_row70_col2\" class=\"data row70 col2\" >44.00</td>\n",
       "            </tr>\n",
       "            <tr>\n",
       "                                <th id=\"T_cf5df_level1_row71\" class=\"row_heading level1 row71\" >последний</th>\n",
       "                        <td id=\"T_cf5df_row71_col0\" class=\"data row71 col0\" >5,300,000.00</td>\n",
       "                        <td id=\"T_cf5df_row71_col1\" class=\"data row71 col1\" >91379.310345</td>\n",
       "                        <td id=\"T_cf5df_row71_col2\" class=\"data row71 col2\" >58.00</td>\n",
       "            </tr>\n",
       "            <tr>\n",
       "                        <th id=\"T_cf5df_level0_row72\" class=\"row_heading level0 row72\" rowspan=\"3\">25.0</th>\n",
       "                        <th id=\"T_cf5df_level1_row72\" class=\"row_heading level1 row72\" >другой</th>\n",
       "                        <td id=\"T_cf5df_row72_col0\" class=\"data row72 col0\" >4,054,166.67</td>\n",
       "                        <td id=\"T_cf5df_row72_col1\" class=\"data row72 col1\" >93812.461370</td>\n",
       "                        <td id=\"T_cf5df_row72_col2\" class=\"data row72 col2\" >44.79</td>\n",
       "            </tr>\n",
       "            <tr>\n",
       "                                <th id=\"T_cf5df_level1_row73\" class=\"row_heading level1 row73\" >первый</th>\n",
       "                        <td id=\"T_cf5df_row73_col0\" class=\"data row73 col0\" >4,287,500.00</td>\n",
       "                        <td id=\"T_cf5df_row73_col1\" class=\"data row73 col1\" >68613.537023</td>\n",
       "                        <td id=\"T_cf5df_row73_col2\" class=\"data row73 col2\" >64.20</td>\n",
       "            </tr>\n",
       "            <tr>\n",
       "                                <th id=\"T_cf5df_level1_row74\" class=\"row_heading level1 row74\" >последний</th>\n",
       "                        <td id=\"T_cf5df_row74_col0\" class=\"data row74 col0\" >4,680,000.00</td>\n",
       "                        <td id=\"T_cf5df_row74_col1\" class=\"data row74 col1\" >108837.209302</td>\n",
       "                        <td id=\"T_cf5df_row74_col2\" class=\"data row74 col2\" >43.00</td>\n",
       "            </tr>\n",
       "            <tr>\n",
       "                        <th id=\"T_cf5df_level0_row75\" class=\"row_heading level0 row75\" rowspan=\"3\">26.0</th>\n",
       "                        <th id=\"T_cf5df_level1_row75\" class=\"row_heading level1 row75\" >другой</th>\n",
       "                        <td id=\"T_cf5df_row75_col0\" class=\"data row75 col0\" >4,217,770.74</td>\n",
       "                        <td id=\"T_cf5df_row75_col1\" class=\"data row75 col1\" >93607.111650</td>\n",
       "                        <td id=\"T_cf5df_row75_col2\" class=\"data row75 col2\" >46.35</td>\n",
       "            </tr>\n",
       "            <tr>\n",
       "                                <th id=\"T_cf5df_level1_row76\" class=\"row_heading level1 row76\" >первый</th>\n",
       "                        <td id=\"T_cf5df_row76_col0\" class=\"data row76 col0\" >3,912,352.78</td>\n",
       "                        <td id=\"T_cf5df_row76_col1\" class=\"data row76 col1\" >81897.163720</td>\n",
       "                        <td id=\"T_cf5df_row76_col2\" class=\"data row76 col2\" >48.49</td>\n",
       "            </tr>\n",
       "            <tr>\n",
       "                                <th id=\"T_cf5df_level1_row77\" class=\"row_heading level1 row77\" >последний</th>\n",
       "                        <td id=\"T_cf5df_row77_col0\" class=\"data row77 col0\" >4,714,861.25</td>\n",
       "                        <td id=\"T_cf5df_row77_col1\" class=\"data row77 col1\" >83984.707379</td>\n",
       "                        <td id=\"T_cf5df_row77_col2\" class=\"data row77 col2\" >56.57</td>\n",
       "            </tr>\n",
       "            <tr>\n",
       "                        <th id=\"T_cf5df_level0_row78\" class=\"row_heading level0 row78\" rowspan=\"2\">27.0</th>\n",
       "                        <th id=\"T_cf5df_level1_row78\" class=\"row_heading level1 row78\" >другой</th>\n",
       "                        <td id=\"T_cf5df_row78_col0\" class=\"data row78 col0\" >14,350,000.00</td>\n",
       "                        <td id=\"T_cf5df_row78_col1\" class=\"data row78 col1\" >193918.918919</td>\n",
       "                        <td id=\"T_cf5df_row78_col2\" class=\"data row78 col2\" >74.00</td>\n",
       "            </tr>\n",
       "            <tr>\n",
       "                                <th id=\"T_cf5df_level1_row79\" class=\"row_heading level1 row79\" >последний</th>\n",
       "                        <td id=\"T_cf5df_row79_col0\" class=\"data row79 col0\" >2,250,000.00</td>\n",
       "                        <td id=\"T_cf5df_row79_col1\" class=\"data row79 col1\" >70312.500000</td>\n",
       "                        <td id=\"T_cf5df_row79_col2\" class=\"data row79 col2\" >32.00</td>\n",
       "            </tr>\n",
       "            <tr>\n",
       "                        <th id=\"T_cf5df_level0_row80\" class=\"row_heading level0 row80\" rowspan=\"3\">28.0</th>\n",
       "                        <th id=\"T_cf5df_level1_row80\" class=\"row_heading level1 row80\" >другой</th>\n",
       "                        <td id=\"T_cf5df_row80_col0\" class=\"data row80 col0\" >5,409,500.00</td>\n",
       "                        <td id=\"T_cf5df_row80_col1\" class=\"data row80 col1\" >84526.156019</td>\n",
       "                        <td id=\"T_cf5df_row80_col2\" class=\"data row80 col2\" >70.00</td>\n",
       "            </tr>\n",
       "            <tr>\n",
       "                                <th id=\"T_cf5df_level1_row81\" class=\"row_heading level1 row81\" >первый</th>\n",
       "                        <td id=\"T_cf5df_row81_col0\" class=\"data row81 col0\" >4,201,500.00</td>\n",
       "                        <td id=\"T_cf5df_row81_col1\" class=\"data row81 col1\" >74826.891582</td>\n",
       "                        <td id=\"T_cf5df_row81_col2\" class=\"data row81 col2\" >57.00</td>\n",
       "            </tr>\n",
       "            <tr>\n",
       "                                <th id=\"T_cf5df_level1_row82\" class=\"row_heading level1 row82\" >последний</th>\n",
       "                        <td id=\"T_cf5df_row82_col0\" class=\"data row82 col0\" >5,144,000.00</td>\n",
       "                        <td id=\"T_cf5df_row82_col1\" class=\"data row82 col1\" >80375.000000</td>\n",
       "                        <td id=\"T_cf5df_row82_col2\" class=\"data row82 col2\" >64.00</td>\n",
       "            </tr>\n",
       "            <tr>\n",
       "                        <th id=\"T_cf5df_level0_row83\" class=\"row_heading level0 row83\" rowspan=\"3\">29.0</th>\n",
       "                        <th id=\"T_cf5df_level1_row83\" class=\"row_heading level1 row83\" >другой</th>\n",
       "                        <td id=\"T_cf5df_row83_col0\" class=\"data row83 col0\" >4,850,000.00</td>\n",
       "                        <td id=\"T_cf5df_row83_col1\" class=\"data row83 col1\" >56526.806527</td>\n",
       "                        <td id=\"T_cf5df_row83_col2\" class=\"data row83 col2\" >85.80</td>\n",
       "            </tr>\n",
       "            <tr>\n",
       "                                <th id=\"T_cf5df_level1_row84\" class=\"row_heading level1 row84\" >первый</th>\n",
       "                        <td id=\"T_cf5df_row84_col0\" class=\"data row84 col0\" >4,050,000.00</td>\n",
       "                        <td id=\"T_cf5df_row84_col1\" class=\"data row84 col1\" >75325.768839</td>\n",
       "                        <td id=\"T_cf5df_row84_col2\" class=\"data row84 col2\" >53.20</td>\n",
       "            </tr>\n",
       "            <tr>\n",
       "                                <th id=\"T_cf5df_level1_row85\" class=\"row_heading level1 row85\" >последний</th>\n",
       "                        <td id=\"T_cf5df_row85_col0\" class=\"data row85 col0\" >4,370,000.00</td>\n",
       "                        <td id=\"T_cf5df_row85_col1\" class=\"data row85 col1\" >79890.310786</td>\n",
       "                        <td id=\"T_cf5df_row85_col2\" class=\"data row85 col2\" >54.70</td>\n",
       "            </tr>\n",
       "    </tbody></table>"
      ],
      "text/plain": [
       "<pandas.io.formats.style.Styler at 0x7f881d0d0070>"
      ]
     },
     "execution_count": 31,
     "metadata": {},
     "output_type": "execute_result"
    }
   ],
   "source": [
    "filt_data['cityCenters_nearest_KM'] = filt_data['cityCenters_nearest_KM'].round() # округление расстояния до центра \n",
    "price_by_city_center_3 = (filt_data[(filt_data['locality_name'] == 'Санкт-Петербург') # спб и расстояние до центра\n",
    "                                          & (filt_data['cityCenters_nearest_KM'] )]\n",
    "                                          .pivot_table(index=['cityCenters_nearest_KM', 'floor_type'] # создание таблицы с расстоянием и типа этажа\n",
    "                                                       , values=['price_square_meter', 'last_price', 'total_area'] # значения цены за кв метр последней цены и общей площади\n",
    "                                                       , aggfunc='mean')).style.format({'last_price': '{:,.2f}'\n",
    "                                                         , 'meter_price': '{:,.2f}'\n",
    "                                                         , 'total_area': '{:,.2f}'}\n",
    "                                                       )\n",
    "                         \n",
    "price_by_city_center_3"
   ]
  },
  {
   "cell_type": "markdown",
   "metadata": {},
   "source": [
    "в сводной таблице как раз видно, что на расстоянии трех километров, недвижимость с этажем \"другой\" стоит дороже, так же общая площадь у нее выше, скорее всего поэтому есть высокая точка на графике.\n",
    "на четырех километрах можно заметить тоже самое.\n",
    "самую большую аномалию можно увидеть на расстоянии 27 километров, нужно взглянуть на эту строчку \"поближе\"."
   ]
  },
  {
   "cell_type": "code",
   "execution_count": 32,
   "metadata": {},
   "outputs": [
    {
     "data": {
      "text/html": [
       "<div>\n",
       "<style scoped>\n",
       "    .dataframe tbody tr th:only-of-type {\n",
       "        vertical-align: middle;\n",
       "    }\n",
       "\n",
       "    .dataframe tbody tr th {\n",
       "        vertical-align: top;\n",
       "    }\n",
       "\n",
       "    .dataframe thead th {\n",
       "        text-align: right;\n",
       "    }\n",
       "</style>\n",
       "<table border=\"1\" class=\"dataframe\">\n",
       "  <thead>\n",
       "    <tr style=\"text-align: right;\">\n",
       "      <th></th>\n",
       "      <th>total_images</th>\n",
       "      <th>last_price</th>\n",
       "      <th>total_area</th>\n",
       "      <th>first_day_exposition</th>\n",
       "      <th>rooms</th>\n",
       "      <th>ceiling_height</th>\n",
       "      <th>floors_total</th>\n",
       "      <th>living_area</th>\n",
       "      <th>floor</th>\n",
       "      <th>is_apartment</th>\n",
       "      <th>...</th>\n",
       "      <th>ponds_around3000</th>\n",
       "      <th>ponds_nearest</th>\n",
       "      <th>days_exposition</th>\n",
       "      <th>first_day_year</th>\n",
       "      <th>price_square_meter</th>\n",
       "      <th>day_of_week</th>\n",
       "      <th>month</th>\n",
       "      <th>year</th>\n",
       "      <th>floor_type</th>\n",
       "      <th>cityCenters_nearest_KM</th>\n",
       "    </tr>\n",
       "  </thead>\n",
       "  <tbody>\n",
       "    <tr>\n",
       "      <th>748</th>\n",
       "      <td>13</td>\n",
       "      <td>14350000</td>\n",
       "      <td>74.0</td>\n",
       "      <td>2017-11-28</td>\n",
       "      <td>2</td>\n",
       "      <td>3.13</td>\n",
       "      <td>5.0</td>\n",
       "      <td>30.0</td>\n",
       "      <td>3</td>\n",
       "      <td>True</td>\n",
       "      <td>...</td>\n",
       "      <td>0.0</td>\n",
       "      <td>NaN</td>\n",
       "      <td>128.0</td>\n",
       "      <td>2017</td>\n",
       "      <td>193918.918919</td>\n",
       "      <td>1</td>\n",
       "      <td>11</td>\n",
       "      <td>2017</td>\n",
       "      <td>другой</td>\n",
       "      <td>27.0</td>\n",
       "    </tr>\n",
       "  </tbody>\n",
       "</table>\n",
       "<p>1 rows × 29 columns</p>\n",
       "</div>"
      ],
      "text/plain": [
       "     total_images  last_price  total_area first_day_exposition  rooms  \\\n",
       "748            13    14350000        74.0           2017-11-28      2   \n",
       "\n",
       "     ceiling_height  floors_total  living_area  floor  is_apartment  ...  \\\n",
       "748            3.13           5.0         30.0      3          True  ...   \n",
       "\n",
       "     ponds_around3000  ponds_nearest  days_exposition  first_day_year  \\\n",
       "748               0.0            NaN            128.0            2017   \n",
       "\n",
       "    price_square_meter  day_of_week  month  year  floor_type  \\\n",
       "748      193918.918919            1     11  2017      другой   \n",
       "\n",
       "     cityCenters_nearest_KM  \n",
       "748                    27.0  \n",
       "\n",
       "[1 rows x 29 columns]"
      ]
     },
     "execution_count": 32,
     "metadata": {},
     "output_type": "execute_result"
    }
   ],
   "source": [
    "filt_data.query('total_area == 74 and cityCenters_nearest_KM == 27') # строка с общей площадью 74 и расстоянием 27 км"
   ]
  },
  {
   "cell_type": "markdown",
   "metadata": {},
   "source": [
    "судя по высоте потолка, аппартаменты элитного класса, так же на это намекает то что ее продали за 128 дней, то есть жилье востребованное."
   ]
  },
  {
   "cell_type": "markdown",
   "metadata": {
    "id": "h7VpzkIDAwb-"
   },
   "source": [
    "### Напишите общий вывод"
   ]
  },
  {
   "cell_type": "markdown",
   "metadata": {},
   "source": [
    "была проделана большая работа над данными, исправлены пропущенные значения там где это было целесообразно делать, на среднее число, либо же на 0(кол-во балконов) или буллево значение(True) в аппартаментах, в целом эти два значения на итоговый результат никак не повлияли. были удалены строки без названия населенного пункта, т.к. анализ по ним было бы некорректно проводить.\n",
    "были изменены типы данных на datetime и int, так-же устранены неявные дубликаты.\n",
    "найдены и отфильтрованны аномальные значения 0.5% высоких и 0.5% низких, в общей площади, кухне, жилой площади, комнатах, высоте потолков, последней цены создан новый отфильтрованный датафрейм.\n",
    "добавлены новые столбцы в датафрейм, такие как: цена одного квадратного метра, день публикации объявления (0 - понедельник, 1 - вторник и т. д.), месяц публикации объявления, год публикации объявления, тип этажа квартиры (значения — «первый», «последний», «другой»), расстояние до центра города в километрах.\n",
    "проведен исследовательский анализ данных было выяснено что больше всего недвижимости с площадью меньше 50 квадратных метров при этом минимальное значение 23.5 а максимальное 244, больше всего недвижимости это \"стандартные\" квартиры, самая популярная цена у недвижимости это (2573334 - 4346667), что опять же подтверждает то, что обычных квартир больше всего, при этом максимальное значение 54 миллиона, минимальное же 800 тысяч. больше всего квартир оказалось с 1-2 комнатами, так же присутствуют квартиры со значением 0, это подходит под квартиру-студию, вариация комнат от 0 до 6.\n",
    "высота потолков варируется от 2.6 до 4 метров, самая популярная из них это 2.8 \n",
    "самый популярный этаж - другой, потом идет последний, и самый не популярный это первый этаж.\n",
    "однако больше всего 5ти этажных домов в датафрейме, варируется от 1 до 60 этажа,говорит о том, что есть недвижимость в небоскребах.\n",
    "больше всего недвижимости находится в радиусе 10 км от центра, самый высокий показатель это 65 км, а низкий 180 метров, однако данные не точные, так как имеются пропуски.\n",
    "ближайший парк находится в 500 метрах у большинства недвижимости, но они тоже не точные по той же причине.\n",
    "недвижимость продается за 5-6 месяцев. половина недвижимости в датафрейме продается за 3 месяца. быстрая продажа это продажа недвижимости за 50 дней. необычно долгая продажа это продажа недвижимости за более чем 200 дней.\n",
    "выяснено что есть взаимосвязь между общей площадью, жилой площадью, кухней и ценой, само собой больше всего на цену влияет общая площадь(0.77), отсюда можно понять что цена вырастит если вырастит общая площадь что само по себе логично.\n",
    "корреляция между месяцем и ценой незначительная, тоже самое можно сказать про день и год, разве что цена повышается с каждым последующем годом. \n",
    "а вот корреляция между типом этажа и ценой средняя и положительная, то есть можно сделать вывод что на цену влияет тип этажа, если рассматривать график, можно понять что последний и другой этажи, дороже чем первый.\n",
    "выявлены топ 10 населенных пунктов по количеству объявлений и рассчитаны цены за квадратный метр в них. \n",
    "минимальная цена за квадратный метр в Выборге, а максимальная в поселке Парголово, топ 3 самых дорогих это Парголово,Санкт-Петербург и Пушкин, а топ 3 самых дешевых это Выборг, Всеволожск, Гатчина.\n",
    "проведен анализ, целью которого было выяснить, влияет ли расстояние до центра на цену в городе СПб.\n",
    "выяснено что да влияет, но были обнаружены аномальные значения, их было немного.\n",
    "так как нам известно что на цену влияет общая площадь и тип этажа, было решено проверить именно их, и да действительно у типа этажа другой или последний цена выше, и площадь тоже выше, как раз эти точки и были на графике \"аномальными\".\n",
    "идеальная недвижимость исходя из данных должна быть площадью 50-70 квадратных метров, на расстоянии 1 км до центра и на любом этаже кроме первого.\n",
    "по поводу пропусков, в большинстве случаев это явно человеческий фактор, в строке 'its_apartment\" было абсолютное большинство пропусков(~20k) так же видно что сначала они заполнялись, а потом видимо про эту строчку забыли, тоже самое могу сказать про общую площадь, кухню и жилую(0 там просто не может быть логически). однако есть строки где пропуски обусловлены скорее тем, что например нет рядом парка или недвижимость находится в селе/деревне и как такового центра у них нет. так-как достоверно узнать расстояние до аэропорта, парка, центра и водоема невозможно и можно допустить ошибку, из за чего выводы будут некорректные, было принято решение оставить эти столбцы нетронутыми."
   ]
  },
  {
   "cell_type": "markdown",
   "metadata": {
    "id": "A90mc0BgAwb-"
   },
   "source": [
    "**Чек-лист готовности проекта**\n",
    "\n",
    "Поставьте 'x' в выполненных пунктах. Далее нажмите Shift+Enter."
   ]
  },
  {
   "cell_type": "markdown",
   "metadata": {
    "id": "ME3sTWm6Awb-"
   },
   "source": [
    "- [x]  Файл с данными открыт.\n",
    "- [x]  Файл с данными изучен: выведены первые строки, использован метод `info()`, построены гистограммы.\n",
    "- [x]  Найдены пропущенные значения.\n",
    "- [x]  Пропущенные значения заполнены там, где это возможно.\n",
    "- [x]  Объяснено, какие пропущенные значения обнаружены.\n",
    "- [x]  В каждом столбце установлен корректный тип данных.\n",
    "- [x]  Объяснено, в каких столбцах изменён тип данных и почему.\n",
    "- [x]  Устранены неявные дубликаты в названиях населённых пунктов.\n",
    "- [x]  Обработаны редкие и выбивающиеся значения (аномалии).\n",
    "- [x]  В таблицу добавлены новые параметры:\n",
    "       – цена одного квадратного метра;\n",
    "       – день публикации объявления (0 - понедельник, 1 - вторник и т. д.);\n",
    "       – месяц публикации объявления;\n",
    "       – год публикации объявления;\n",
    "       – тип этажа квартиры (значения — «первый», «последний», «другой»);\n",
    "       – расстояние до центра города в километрах.\n",
    "- [x]  Изучены и описаны параметры:\n",
    "        - общая площадь;\n",
    "        - жилая площадь;\n",
    "        - площадь кухни;\n",
    "        - цена объекта;\n",
    "        - количество комнат;\n",
    "        - высота потолков;\n",
    "        - тип этажа квартиры («первый», «последний», «другой»);\n",
    "        - общее количество этажей в доме;\n",
    "        - расстояние до центра города в метрах;\n",
    "        - расстояние до ближайшего парка.\n",
    "- [x]  Выполнено задание «Изучите, как быстро продавались квартиры (столбец `days_exposition`)»:\n",
    "    - построена гистограмма;\n",
    "    - рассчитаны среднее и медиана;\n",
    "    - описано, сколько обычно занимает продажа и указано, какие продажи можно считать быстрыми, а какие — необычно долгими.\n",
    "- [x]  Выполнено задание «Определите факторы, которые больше всего влияют на общую (полную) стоимость объекта». Построены графики, которые показывают зависимость цены от параметров:\n",
    "        - общая площадь;\n",
    "        - жилая площадь;\n",
    "        - площадь кухни;\n",
    "        - количество комнат;\n",
    "        - тип этажа, на котором расположена квартира (первый, последний, другой);\n",
    "        - дата размещения (день недели, месяц, год).\n",
    "- [x]  Выполнено задание «Посчитайте среднюю цену одного квадратного метра в 10 населённых пунктах с наибольшим числом объявлений»:\n",
    "    - выделены населённые пункты с самой высокой и низкой стоимостью квадратного метра.\n",
    "- [x]  Выполнено задание «Выделите квартиры в Санкт-Петербурге с помощью столбца `locality_name` и вычислите их среднюю стоимость на разном удалении от центра»:\n",
    "    -  учтён каждый километр расстояния, известны средние цены квартир в одном километре от центра, в двух и так далее;\n",
    "    -  описано, как стоимость объекта зависит от расстояния до центра города;\n",
    "    -  построен график изменения средней цены для каждого километра от центра Петербурга.\n",
    "- [x]  На каждом этапе сделаны промежуточные выводы.\n",
    "- [x]  В конце проекта сделан общий вывод."
   ]
  }
 ],
 "metadata": {
  "ExecuteTimeLog": [
   {
    "duration": 494,
    "start_time": "2024-05-10T22:17:42.278Z"
   },
   {
    "duration": 227,
    "start_time": "2024-05-10T22:17:52.729Z"
   },
   {
    "duration": 52,
    "start_time": "2024-05-10T22:18:38.686Z"
   },
   {
    "duration": 97,
    "start_time": "2024-05-10T22:18:59.158Z"
   },
   {
    "duration": 129,
    "start_time": "2024-05-10T22:19:03.805Z"
   },
   {
    "duration": 55,
    "start_time": "2024-05-10T22:19:14.152Z"
   },
   {
    "duration": 94,
    "start_time": "2024-05-10T22:19:22.094Z"
   },
   {
    "duration": 119,
    "start_time": "2024-05-10T22:20:07.835Z"
   },
   {
    "duration": 16,
    "start_time": "2024-05-10T22:21:00.959Z"
   },
   {
    "duration": 1391,
    "start_time": "2024-05-10T22:23:43.619Z"
   },
   {
    "duration": 11,
    "start_time": "2024-05-10T22:23:50.555Z"
   },
   {
    "duration": 2490,
    "start_time": "2024-05-10T22:24:17.522Z"
   },
   {
    "duration": 29,
    "start_time": "2024-05-10T22:27:53.722Z"
   },
   {
    "duration": 42,
    "start_time": "2024-05-11T07:41:32.856Z"
   },
   {
    "duration": 618,
    "start_time": "2024-05-11T07:41:38.279Z"
   },
   {
    "duration": 2296,
    "start_time": "2024-05-11T07:41:43.264Z"
   },
   {
    "duration": 14,
    "start_time": "2024-05-11T07:41:47.993Z"
   },
   {
    "duration": 6,
    "start_time": "2024-05-11T07:41:50.884Z"
   },
   {
    "duration": 5,
    "start_time": "2024-05-11T07:42:32.930Z"
   },
   {
    "duration": 4,
    "start_time": "2024-05-11T07:42:44.970Z"
   },
   {
    "duration": 5,
    "start_time": "2024-05-11T07:42:48.929Z"
   },
   {
    "duration": 5,
    "start_time": "2024-05-11T07:43:16.698Z"
   },
   {
    "duration": 5,
    "start_time": "2024-05-11T07:44:06.637Z"
   },
   {
    "duration": 6,
    "start_time": "2024-05-11T07:44:29.933Z"
   },
   {
    "duration": 4,
    "start_time": "2024-05-11T07:53:59.053Z"
   },
   {
    "duration": 6,
    "start_time": "2024-05-11T07:54:13.801Z"
   },
   {
    "duration": 6,
    "start_time": "2024-05-11T07:54:20.590Z"
   },
   {
    "duration": 5,
    "start_time": "2024-05-11T07:54:26.494Z"
   },
   {
    "duration": 5,
    "start_time": "2024-05-11T07:55:42.425Z"
   },
   {
    "duration": 5,
    "start_time": "2024-05-11T07:55:54.216Z"
   },
   {
    "duration": 6,
    "start_time": "2024-05-11T08:10:44.803Z"
   },
   {
    "duration": 35,
    "start_time": "2024-05-11T08:11:22.876Z"
   },
   {
    "duration": 9,
    "start_time": "2024-05-11T08:12:10.622Z"
   },
   {
    "duration": 9,
    "start_time": "2024-05-11T08:12:25.327Z"
   },
   {
    "duration": 3,
    "start_time": "2024-05-11T08:46:42.866Z"
   },
   {
    "duration": 10,
    "start_time": "2024-05-11T08:55:53.704Z"
   },
   {
    "duration": 10,
    "start_time": "2024-05-11T11:24:44.218Z"
   },
   {
    "duration": 8,
    "start_time": "2024-05-11T13:57:09.301Z"
   },
   {
    "duration": 7,
    "start_time": "2024-05-11T13:57:24.094Z"
   },
   {
    "duration": 7,
    "start_time": "2024-05-11T13:58:01.176Z"
   },
   {
    "duration": 8,
    "start_time": "2024-05-11T13:58:10.512Z"
   },
   {
    "duration": 5,
    "start_time": "2024-05-11T13:58:57.985Z"
   },
   {
    "duration": 13,
    "start_time": "2024-05-11T13:59:04.186Z"
   },
   {
    "duration": 583,
    "start_time": "2024-05-11T13:59:42.651Z"
   },
   {
    "duration": 12,
    "start_time": "2024-05-11T14:00:38.751Z"
   },
   {
    "duration": 9,
    "start_time": "2024-05-11T14:01:01.529Z"
   },
   {
    "duration": 12,
    "start_time": "2024-05-11T14:01:29.409Z"
   },
   {
    "duration": 9,
    "start_time": "2024-05-11T14:35:32.051Z"
   },
   {
    "duration": 7,
    "start_time": "2024-05-11T14:35:43.531Z"
   },
   {
    "duration": 8,
    "start_time": "2024-05-11T14:35:54.085Z"
   },
   {
    "duration": 8,
    "start_time": "2024-05-11T14:42:51.604Z"
   },
   {
    "duration": 8,
    "start_time": "2024-05-11T14:43:04.620Z"
   },
   {
    "duration": 8,
    "start_time": "2024-05-11T14:43:14.213Z"
   },
   {
    "duration": 644,
    "start_time": "2024-05-11T14:43:55.014Z"
   },
   {
    "duration": 11,
    "start_time": "2024-05-11T15:07:47.379Z"
   },
   {
    "duration": 11,
    "start_time": "2024-05-11T15:07:55.435Z"
   },
   {
    "duration": 6,
    "start_time": "2024-05-11T15:08:20.675Z"
   },
   {
    "duration": 7,
    "start_time": "2024-05-11T15:08:28.524Z"
   },
   {
    "duration": 7,
    "start_time": "2024-05-11T15:08:38.532Z"
   },
   {
    "duration": 6,
    "start_time": "2024-05-11T15:08:51.237Z"
   },
   {
    "duration": 7,
    "start_time": "2024-05-11T15:08:58.837Z"
   },
   {
    "duration": 6,
    "start_time": "2024-05-11T15:09:03.990Z"
   },
   {
    "duration": 8,
    "start_time": "2024-05-11T15:22:03.122Z"
   },
   {
    "duration": 8,
    "start_time": "2024-05-11T15:22:10.201Z"
   },
   {
    "duration": 38,
    "start_time": "2024-05-11T15:22:15.778Z"
   },
   {
    "duration": 7,
    "start_time": "2024-05-11T15:24:16.422Z"
   },
   {
    "duration": 8,
    "start_time": "2024-05-11T15:24:53.400Z"
   },
   {
    "duration": 35,
    "start_time": "2024-05-11T15:27:03.419Z"
   },
   {
    "duration": 59,
    "start_time": "2024-05-11T15:27:12.003Z"
   },
   {
    "duration": 7,
    "start_time": "2024-05-11T15:28:14.422Z"
   },
   {
    "duration": 8,
    "start_time": "2024-05-11T15:43:43.393Z"
   },
   {
    "duration": 7,
    "start_time": "2024-05-11T15:44:00.185Z"
   },
   {
    "duration": 10,
    "start_time": "2024-05-11T15:44:25.554Z"
   },
   {
    "duration": 11,
    "start_time": "2024-05-11T15:46:43.960Z"
   },
   {
    "duration": 12,
    "start_time": "2024-05-11T15:47:27.167Z"
   },
   {
    "duration": 11,
    "start_time": "2024-05-11T15:49:27.683Z"
   },
   {
    "duration": 12,
    "start_time": "2024-05-11T15:49:45.428Z"
   },
   {
    "duration": 9,
    "start_time": "2024-05-11T15:50:13.692Z"
   },
   {
    "duration": 33,
    "start_time": "2024-05-11T15:50:25.644Z"
   },
   {
    "duration": 8,
    "start_time": "2024-05-11T16:11:16.953Z"
   },
   {
    "duration": 12,
    "start_time": "2024-05-11T16:18:54.166Z"
   },
   {
    "duration": 11,
    "start_time": "2024-05-11T16:19:07.061Z"
   },
   {
    "duration": 37,
    "start_time": "2024-05-11T16:20:38.199Z"
   },
   {
    "duration": 12,
    "start_time": "2024-05-11T16:20:42.136Z"
   },
   {
    "duration": 10,
    "start_time": "2024-05-11T16:21:46.905Z"
   },
   {
    "duration": 14,
    "start_time": "2024-05-11T16:21:54.147Z"
   },
   {
    "duration": 16,
    "start_time": "2024-05-11T16:28:31.294Z"
   },
   {
    "duration": 15,
    "start_time": "2024-05-11T16:29:01.991Z"
   },
   {
    "duration": 20,
    "start_time": "2024-05-11T16:29:13.871Z"
   },
   {
    "duration": 11,
    "start_time": "2024-05-11T16:29:21.864Z"
   },
   {
    "duration": 9,
    "start_time": "2024-05-11T16:29:37.847Z"
   },
   {
    "duration": 11,
    "start_time": "2024-05-11T16:29:43.191Z"
   },
   {
    "duration": 11,
    "start_time": "2024-05-11T16:29:59.849Z"
   },
   {
    "duration": 47,
    "start_time": "2024-05-11T16:34:44.817Z"
   },
   {
    "duration": 36,
    "start_time": "2024-05-11T16:35:43.811Z"
   },
   {
    "duration": 14,
    "start_time": "2024-05-11T16:37:04.308Z"
   },
   {
    "duration": 6,
    "start_time": "2024-05-11T16:59:33.578Z"
   },
   {
    "duration": 4,
    "start_time": "2024-05-11T17:00:12.980Z"
   },
   {
    "duration": 5,
    "start_time": "2024-05-11T17:00:26.180Z"
   },
   {
    "duration": 6,
    "start_time": "2024-05-11T17:02:11.847Z"
   },
   {
    "duration": 7,
    "start_time": "2024-05-11T17:02:22.696Z"
   },
   {
    "duration": 39,
    "start_time": "2024-05-11T17:02:50.961Z"
   },
   {
    "duration": 6,
    "start_time": "2024-05-11T17:03:39.473Z"
   },
   {
    "duration": 33,
    "start_time": "2024-05-11T17:03:54.786Z"
   },
   {
    "duration": 5,
    "start_time": "2024-05-11T17:03:58.482Z"
   },
   {
    "duration": 48,
    "start_time": "2024-05-11T17:04:53.212Z"
   },
   {
    "duration": 11,
    "start_time": "2024-05-11T17:13:34.525Z"
   },
   {
    "duration": 182,
    "start_time": "2024-05-11T17:14:05.324Z"
   },
   {
    "duration": 36,
    "start_time": "2024-05-11T17:14:29.180Z"
   },
   {
    "duration": 7,
    "start_time": "2024-05-11T17:23:07.094Z"
   },
   {
    "duration": 41,
    "start_time": "2024-05-11T17:23:16.254Z"
   },
   {
    "duration": 39,
    "start_time": "2024-05-11T17:23:55.432Z"
   },
   {
    "duration": 54,
    "start_time": "2024-05-11T17:24:42.609Z"
   },
   {
    "duration": 36,
    "start_time": "2024-05-11T17:24:52.187Z"
   },
   {
    "duration": 39,
    "start_time": "2024-05-11T17:27:04.635Z"
   },
   {
    "duration": 29,
    "start_time": "2024-05-11T17:27:13.659Z"
   },
   {
    "duration": 29,
    "start_time": "2024-05-11T17:27:26.316Z"
   },
   {
    "duration": 76,
    "start_time": "2024-05-11T17:29:04.086Z"
   },
   {
    "duration": 38,
    "start_time": "2024-05-11T17:29:10.777Z"
   },
   {
    "duration": 6,
    "start_time": "2024-05-11T17:40:37.766Z"
   },
   {
    "duration": 39,
    "start_time": "2024-05-11T17:40:59.071Z"
   },
   {
    "duration": 8,
    "start_time": "2024-05-11T17:41:03.399Z"
   },
   {
    "duration": 70,
    "start_time": "2024-05-11T20:23:19.948Z"
   },
   {
    "duration": 692,
    "start_time": "2024-05-11T20:23:30.519Z"
   },
   {
    "duration": 18,
    "start_time": "2024-05-11T20:23:37.142Z"
   },
   {
    "duration": 11,
    "start_time": "2024-05-11T20:23:52.630Z"
   },
   {
    "duration": 8,
    "start_time": "2024-05-11T20:23:53.201Z"
   },
   {
    "duration": 74,
    "start_time": "2024-05-11T20:28:31.649Z"
   },
   {
    "duration": 64,
    "start_time": "2024-05-11T20:28:39.719Z"
   },
   {
    "duration": 67,
    "start_time": "2024-05-11T20:28:50.474Z"
   },
   {
    "duration": 6,
    "start_time": "2024-05-11T20:29:23.305Z"
   },
   {
    "duration": 63,
    "start_time": "2024-05-11T20:35:18.894Z"
   },
   {
    "duration": 64,
    "start_time": "2024-05-11T20:35:28.565Z"
   },
   {
    "duration": 34,
    "start_time": "2024-05-11T20:36:32.863Z"
   },
   {
    "duration": 230,
    "start_time": "2024-05-11T20:36:58.125Z"
   },
   {
    "duration": 224,
    "start_time": "2024-05-11T20:37:53.123Z"
   },
   {
    "duration": 214,
    "start_time": "2024-05-11T20:38:41.333Z"
   },
   {
    "duration": 218,
    "start_time": "2024-05-11T20:38:59.135Z"
   },
   {
    "duration": 228,
    "start_time": "2024-05-11T20:40:46.054Z"
   },
   {
    "duration": 234,
    "start_time": "2024-05-11T20:41:14.079Z"
   },
   {
    "duration": 248,
    "start_time": "2024-05-11T20:42:39.032Z"
   },
   {
    "duration": 278,
    "start_time": "2024-05-11T20:44:04.295Z"
   },
   {
    "duration": 258,
    "start_time": "2024-05-11T20:44:21.134Z"
   },
   {
    "duration": 230,
    "start_time": "2024-05-11T20:45:12.984Z"
   },
   {
    "duration": 228,
    "start_time": "2024-05-11T20:47:01.252Z"
   },
   {
    "duration": 233,
    "start_time": "2024-05-11T20:47:11.224Z"
   },
   {
    "duration": 265,
    "start_time": "2024-05-11T20:47:36.843Z"
   },
   {
    "duration": 246,
    "start_time": "2024-05-11T20:47:45.489Z"
   },
   {
    "duration": 244,
    "start_time": "2024-05-11T20:47:50.460Z"
   },
   {
    "duration": 258,
    "start_time": "2024-05-11T20:47:56.280Z"
   },
   {
    "duration": 237,
    "start_time": "2024-05-11T20:49:10.454Z"
   },
   {
    "duration": 252,
    "start_time": "2024-05-11T20:49:26.024Z"
   },
   {
    "duration": 268,
    "start_time": "2024-05-11T20:49:31.294Z"
   },
   {
    "duration": 233,
    "start_time": "2024-05-11T20:50:33.322Z"
   },
   {
    "duration": 251,
    "start_time": "2024-05-11T20:51:07.312Z"
   },
   {
    "duration": 227,
    "start_time": "2024-05-11T20:51:13.203Z"
   },
   {
    "duration": 229,
    "start_time": "2024-05-11T20:52:38.585Z"
   },
   {
    "duration": 228,
    "start_time": "2024-05-11T20:54:28.580Z"
   },
   {
    "duration": 275,
    "start_time": "2024-05-11T20:54:38.714Z"
   },
   {
    "duration": 231,
    "start_time": "2024-05-11T20:55:34.783Z"
   },
   {
    "duration": 224,
    "start_time": "2024-05-11T20:56:29.087Z"
   },
   {
    "duration": 227,
    "start_time": "2024-05-11T20:57:35.681Z"
   },
   {
    "duration": 264,
    "start_time": "2024-05-11T20:57:51.037Z"
   },
   {
    "duration": 229,
    "start_time": "2024-05-11T21:00:32.259Z"
   },
   {
    "duration": 243,
    "start_time": "2024-05-11T21:00:40.361Z"
   },
   {
    "duration": 237,
    "start_time": "2024-05-11T21:04:35.874Z"
   },
   {
    "duration": 232,
    "start_time": "2024-05-11T21:04:48.973Z"
   },
   {
    "duration": 49,
    "start_time": "2024-05-11T21:15:34.833Z"
   },
   {
    "duration": 8,
    "start_time": "2024-05-11T21:15:40.908Z"
   },
   {
    "duration": 515,
    "start_time": "2024-05-11T21:15:42.262Z"
   },
   {
    "duration": 2787,
    "start_time": "2024-05-11T21:15:43.110Z"
   },
   {
    "duration": 15,
    "start_time": "2024-05-11T21:15:45.900Z"
   },
   {
    "duration": 24,
    "start_time": "2024-05-11T21:15:45.917Z"
   },
   {
    "duration": 225,
    "start_time": "2024-05-11T21:15:45.943Z"
   },
   {
    "duration": 18,
    "start_time": "2024-05-11T21:15:58.864Z"
   },
   {
    "duration": 253,
    "start_time": "2024-05-11T21:16:33.623Z"
   },
   {
    "duration": 237,
    "start_time": "2024-05-11T21:19:06.722Z"
   },
   {
    "duration": 254,
    "start_time": "2024-05-11T21:19:16.697Z"
   },
   {
    "duration": 235,
    "start_time": "2024-05-11T21:30:50.030Z"
   },
   {
    "duration": 243,
    "start_time": "2024-05-11T21:32:13.318Z"
   },
   {
    "duration": 268,
    "start_time": "2024-05-11T21:32:46.361Z"
   },
   {
    "duration": 84,
    "start_time": "2024-05-11T21:34:05.640Z"
   },
   {
    "duration": 255,
    "start_time": "2024-05-11T21:34:12.105Z"
   },
   {
    "duration": 233,
    "start_time": "2024-05-11T21:34:29.060Z"
   },
   {
    "duration": 244,
    "start_time": "2024-05-11T21:34:52.100Z"
   },
   {
    "duration": 225,
    "start_time": "2024-05-11T21:36:15.743Z"
   },
   {
    "duration": 239,
    "start_time": "2024-05-11T21:36:24.813Z"
   },
   {
    "duration": 1311,
    "start_time": "2024-05-11T21:36:55.494Z"
   },
   {
    "duration": 240,
    "start_time": "2024-05-11T21:37:20.100Z"
   },
   {
    "duration": 73,
    "start_time": "2024-05-12T10:05:12.833Z"
   },
   {
    "duration": 9,
    "start_time": "2024-05-12T10:05:29.498Z"
   },
   {
    "duration": 0,
    "start_time": "2024-05-12T10:05:29.509Z"
   },
   {
    "duration": 6,
    "start_time": "2024-05-12T10:05:29.559Z"
   },
   {
    "duration": 0,
    "start_time": "2024-05-12T10:05:29.567Z"
   },
   {
    "duration": 8,
    "start_time": "2024-05-12T10:05:29.569Z"
   },
   {
    "duration": 20,
    "start_time": "2024-05-12T10:05:29.618Z"
   },
   {
    "duration": 9,
    "start_time": "2024-05-12T10:05:36.375Z"
   },
   {
    "duration": 703,
    "start_time": "2024-05-12T10:05:52.747Z"
   },
   {
    "duration": 30,
    "start_time": "2024-05-12T10:06:02.116Z"
   },
   {
    "duration": 3287,
    "start_time": "2024-05-12T10:06:10.005Z"
   },
   {
    "duration": 17,
    "start_time": "2024-05-12T10:06:13.294Z"
   },
   {
    "duration": 22,
    "start_time": "2024-05-12T10:06:13.313Z"
   },
   {
    "duration": 1316,
    "start_time": "2024-05-12T10:06:13.337Z"
   },
   {
    "duration": 963,
    "start_time": "2024-05-12T10:06:23.844Z"
   },
   {
    "duration": 334,
    "start_time": "2024-05-12T10:06:32.886Z"
   },
   {
    "duration": 318,
    "start_time": "2024-05-12T10:07:00.222Z"
   },
   {
    "duration": 144,
    "start_time": "2024-05-12T10:55:44.543Z"
   },
   {
    "duration": 3005,
    "start_time": "2024-05-12T10:55:48.359Z"
   },
   {
    "duration": 17,
    "start_time": "2024-05-12T10:55:51.368Z"
   },
   {
    "duration": 11,
    "start_time": "2024-05-12T10:55:51.387Z"
   },
   {
    "duration": 322,
    "start_time": "2024-05-12T10:55:51.607Z"
   },
   {
    "duration": 328,
    "start_time": "2024-05-12T10:57:42.298Z"
   },
   {
    "duration": 345,
    "start_time": "2024-05-12T10:58:50.710Z"
   },
   {
    "duration": 340,
    "start_time": "2024-05-12T10:59:03.248Z"
   },
   {
    "duration": 332,
    "start_time": "2024-05-12T11:01:01.650Z"
   },
   {
    "duration": 250,
    "start_time": "2024-05-12T11:10:57.161Z"
   },
   {
    "duration": 255,
    "start_time": "2024-05-12T11:11:03.494Z"
   },
   {
    "duration": 258,
    "start_time": "2024-05-12T11:15:53.186Z"
   },
   {
    "duration": 289,
    "start_time": "2024-05-12T11:16:08.119Z"
   },
   {
    "duration": 264,
    "start_time": "2024-05-12T11:17:12.555Z"
   },
   {
    "duration": 281,
    "start_time": "2024-05-12T11:17:55.041Z"
   },
   {
    "duration": 267,
    "start_time": "2024-05-12T11:20:34.285Z"
   },
   {
    "duration": 265,
    "start_time": "2024-05-12T11:34:05.658Z"
   },
   {
    "duration": 262,
    "start_time": "2024-05-12T11:34:13.124Z"
   },
   {
    "duration": 267,
    "start_time": "2024-05-12T11:34:58.689Z"
   },
   {
    "duration": 311,
    "start_time": "2024-05-12T11:39:12.162Z"
   },
   {
    "duration": 252,
    "start_time": "2024-05-12T11:40:30.301Z"
   },
   {
    "duration": 298,
    "start_time": "2024-05-12T11:41:24.612Z"
   },
   {
    "duration": 16,
    "start_time": "2024-05-12T11:42:10.069Z"
   },
   {
    "duration": 8,
    "start_time": "2024-05-12T11:43:17.872Z"
   },
   {
    "duration": 5,
    "start_time": "2024-05-12T11:43:42.670Z"
   },
   {
    "duration": 10,
    "start_time": "2024-05-12T11:47:00.338Z"
   },
   {
    "duration": 22,
    "start_time": "2024-05-12T11:47:09.321Z"
   },
   {
    "duration": 15,
    "start_time": "2024-05-12T11:48:43.609Z"
   },
   {
    "duration": 21,
    "start_time": "2024-05-12T11:48:57.820Z"
   },
   {
    "duration": 15,
    "start_time": "2024-05-12T11:49:02.556Z"
   },
   {
    "duration": 125,
    "start_time": "2024-05-12T11:49:09.428Z"
   },
   {
    "duration": 16,
    "start_time": "2024-05-12T11:49:14.726Z"
   },
   {
    "duration": 24,
    "start_time": "2024-05-12T11:49:26.982Z"
   },
   {
    "duration": 54,
    "start_time": "2024-05-12T11:50:15.305Z"
   },
   {
    "duration": 21,
    "start_time": "2024-05-12T11:51:10.744Z"
   },
   {
    "duration": 12,
    "start_time": "2024-05-12T11:51:29.486Z"
   },
   {
    "duration": 10,
    "start_time": "2024-05-12T11:52:47.633Z"
   },
   {
    "duration": 16,
    "start_time": "2024-05-12T11:55:50.147Z"
   },
   {
    "duration": 17,
    "start_time": "2024-05-12T11:55:58.698Z"
   },
   {
    "duration": 46,
    "start_time": "2024-05-12T11:56:03.055Z"
   },
   {
    "duration": 27,
    "start_time": "2024-05-12T12:47:52.176Z"
   },
   {
    "duration": 16,
    "start_time": "2024-05-12T12:48:25.876Z"
   },
   {
    "duration": 8,
    "start_time": "2024-05-12T12:49:15.960Z"
   },
   {
    "duration": 11,
    "start_time": "2024-05-12T12:50:27.008Z"
   },
   {
    "duration": 6,
    "start_time": "2024-05-12T12:50:56.188Z"
   },
   {
    "duration": 8,
    "start_time": "2024-05-12T12:51:11.410Z"
   },
   {
    "duration": 10,
    "start_time": "2024-05-12T12:53:14.591Z"
   },
   {
    "duration": 7,
    "start_time": "2024-05-12T12:54:10.853Z"
   },
   {
    "duration": 5,
    "start_time": "2024-05-12T12:56:05.078Z"
   },
   {
    "duration": 10,
    "start_time": "2024-05-12T12:56:18.449Z"
   },
   {
    "duration": 11,
    "start_time": "2024-05-12T12:57:13.843Z"
   },
   {
    "duration": 11,
    "start_time": "2024-05-12T12:58:09.255Z"
   },
   {
    "duration": 13,
    "start_time": "2024-05-12T12:59:33.448Z"
   },
   {
    "duration": 19,
    "start_time": "2024-05-12T13:00:15.118Z"
   },
   {
    "duration": 2698,
    "start_time": "2024-05-12T13:01:56.100Z"
   },
   {
    "duration": 2606,
    "start_time": "2024-05-12T13:02:27.619Z"
   },
   {
    "duration": 46,
    "start_time": "2024-05-12T13:03:52.957Z"
   },
   {
    "duration": 16,
    "start_time": "2024-05-12T13:04:27.519Z"
   },
   {
    "duration": 43,
    "start_time": "2024-05-12T13:04:59.893Z"
   },
   {
    "duration": 11,
    "start_time": "2024-05-12T13:06:48.735Z"
   },
   {
    "duration": 36,
    "start_time": "2024-05-12T13:09:57.056Z"
   },
   {
    "duration": 35,
    "start_time": "2024-05-12T13:10:03.613Z"
   },
   {
    "duration": 3016,
    "start_time": "2024-05-12T13:10:14.955Z"
   },
   {
    "duration": 10,
    "start_time": "2024-05-12T13:11:49.112Z"
   },
   {
    "duration": 860,
    "start_time": "2024-05-12T13:15:02.106Z"
   },
   {
    "duration": 19,
    "start_time": "2024-05-12T13:15:14.186Z"
   },
   {
    "duration": 103,
    "start_time": "2024-05-12T13:15:39.673Z"
   },
   {
    "duration": 9,
    "start_time": "2024-05-12T13:16:00.566Z"
   },
   {
    "duration": 42,
    "start_time": "2024-05-12T13:16:50.039Z"
   },
   {
    "duration": 39,
    "start_time": "2024-05-12T13:17:32.548Z"
   },
   {
    "duration": 749,
    "start_time": "2024-05-12T13:20:34.272Z"
   },
   {
    "duration": 646,
    "start_time": "2024-05-12T13:22:36.281Z"
   },
   {
    "duration": 685,
    "start_time": "2024-05-12T13:22:45.219Z"
   },
   {
    "duration": 706,
    "start_time": "2024-05-12T13:22:55.292Z"
   },
   {
    "duration": 16,
    "start_time": "2024-05-12T13:26:10.449Z"
   },
   {
    "duration": 701,
    "start_time": "2024-05-12T13:26:26.440Z"
   },
   {
    "duration": 1019,
    "start_time": "2024-05-12T13:26:37.019Z"
   },
   {
    "duration": 686,
    "start_time": "2024-05-12T13:26:41.913Z"
   },
   {
    "duration": 748,
    "start_time": "2024-05-12T13:26:47.620Z"
   },
   {
    "duration": 689,
    "start_time": "2024-05-12T13:26:56.307Z"
   },
   {
    "duration": 656,
    "start_time": "2024-05-12T13:29:37.781Z"
   },
   {
    "duration": 1548,
    "start_time": "2024-05-12T13:30:50.770Z"
   },
   {
    "duration": 20,
    "start_time": "2024-05-12T13:58:34.786Z"
   },
   {
    "duration": 28,
    "start_time": "2024-05-12T13:59:30.658Z"
   },
   {
    "duration": 364,
    "start_time": "2024-05-12T14:24:53.042Z"
   },
   {
    "duration": 36,
    "start_time": "2024-05-12T14:25:17.403Z"
   },
   {
    "duration": 14,
    "start_time": "2024-05-12T14:25:26.012Z"
   },
   {
    "duration": 16,
    "start_time": "2024-05-12T14:26:41.920Z"
   },
   {
    "duration": 24,
    "start_time": "2024-05-12T14:28:43.400Z"
   },
   {
    "duration": 22,
    "start_time": "2024-05-12T14:29:21.801Z"
   },
   {
    "duration": 18,
    "start_time": "2024-05-12T15:02:15.504Z"
   },
   {
    "duration": 16,
    "start_time": "2024-05-12T15:09:38.857Z"
   },
   {
    "duration": 16,
    "start_time": "2024-05-12T15:10:04.906Z"
   },
   {
    "duration": 15,
    "start_time": "2024-05-12T15:10:23.503Z"
   },
   {
    "duration": 20,
    "start_time": "2024-05-12T15:10:32.732Z"
   },
   {
    "duration": 19,
    "start_time": "2024-05-12T15:10:56.343Z"
   },
   {
    "duration": 56,
    "start_time": "2024-05-12T15:11:10.623Z"
   },
   {
    "duration": 9,
    "start_time": "2024-05-12T15:11:53.982Z"
   },
   {
    "duration": 0,
    "start_time": "2024-05-12T15:11:53.992Z"
   },
   {
    "duration": 0,
    "start_time": "2024-05-12T15:11:53.994Z"
   },
   {
    "duration": 0,
    "start_time": "2024-05-12T15:11:53.996Z"
   },
   {
    "duration": 0,
    "start_time": "2024-05-12T15:11:53.997Z"
   },
   {
    "duration": 0,
    "start_time": "2024-05-12T15:11:53.999Z"
   },
   {
    "duration": 9,
    "start_time": "2024-05-12T15:11:54.066Z"
   },
   {
    "duration": 0,
    "start_time": "2024-05-12T15:11:54.078Z"
   },
   {
    "duration": 0,
    "start_time": "2024-05-12T15:11:54.080Z"
   },
   {
    "duration": 9,
    "start_time": "2024-05-12T15:11:57.973Z"
   },
   {
    "duration": 569,
    "start_time": "2024-05-12T15:12:05.241Z"
   },
   {
    "duration": 2960,
    "start_time": "2024-05-12T15:12:05.812Z"
   },
   {
    "duration": 16,
    "start_time": "2024-05-12T15:12:08.775Z"
   },
   {
    "duration": 10,
    "start_time": "2024-05-12T15:12:08.793Z"
   },
   {
    "duration": 305,
    "start_time": "2024-05-12T15:12:08.805Z"
   },
   {
    "duration": 9,
    "start_time": "2024-05-12T15:12:09.111Z"
   },
   {
    "duration": 33,
    "start_time": "2024-05-12T15:12:09.129Z"
   },
   {
    "duration": 0,
    "start_time": "2024-05-12T15:12:09.164Z"
   },
   {
    "duration": 14,
    "start_time": "2024-05-12T15:12:17.873Z"
   },
   {
    "duration": 51,
    "start_time": "2024-05-12T15:12:26.040Z"
   },
   {
    "duration": 22,
    "start_time": "2024-05-12T15:12:38.154Z"
   },
   {
    "duration": 50,
    "start_time": "2024-05-12T15:16:15.661Z"
   },
   {
    "duration": 17,
    "start_time": "2024-05-12T15:16:21.009Z"
   },
   {
    "duration": 19,
    "start_time": "2024-05-12T15:17:29.492Z"
   },
   {
    "duration": 67,
    "start_time": "2024-05-12T15:27:48.481Z"
   },
   {
    "duration": 21,
    "start_time": "2024-05-12T15:28:11.953Z"
   },
   {
    "duration": 27,
    "start_time": "2024-05-12T15:28:49.025Z"
   },
   {
    "duration": 570,
    "start_time": "2024-05-12T15:29:54.713Z"
   },
   {
    "duration": 18,
    "start_time": "2024-05-12T15:29:58.503Z"
   },
   {
    "duration": 2973,
    "start_time": "2024-05-12T15:30:03.212Z"
   },
   {
    "duration": 18,
    "start_time": "2024-05-12T15:30:06.188Z"
   },
   {
    "duration": 14,
    "start_time": "2024-05-12T15:30:06.207Z"
   },
   {
    "duration": 292,
    "start_time": "2024-05-12T15:30:06.224Z"
   },
   {
    "duration": 10,
    "start_time": "2024-05-12T15:30:07.092Z"
   },
   {
    "duration": 8,
    "start_time": "2024-05-12T15:30:07.772Z"
   },
   {
    "duration": 16,
    "start_time": "2024-05-12T15:30:14.840Z"
   },
   {
    "duration": 11,
    "start_time": "2024-05-12T15:31:25.792Z"
   },
   {
    "duration": 18,
    "start_time": "2024-05-12T15:31:50.257Z"
   },
   {
    "duration": 21,
    "start_time": "2024-05-12T15:32:40.062Z"
   },
   {
    "duration": 27,
    "start_time": "2024-05-12T15:32:53.582Z"
   },
   {
    "duration": 2791,
    "start_time": "2024-05-12T15:35:48.764Z"
   },
   {
    "duration": 21,
    "start_time": "2024-05-12T15:37:24.932Z"
   },
   {
    "duration": 30,
    "start_time": "2024-05-12T15:37:50.611Z"
   },
   {
    "duration": 705,
    "start_time": "2024-05-12T15:39:36.641Z"
   },
   {
    "duration": 18,
    "start_time": "2024-05-12T15:39:42.332Z"
   },
   {
    "duration": 26,
    "start_time": "2024-05-12T15:40:00.302Z"
   },
   {
    "duration": 26,
    "start_time": "2024-05-12T15:40:42.271Z"
   },
   {
    "duration": 20,
    "start_time": "2024-05-12T15:40:46.501Z"
   },
   {
    "duration": 148,
    "start_time": "2024-05-12T15:44:07.864Z"
   },
   {
    "duration": 585,
    "start_time": "2024-05-12T15:45:08.600Z"
   },
   {
    "duration": 19,
    "start_time": "2024-05-12T15:45:11.989Z"
   },
   {
    "duration": 111,
    "start_time": "2024-05-12T15:45:12.322Z"
   },
   {
    "duration": 2794,
    "start_time": "2024-05-12T15:45:12.454Z"
   },
   {
    "duration": 19,
    "start_time": "2024-05-12T15:45:15.250Z"
   },
   {
    "duration": 23,
    "start_time": "2024-05-12T15:45:15.271Z"
   },
   {
    "duration": 370,
    "start_time": "2024-05-12T15:45:15.296Z"
   },
   {
    "duration": 9,
    "start_time": "2024-05-12T15:45:15.667Z"
   },
   {
    "duration": 145,
    "start_time": "2024-05-12T15:45:40.858Z"
   },
   {
    "duration": 141,
    "start_time": "2024-05-12T15:45:57.592Z"
   },
   {
    "duration": 153,
    "start_time": "2024-05-12T15:46:21.683Z"
   },
   {
    "duration": 544,
    "start_time": "2024-05-12T15:46:46.863Z"
   },
   {
    "duration": 17,
    "start_time": "2024-05-12T15:46:50.233Z"
   },
   {
    "duration": 110,
    "start_time": "2024-05-12T15:46:50.752Z"
   },
   {
    "duration": 2774,
    "start_time": "2024-05-12T15:46:50.942Z"
   },
   {
    "duration": 16,
    "start_time": "2024-05-12T15:46:53.718Z"
   },
   {
    "duration": 9,
    "start_time": "2024-05-12T15:46:53.735Z"
   },
   {
    "duration": 283,
    "start_time": "2024-05-12T15:46:53.746Z"
   },
   {
    "duration": 8,
    "start_time": "2024-05-12T15:46:54.030Z"
   },
   {
    "duration": 141,
    "start_time": "2024-05-12T15:47:08.161Z"
   },
   {
    "duration": 244,
    "start_time": "2024-05-12T15:54:12.152Z"
   },
   {
    "duration": 170,
    "start_time": "2024-05-12T15:54:23.351Z"
   },
   {
    "duration": 143,
    "start_time": "2024-05-12T15:56:52.033Z"
   },
   {
    "duration": 164,
    "start_time": "2024-05-12T15:59:53.541Z"
   },
   {
    "duration": 172,
    "start_time": "2024-05-12T16:02:45.592Z"
   },
   {
    "duration": 53,
    "start_time": "2024-05-12T16:12:05.213Z"
   },
   {
    "duration": 598,
    "start_time": "2024-05-12T16:12:15.415Z"
   },
   {
    "duration": 19,
    "start_time": "2024-05-12T16:12:19.111Z"
   },
   {
    "duration": 113,
    "start_time": "2024-05-12T16:12:19.594Z"
   },
   {
    "duration": 2970,
    "start_time": "2024-05-12T16:12:20.014Z"
   },
   {
    "duration": 19,
    "start_time": "2024-05-12T16:12:22.986Z"
   },
   {
    "duration": 9,
    "start_time": "2024-05-12T16:12:23.007Z"
   },
   {
    "duration": 354,
    "start_time": "2024-05-12T16:12:31.338Z"
   },
   {
    "duration": 9,
    "start_time": "2024-05-12T16:12:38.413Z"
   },
   {
    "duration": 167,
    "start_time": "2024-05-12T16:12:41.462Z"
   },
   {
    "duration": 137,
    "start_time": "2024-05-12T16:20:56.222Z"
   },
   {
    "duration": 534,
    "start_time": "2024-05-12T16:21:12.562Z"
   },
   {
    "duration": 18,
    "start_time": "2024-05-12T16:21:15.334Z"
   },
   {
    "duration": 112,
    "start_time": "2024-05-12T16:21:15.792Z"
   },
   {
    "duration": 2824,
    "start_time": "2024-05-12T16:21:15.980Z"
   },
   {
    "duration": 17,
    "start_time": "2024-05-12T16:21:18.807Z"
   },
   {
    "duration": 9,
    "start_time": "2024-05-12T16:21:18.826Z"
   },
   {
    "duration": 274,
    "start_time": "2024-05-12T16:21:18.838Z"
   },
   {
    "duration": 8,
    "start_time": "2024-05-12T16:21:19.114Z"
   },
   {
    "duration": 149,
    "start_time": "2024-05-12T16:21:22.833Z"
   },
   {
    "duration": 199,
    "start_time": "2024-05-12T16:47:55.011Z"
   },
   {
    "duration": 209,
    "start_time": "2024-05-12T16:48:40.601Z"
   },
   {
    "duration": 734,
    "start_time": "2024-05-12T16:56:55.382Z"
   },
   {
    "duration": 721,
    "start_time": "2024-05-12T16:57:43.491Z"
   },
   {
    "duration": 385,
    "start_time": "2024-05-12T16:58:30.850Z"
   },
   {
    "duration": 657,
    "start_time": "2024-05-12T16:59:35.802Z"
   },
   {
    "duration": 28,
    "start_time": "2024-05-12T16:59:52.007Z"
   },
   {
    "duration": 28,
    "start_time": "2024-05-12T17:00:06.141Z"
   },
   {
    "duration": 544,
    "start_time": "2024-05-12T17:01:12.541Z"
   },
   {
    "duration": 19,
    "start_time": "2024-05-12T17:01:15.165Z"
   },
   {
    "duration": 114,
    "start_time": "2024-05-12T17:01:19.071Z"
   },
   {
    "duration": 2825,
    "start_time": "2024-05-12T17:01:19.271Z"
   },
   {
    "duration": 17,
    "start_time": "2024-05-12T17:01:22.098Z"
   },
   {
    "duration": 10,
    "start_time": "2024-05-12T17:01:22.117Z"
   },
   {
    "duration": 284,
    "start_time": "2024-05-12T17:01:22.129Z"
   },
   {
    "duration": 15,
    "start_time": "2024-05-12T17:01:22.415Z"
   },
   {
    "duration": 23,
    "start_time": "2024-05-12T17:01:22.432Z"
   },
   {
    "duration": 197,
    "start_time": "2024-05-12T17:01:41.479Z"
   },
   {
    "duration": 647,
    "start_time": "2024-05-13T09:36:40.779Z"
   },
   {
    "duration": 16,
    "start_time": "2024-05-13T09:36:54.542Z"
   },
   {
    "duration": 2678,
    "start_time": "2024-05-13T09:37:05.738Z"
   },
   {
    "duration": 16,
    "start_time": "2024-05-13T09:37:09.990Z"
   },
   {
    "duration": 8,
    "start_time": "2024-05-13T09:37:10.749Z"
   },
   {
    "duration": 258,
    "start_time": "2024-05-13T09:37:11.409Z"
   },
   {
    "duration": 8,
    "start_time": "2024-05-13T09:37:14.835Z"
   },
   {
    "duration": 26,
    "start_time": "2024-05-13T09:37:16.036Z"
   },
   {
    "duration": 81,
    "start_time": "2024-05-13T09:37:41.115Z"
   },
   {
    "duration": 22,
    "start_time": "2024-05-13T09:38:17.056Z"
   },
   {
    "duration": 21,
    "start_time": "2024-05-13T09:38:29.461Z"
   },
   {
    "duration": 21,
    "start_time": "2024-05-13T09:39:05.146Z"
   },
   {
    "duration": 26,
    "start_time": "2024-05-13T09:52:15.751Z"
   },
   {
    "duration": 509,
    "start_time": "2024-05-13T09:57:19.872Z"
   },
   {
    "duration": 16,
    "start_time": "2024-05-13T09:57:23.293Z"
   },
   {
    "duration": 114,
    "start_time": "2024-05-13T09:57:26.620Z"
   },
   {
    "duration": 2490,
    "start_time": "2024-05-13T09:57:27.110Z"
   },
   {
    "duration": 15,
    "start_time": "2024-05-13T09:57:29.602Z"
   },
   {
    "duration": 14,
    "start_time": "2024-05-13T09:57:34.852Z"
   },
   {
    "duration": 9,
    "start_time": "2024-05-13T09:57:35.351Z"
   },
   {
    "duration": 277,
    "start_time": "2024-05-13T09:57:35.991Z"
   },
   {
    "duration": 8,
    "start_time": "2024-05-13T09:58:17.592Z"
   },
   {
    "duration": 24,
    "start_time": "2024-05-13T09:58:18.987Z"
   },
   {
    "duration": 147,
    "start_time": "2024-05-13T10:02:15.620Z"
   },
   {
    "duration": 54,
    "start_time": "2024-05-13T10:02:23.833Z"
   },
   {
    "duration": 32,
    "start_time": "2024-05-13T10:06:18.843Z"
   },
   {
    "duration": 7,
    "start_time": "2024-05-13T10:07:50.076Z"
   },
   {
    "duration": 277,
    "start_time": "2024-05-13T10:07:50.864Z"
   },
   {
    "duration": 71,
    "start_time": "2024-05-13T10:07:52.731Z"
   },
   {
    "duration": 17,
    "start_time": "2024-05-13T10:07:54.329Z"
   },
   {
    "duration": 8,
    "start_time": "2024-05-13T10:07:58.859Z"
   },
   {
    "duration": 459,
    "start_time": "2024-05-13T10:08:26.826Z"
   },
   {
    "duration": 17,
    "start_time": "2024-05-13T10:08:31.073Z"
   },
   {
    "duration": 2469,
    "start_time": "2024-05-13T10:08:36.307Z"
   },
   {
    "duration": 18,
    "start_time": "2024-05-13T10:08:46.319Z"
   },
   {
    "duration": 10,
    "start_time": "2024-05-13T10:08:54.208Z"
   },
   {
    "duration": 9,
    "start_time": "2024-05-13T10:09:02.713Z"
   },
   {
    "duration": 238,
    "start_time": "2024-05-13T10:09:03.407Z"
   },
   {
    "duration": 8,
    "start_time": "2024-05-13T10:09:24.665Z"
   },
   {
    "duration": 7,
    "start_time": "2024-05-13T10:09:27.809Z"
   },
   {
    "duration": 13,
    "start_time": "2024-05-13T10:09:30.164Z"
   },
   {
    "duration": 8,
    "start_time": "2024-05-13T10:09:32.181Z"
   },
   {
    "duration": 7,
    "start_time": "2024-05-13T10:10:05.648Z"
   },
   {
    "duration": 12,
    "start_time": "2024-05-13T10:10:08.983Z"
   },
   {
    "duration": 1243,
    "start_time": "2024-05-13T10:27:56.455Z"
   },
   {
    "duration": 110,
    "start_time": "2024-05-13T10:28:04.488Z"
   },
   {
    "duration": 15,
    "start_time": "2024-05-13T10:28:07.873Z"
   },
   {
    "duration": 104,
    "start_time": "2024-05-13T10:28:11.176Z"
   },
   {
    "duration": 2389,
    "start_time": "2024-05-13T10:28:14.695Z"
   },
   {
    "duration": 16,
    "start_time": "2024-05-13T10:28:17.086Z"
   },
   {
    "duration": 9,
    "start_time": "2024-05-13T10:28:19.165Z"
   },
   {
    "duration": 243,
    "start_time": "2024-05-13T10:28:19.734Z"
   },
   {
    "duration": 9,
    "start_time": "2024-05-13T10:28:22.500Z"
   },
   {
    "duration": 195,
    "start_time": "2024-05-13T10:28:33.257Z"
   },
   {
    "duration": 187,
    "start_time": "2024-05-13T10:28:59.043Z"
   },
   {
    "duration": 21,
    "start_time": "2024-05-13T10:40:08.533Z"
   },
   {
    "duration": 490,
    "start_time": "2024-05-13T10:40:34.587Z"
   },
   {
    "duration": 16,
    "start_time": "2024-05-13T10:40:36.282Z"
   },
   {
    "duration": 109,
    "start_time": "2024-05-13T10:40:38.780Z"
   },
   {
    "duration": 2524,
    "start_time": "2024-05-13T10:40:40.376Z"
   },
   {
    "duration": 14,
    "start_time": "2024-05-13T10:40:42.902Z"
   },
   {
    "duration": 11,
    "start_time": "2024-05-13T10:40:42.918Z"
   },
   {
    "duration": 237,
    "start_time": "2024-05-13T10:40:42.930Z"
   },
   {
    "duration": 9,
    "start_time": "2024-05-13T10:40:45.191Z"
   },
   {
    "duration": 21,
    "start_time": "2024-05-13T10:41:00.463Z"
   },
   {
    "duration": 27,
    "start_time": "2024-05-13T10:41:10.834Z"
   },
   {
    "duration": 25,
    "start_time": "2024-05-13T10:41:27.492Z"
   },
   {
    "duration": 27,
    "start_time": "2024-05-13T10:42:31.535Z"
   },
   {
    "duration": 6,
    "start_time": "2024-05-13T10:45:07.064Z"
   },
   {
    "duration": 5,
    "start_time": "2024-05-13T10:52:43.402Z"
   },
   {
    "duration": 5,
    "start_time": "2024-05-13T10:53:14.933Z"
   },
   {
    "duration": 42,
    "start_time": "2024-05-13T10:56:51.069Z"
   },
   {
    "duration": 8,
    "start_time": "2024-05-13T10:57:00.174Z"
   },
   {
    "duration": 11,
    "start_time": "2024-05-13T12:57:25.234Z"
   },
   {
    "duration": 483,
    "start_time": "2024-05-13T12:57:34.607Z"
   },
   {
    "duration": 17,
    "start_time": "2024-05-13T12:57:37.771Z"
   },
   {
    "duration": 2480,
    "start_time": "2024-05-13T12:57:42.572Z"
   },
   {
    "duration": 15,
    "start_time": "2024-05-13T12:57:45.054Z"
   },
   {
    "duration": 34,
    "start_time": "2024-05-13T12:57:45.070Z"
   },
   {
    "duration": 280,
    "start_time": "2024-05-13T12:57:45.106Z"
   },
   {
    "duration": 8,
    "start_time": "2024-05-13T12:57:45.451Z"
   },
   {
    "duration": 20,
    "start_time": "2024-05-13T12:57:45.871Z"
   },
   {
    "duration": 9,
    "start_time": "2024-05-13T12:57:46.253Z"
   },
   {
    "duration": 10,
    "start_time": "2024-05-13T12:57:55.028Z"
   },
   {
    "duration": 11,
    "start_time": "2024-05-13T12:59:08.636Z"
   },
   {
    "duration": 499,
    "start_time": "2024-05-13T12:59:31.106Z"
   },
   {
    "duration": 2521,
    "start_time": "2024-05-13T12:59:31.607Z"
   },
   {
    "duration": 15,
    "start_time": "2024-05-13T12:59:34.130Z"
   },
   {
    "duration": 8,
    "start_time": "2024-05-13T12:59:34.146Z"
   },
   {
    "duration": 253,
    "start_time": "2024-05-13T12:59:34.156Z"
   },
   {
    "duration": 8,
    "start_time": "2024-05-13T12:59:34.410Z"
   },
   {
    "duration": 20,
    "start_time": "2024-05-13T12:59:35.006Z"
   },
   {
    "duration": 13,
    "start_time": "2024-05-13T12:59:36.069Z"
   },
   {
    "duration": 51,
    "start_time": "2024-05-13T13:03:17.692Z"
   },
   {
    "duration": 9,
    "start_time": "2024-05-13T13:03:30.662Z"
   },
   {
    "duration": 0,
    "start_time": "2024-05-13T13:03:30.672Z"
   },
   {
    "duration": 0,
    "start_time": "2024-05-13T13:03:30.673Z"
   },
   {
    "duration": 0,
    "start_time": "2024-05-13T13:03:30.674Z"
   },
   {
    "duration": 0,
    "start_time": "2024-05-13T13:03:30.676Z"
   },
   {
    "duration": 0,
    "start_time": "2024-05-13T13:03:30.676Z"
   },
   {
    "duration": 0,
    "start_time": "2024-05-13T13:03:30.677Z"
   },
   {
    "duration": 0,
    "start_time": "2024-05-13T13:03:30.678Z"
   },
   {
    "duration": 72,
    "start_time": "2024-05-13T13:03:30.680Z"
   },
   {
    "duration": 6,
    "start_time": "2024-05-13T13:03:34.593Z"
   },
   {
    "duration": 8,
    "start_time": "2024-05-13T13:03:42.596Z"
   },
   {
    "duration": 545,
    "start_time": "2024-05-13T13:03:43.278Z"
   },
   {
    "duration": 2555,
    "start_time": "2024-05-13T13:03:43.825Z"
   },
   {
    "duration": 16,
    "start_time": "2024-05-13T13:03:46.382Z"
   },
   {
    "duration": 7,
    "start_time": "2024-05-13T13:03:46.400Z"
   },
   {
    "duration": 259,
    "start_time": "2024-05-13T13:03:46.409Z"
   },
   {
    "duration": 8,
    "start_time": "2024-05-13T13:03:46.669Z"
   },
   {
    "duration": 26,
    "start_time": "2024-05-13T13:03:46.679Z"
   },
   {
    "duration": 8,
    "start_time": "2024-05-13T13:03:46.707Z"
   },
   {
    "duration": 11,
    "start_time": "2024-05-13T13:04:03.873Z"
   },
   {
    "duration": 7,
    "start_time": "2024-05-13T13:04:37.466Z"
   },
   {
    "duration": 17,
    "start_time": "2024-05-13T13:20:16.620Z"
   },
   {
    "duration": 19,
    "start_time": "2024-05-13T13:27:24.699Z"
   },
   {
    "duration": 9,
    "start_time": "2024-05-13T13:29:33.220Z"
   },
   {
    "duration": 38,
    "start_time": "2024-05-13T13:33:17.365Z"
   },
   {
    "duration": 9,
    "start_time": "2024-05-13T13:33:20.965Z"
   },
   {
    "duration": 27,
    "start_time": "2024-05-13T13:59:12.675Z"
   },
   {
    "duration": 20,
    "start_time": "2024-05-13T13:59:30.540Z"
   },
   {
    "duration": 19,
    "start_time": "2024-05-13T14:00:55.471Z"
   },
   {
    "duration": 21,
    "start_time": "2024-05-13T14:01:00.488Z"
   },
   {
    "duration": 22,
    "start_time": "2024-05-13T14:01:54.600Z"
   },
   {
    "duration": 21,
    "start_time": "2024-05-13T14:02:16.253Z"
   },
   {
    "duration": 25,
    "start_time": "2024-05-13T14:02:24.292Z"
   },
   {
    "duration": 26,
    "start_time": "2024-05-13T14:04:58.816Z"
   },
   {
    "duration": 22,
    "start_time": "2024-05-13T14:09:54.804Z"
   },
   {
    "duration": 134,
    "start_time": "2024-05-13T14:13:25.885Z"
   },
   {
    "duration": 976,
    "start_time": "2024-05-13T14:13:34.652Z"
   },
   {
    "duration": 767,
    "start_time": "2024-05-13T14:13:50.832Z"
   },
   {
    "duration": 861,
    "start_time": "2024-05-13T14:14:07.129Z"
   },
   {
    "duration": 34,
    "start_time": "2024-05-13T14:14:12.392Z"
   },
   {
    "duration": 274,
    "start_time": "2024-05-13T14:14:42.708Z"
   },
   {
    "duration": 368,
    "start_time": "2024-05-13T14:14:47.020Z"
   },
   {
    "duration": 294,
    "start_time": "2024-05-13T14:15:02.170Z"
   },
   {
    "duration": 269,
    "start_time": "2024-05-13T14:15:26.396Z"
   },
   {
    "duration": 274,
    "start_time": "2024-05-13T14:15:51.010Z"
   },
   {
    "duration": 439,
    "start_time": "2024-05-13T14:16:09.641Z"
   },
   {
    "duration": 14,
    "start_time": "2024-05-13T14:16:31.368Z"
   },
   {
    "duration": 294,
    "start_time": "2024-05-13T14:18:07.159Z"
   },
   {
    "duration": 289,
    "start_time": "2024-05-13T14:18:12.665Z"
   },
   {
    "duration": 293,
    "start_time": "2024-05-13T14:19:08.066Z"
   },
   {
    "duration": 359,
    "start_time": "2024-05-13T14:19:37.421Z"
   },
   {
    "duration": 292,
    "start_time": "2024-05-13T14:20:05.164Z"
   },
   {
    "duration": 6,
    "start_time": "2024-05-13T14:37:18.974Z"
   },
   {
    "duration": 117,
    "start_time": "2024-05-13T14:37:35.152Z"
   },
   {
    "duration": 7,
    "start_time": "2024-05-13T14:38:15.472Z"
   },
   {
    "duration": 107,
    "start_time": "2024-05-13T14:38:26.811Z"
   },
   {
    "duration": 104,
    "start_time": "2024-05-13T14:38:37.446Z"
   },
   {
    "duration": 10,
    "start_time": "2024-05-13T14:39:28.357Z"
   },
   {
    "duration": 100,
    "start_time": "2024-05-13T14:40:20.889Z"
   },
   {
    "duration": 4,
    "start_time": "2024-05-13T14:44:29.882Z"
   },
   {
    "duration": 538,
    "start_time": "2024-05-13T14:45:27.256Z"
   },
   {
    "duration": 2613,
    "start_time": "2024-05-13T14:45:27.991Z"
   },
   {
    "duration": 15,
    "start_time": "2024-05-13T14:45:30.606Z"
   },
   {
    "duration": 53,
    "start_time": "2024-05-13T14:45:30.622Z"
   },
   {
    "duration": 237,
    "start_time": "2024-05-13T14:45:31.119Z"
   },
   {
    "duration": 13,
    "start_time": "2024-05-13T14:45:32.386Z"
   },
   {
    "duration": 30,
    "start_time": "2024-05-13T14:45:33.458Z"
   },
   {
    "duration": 312,
    "start_time": "2024-05-13T14:45:34.988Z"
   },
   {
    "duration": 115,
    "start_time": "2024-05-13T14:45:37.432Z"
   },
   {
    "duration": 118,
    "start_time": "2024-05-13T14:49:59.582Z"
   },
   {
    "duration": 126,
    "start_time": "2024-05-13T14:50:30.444Z"
   },
   {
    "duration": 179,
    "start_time": "2024-05-13T14:51:22.622Z"
   },
   {
    "duration": 111,
    "start_time": "2024-05-13T15:01:21.746Z"
   },
   {
    "duration": 115,
    "start_time": "2024-05-13T15:02:19.684Z"
   },
   {
    "duration": 122,
    "start_time": "2024-05-13T15:14:26.999Z"
   },
   {
    "duration": 122,
    "start_time": "2024-05-13T15:23:52.030Z"
   },
   {
    "duration": 81,
    "start_time": "2024-05-13T15:25:14.042Z"
   },
   {
    "duration": 22,
    "start_time": "2024-05-13T15:25:48.827Z"
   },
   {
    "duration": 126,
    "start_time": "2024-05-13T15:26:24.564Z"
   },
   {
    "duration": 6,
    "start_time": "2024-05-13T15:27:28.526Z"
   },
   {
    "duration": 9,
    "start_time": "2024-05-13T15:27:58.104Z"
   },
   {
    "duration": 14,
    "start_time": "2024-05-13T15:28:20.711Z"
   },
   {
    "duration": 133,
    "start_time": "2024-05-13T15:29:24.032Z"
   },
   {
    "duration": 1643,
    "start_time": "2024-05-13T15:30:29.274Z"
   },
   {
    "duration": 254,
    "start_time": "2024-05-13T15:30:44.996Z"
   },
   {
    "duration": 123,
    "start_time": "2024-05-13T15:31:39.056Z"
   },
   {
    "duration": 233,
    "start_time": "2024-05-13T15:32:24.311Z"
   },
   {
    "duration": 1471,
    "start_time": "2024-05-13T15:32:28.338Z"
   },
   {
    "duration": 743,
    "start_time": "2024-05-13T15:34:00.401Z"
   },
   {
    "duration": 7,
    "start_time": "2024-05-13T15:34:36.371Z"
   },
   {
    "duration": 655,
    "start_time": "2024-05-13T15:34:53.096Z"
   },
   {
    "duration": 473,
    "start_time": "2024-05-13T15:35:18.115Z"
   },
   {
    "duration": 2546,
    "start_time": "2024-05-13T15:35:18.730Z"
   },
   {
    "duration": 14,
    "start_time": "2024-05-13T15:35:21.278Z"
   },
   {
    "duration": 30,
    "start_time": "2024-05-13T15:35:21.293Z"
   },
   {
    "duration": 274,
    "start_time": "2024-05-13T15:35:21.326Z"
   },
   {
    "duration": 9,
    "start_time": "2024-05-13T15:35:22.773Z"
   },
   {
    "duration": 20,
    "start_time": "2024-05-13T15:35:23.583Z"
   },
   {
    "duration": 304,
    "start_time": "2024-05-13T15:35:25.510Z"
   },
   {
    "duration": 105,
    "start_time": "2024-05-13T15:35:28.595Z"
   },
   {
    "duration": 66,
    "start_time": "2024-05-13T15:35:41.015Z"
   },
   {
    "duration": 125,
    "start_time": "2024-05-13T15:35:52.886Z"
   },
   {
    "duration": 10,
    "start_time": "2024-05-13T15:35:58.697Z"
   },
   {
    "duration": 6,
    "start_time": "2024-05-13T15:36:04.548Z"
   },
   {
    "duration": 11,
    "start_time": "2024-05-13T15:36:09.108Z"
   },
   {
    "duration": 164,
    "start_time": "2024-05-13T15:36:11.808Z"
   },
   {
    "duration": 201,
    "start_time": "2024-05-13T15:36:28.031Z"
   },
   {
    "duration": 1871,
    "start_time": "2024-05-13T15:36:58.128Z"
   },
   {
    "duration": 1741,
    "start_time": "2024-05-13T15:37:09.836Z"
   },
   {
    "duration": 45,
    "start_time": "2024-05-13T15:37:56.659Z"
   },
   {
    "duration": 6,
    "start_time": "2024-05-13T15:38:03.063Z"
   },
   {
    "duration": 480,
    "start_time": "2024-05-13T15:38:09.813Z"
   },
   {
    "duration": 2563,
    "start_time": "2024-05-13T15:38:10.295Z"
   },
   {
    "duration": 14,
    "start_time": "2024-05-13T15:38:12.860Z"
   },
   {
    "duration": 8,
    "start_time": "2024-05-13T15:38:12.876Z"
   },
   {
    "duration": 279,
    "start_time": "2024-05-13T15:38:12.886Z"
   },
   {
    "duration": 8,
    "start_time": "2024-05-13T15:38:13.167Z"
   },
   {
    "duration": 92,
    "start_time": "2024-05-13T15:38:13.176Z"
   },
   {
    "duration": 283,
    "start_time": "2024-05-13T15:38:13.316Z"
   },
   {
    "duration": 130,
    "start_time": "2024-05-13T15:38:21.747Z"
   },
   {
    "duration": 117,
    "start_time": "2024-05-13T15:38:27.056Z"
   },
   {
    "duration": 120,
    "start_time": "2024-05-13T15:41:08.308Z"
   },
   {
    "duration": 248,
    "start_time": "2024-05-13T15:43:31.220Z"
   },
   {
    "duration": 180,
    "start_time": "2024-05-13T15:43:48.132Z"
   },
   {
    "duration": 169,
    "start_time": "2024-05-13T15:47:10.686Z"
   },
   {
    "duration": 535,
    "start_time": "2024-05-13T15:52:07.537Z"
   },
   {
    "duration": 18,
    "start_time": "2024-05-13T15:52:10.066Z"
   },
   {
    "duration": 2431,
    "start_time": "2024-05-13T15:52:31.881Z"
   },
   {
    "duration": 15,
    "start_time": "2024-05-13T15:52:35.818Z"
   },
   {
    "duration": 8,
    "start_time": "2024-05-13T15:52:37.033Z"
   },
   {
    "duration": 229,
    "start_time": "2024-05-13T15:52:37.522Z"
   },
   {
    "duration": 9,
    "start_time": "2024-05-13T15:52:39.756Z"
   },
   {
    "duration": 21,
    "start_time": "2024-05-13T15:52:43.372Z"
   },
   {
    "duration": 283,
    "start_time": "2024-05-13T15:52:44.331Z"
   },
   {
    "duration": 159,
    "start_time": "2024-05-13T15:52:50.467Z"
   },
   {
    "duration": 14,
    "start_time": "2024-05-13T15:53:25.822Z"
   },
   {
    "duration": 79,
    "start_time": "2024-05-13T15:53:33.937Z"
   },
   {
    "duration": 182,
    "start_time": "2024-05-13T15:53:45.675Z"
   },
   {
    "duration": 155,
    "start_time": "2024-05-13T15:54:26.572Z"
   },
   {
    "duration": 5,
    "start_time": "2024-05-13T15:59:12.856Z"
   },
   {
    "duration": 89,
    "start_time": "2024-05-13T16:55:29.871Z"
   },
   {
    "duration": 21,
    "start_time": "2024-05-13T16:55:41.892Z"
   },
   {
    "duration": 151,
    "start_time": "2024-05-13T16:55:53.097Z"
   },
   {
    "duration": 159,
    "start_time": "2024-05-13T16:58:21.020Z"
   },
   {
    "duration": 130,
    "start_time": "2024-05-13T16:59:14.479Z"
   },
   {
    "duration": 142,
    "start_time": "2024-05-13T17:04:49.221Z"
   },
   {
    "duration": 148,
    "start_time": "2024-05-13T17:05:42.247Z"
   },
   {
    "duration": 7,
    "start_time": "2024-05-13T17:06:01.868Z"
   },
   {
    "duration": 7,
    "start_time": "2024-05-13T17:06:08.406Z"
   },
   {
    "duration": 7,
    "start_time": "2024-05-13T17:06:19.124Z"
   },
   {
    "duration": 37,
    "start_time": "2024-05-13T17:06:56.961Z"
   },
   {
    "duration": 132,
    "start_time": "2024-05-13T17:10:59.385Z"
   },
   {
    "duration": 148,
    "start_time": "2024-05-13T17:13:39.211Z"
   },
   {
    "duration": 129,
    "start_time": "2024-05-13T17:13:55.944Z"
   },
   {
    "duration": 323,
    "start_time": "2024-05-13T17:15:13.928Z"
   },
   {
    "duration": 224,
    "start_time": "2024-05-13T17:15:33.105Z"
   },
   {
    "duration": 256,
    "start_time": "2024-05-13T17:15:50.671Z"
   },
   {
    "duration": 342,
    "start_time": "2024-05-13T17:17:55.815Z"
   },
   {
    "duration": 125,
    "start_time": "2024-05-13T17:18:04.845Z"
   },
   {
    "duration": 57,
    "start_time": "2024-05-13T17:18:48.830Z"
   },
   {
    "duration": 0,
    "start_time": "2024-05-13T17:18:48.890Z"
   },
   {
    "duration": 0,
    "start_time": "2024-05-13T17:18:48.891Z"
   },
   {
    "duration": 0,
    "start_time": "2024-05-13T17:18:48.893Z"
   },
   {
    "duration": 0,
    "start_time": "2024-05-13T17:18:48.894Z"
   },
   {
    "duration": 0,
    "start_time": "2024-05-13T17:18:48.895Z"
   },
   {
    "duration": 0,
    "start_time": "2024-05-13T17:18:48.897Z"
   },
   {
    "duration": 0,
    "start_time": "2024-05-13T17:18:48.898Z"
   },
   {
    "duration": 0,
    "start_time": "2024-05-13T17:18:48.900Z"
   },
   {
    "duration": 0,
    "start_time": "2024-05-13T17:18:48.901Z"
   },
   {
    "duration": 0,
    "start_time": "2024-05-13T17:18:48.902Z"
   },
   {
    "duration": 0,
    "start_time": "2024-05-13T17:18:48.904Z"
   },
   {
    "duration": 23,
    "start_time": "2024-05-13T17:18:48.906Z"
   },
   {
    "duration": 0,
    "start_time": "2024-05-13T17:18:48.968Z"
   },
   {
    "duration": 8,
    "start_time": "2024-05-13T17:18:51.705Z"
   },
   {
    "duration": 6,
    "start_time": "2024-05-13T17:18:58.230Z"
   },
   {
    "duration": 503,
    "start_time": "2024-05-13T17:19:04.373Z"
   },
   {
    "duration": 16,
    "start_time": "2024-05-13T17:19:06.467Z"
   },
   {
    "duration": 2475,
    "start_time": "2024-05-13T17:19:09.525Z"
   },
   {
    "duration": 16,
    "start_time": "2024-05-13T17:19:12.002Z"
   },
   {
    "duration": 9,
    "start_time": "2024-05-13T17:19:12.020Z"
   },
   {
    "duration": 235,
    "start_time": "2024-05-13T17:19:12.031Z"
   },
   {
    "duration": 9,
    "start_time": "2024-05-13T17:19:12.268Z"
   },
   {
    "duration": 24,
    "start_time": "2024-05-13T17:19:12.279Z"
   },
   {
    "duration": 305,
    "start_time": "2024-05-13T17:19:12.305Z"
   },
   {
    "duration": 108,
    "start_time": "2024-05-13T17:19:12.848Z"
   },
   {
    "duration": 114,
    "start_time": "2024-05-13T17:19:14.204Z"
   },
   {
    "duration": 136,
    "start_time": "2024-05-13T17:19:16.140Z"
   },
   {
    "duration": 175,
    "start_time": "2024-05-13T17:19:20.259Z"
   },
   {
    "duration": 132,
    "start_time": "2024-05-13T17:19:23.611Z"
   },
   {
    "duration": 1324,
    "start_time": "2024-05-13T17:19:36.632Z"
   },
   {
    "duration": 30448,
    "start_time": "2024-05-13T17:20:03.810Z"
   },
   {
    "duration": 174,
    "start_time": "2024-05-13T17:25:50.755Z"
   },
   {
    "duration": 195,
    "start_time": "2024-05-13T17:26:11.681Z"
   },
   {
    "duration": 1134,
    "start_time": "2024-05-13T17:26:17.072Z"
   },
   {
    "duration": 140,
    "start_time": "2024-05-13T17:26:35.161Z"
   },
   {
    "duration": 112,
    "start_time": "2024-05-13T17:26:39.460Z"
   },
   {
    "duration": 227,
    "start_time": "2024-05-13T17:28:55.352Z"
   },
   {
    "duration": 249,
    "start_time": "2024-05-13T17:29:21.356Z"
   },
   {
    "duration": 189,
    "start_time": "2024-05-13T17:29:36.459Z"
   },
   {
    "duration": 393,
    "start_time": "2024-05-13T17:29:44.972Z"
   },
   {
    "duration": 126,
    "start_time": "2024-05-13T17:29:52.376Z"
   },
   {
    "duration": 163,
    "start_time": "2024-05-13T17:30:01.436Z"
   },
   {
    "duration": 112,
    "start_time": "2024-05-13T17:30:08.772Z"
   },
   {
    "duration": 140,
    "start_time": "2024-05-13T17:30:28.292Z"
   },
   {
    "duration": 138,
    "start_time": "2024-05-13T17:30:55.908Z"
   },
   {
    "duration": 39,
    "start_time": "2024-05-13T17:32:43.234Z"
   },
   {
    "duration": 246,
    "start_time": "2024-05-13T17:32:53.252Z"
   },
   {
    "duration": 231,
    "start_time": "2024-05-13T17:32:56.322Z"
   },
   {
    "duration": 174,
    "start_time": "2024-05-13T17:33:11.725Z"
   },
   {
    "duration": 145,
    "start_time": "2024-05-13T17:35:46.960Z"
   },
   {
    "duration": 165,
    "start_time": "2024-05-13T17:35:53.807Z"
   },
   {
    "duration": 179,
    "start_time": "2024-05-13T17:38:55.609Z"
   },
   {
    "duration": 160,
    "start_time": "2024-05-13T17:39:21.453Z"
   },
   {
    "duration": 172,
    "start_time": "2024-05-13T17:41:31.548Z"
   },
   {
    "duration": 102,
    "start_time": "2024-05-13T17:43:17.315Z"
   },
   {
    "duration": 114,
    "start_time": "2024-05-13T17:43:18.535Z"
   },
   {
    "duration": 126,
    "start_time": "2024-05-13T17:43:22.623Z"
   },
   {
    "duration": 178,
    "start_time": "2024-05-13T17:43:29.687Z"
   },
   {
    "duration": 161,
    "start_time": "2024-05-13T17:43:56.561Z"
   },
   {
    "duration": 130,
    "start_time": "2024-05-13T17:44:00.199Z"
   },
   {
    "duration": 118,
    "start_time": "2024-05-13T17:44:44.134Z"
   },
   {
    "duration": 151,
    "start_time": "2024-05-13T17:44:55.564Z"
   },
   {
    "duration": 15,
    "start_time": "2024-05-13T17:49:12.154Z"
   },
   {
    "duration": 140,
    "start_time": "2024-05-13T17:49:32.736Z"
   },
   {
    "duration": 286,
    "start_time": "2024-05-13T18:01:23.895Z"
   },
   {
    "duration": 117,
    "start_time": "2024-05-13T18:01:40.537Z"
   },
   {
    "duration": 168,
    "start_time": "2024-05-13T18:01:56.581Z"
   },
   {
    "duration": 129,
    "start_time": "2024-05-13T18:01:59.511Z"
   },
   {
    "duration": 117,
    "start_time": "2024-05-13T18:02:31.049Z"
   },
   {
    "duration": 136,
    "start_time": "2024-05-13T18:03:49.447Z"
   },
   {
    "duration": 133,
    "start_time": "2024-05-13T18:04:35.212Z"
   },
   {
    "duration": 151,
    "start_time": "2024-05-13T18:04:48.728Z"
   },
   {
    "duration": 140,
    "start_time": "2024-05-13T18:05:04.740Z"
   },
   {
    "duration": 135,
    "start_time": "2024-05-13T18:05:11.453Z"
   },
   {
    "duration": 136,
    "start_time": "2024-05-13T18:07:17.875Z"
   },
   {
    "duration": 138,
    "start_time": "2024-05-13T18:07:26.327Z"
   },
   {
    "duration": 156,
    "start_time": "2024-05-13T18:07:45.662Z"
   },
   {
    "duration": 25,
    "start_time": "2024-05-13T18:10:30.108Z"
   },
   {
    "duration": 152,
    "start_time": "2024-05-13T18:10:36.273Z"
   },
   {
    "duration": 24,
    "start_time": "2024-05-13T18:11:15.402Z"
   },
   {
    "duration": 137,
    "start_time": "2024-05-13T18:11:23.516Z"
   },
   {
    "duration": 148,
    "start_time": "2024-05-13T18:16:49.842Z"
   },
   {
    "duration": 134,
    "start_time": "2024-05-13T18:19:49.920Z"
   },
   {
    "duration": 189,
    "start_time": "2024-05-13T18:34:19.749Z"
   },
   {
    "duration": 175,
    "start_time": "2024-05-13T18:43:27.042Z"
   },
   {
    "duration": 171,
    "start_time": "2024-05-13T19:11:04.659Z"
   },
   {
    "duration": 189,
    "start_time": "2024-05-13T19:11:13.501Z"
   },
   {
    "duration": 199,
    "start_time": "2024-05-13T19:13:11.613Z"
   },
   {
    "duration": 25,
    "start_time": "2024-05-13T19:14:20.574Z"
   },
   {
    "duration": 185,
    "start_time": "2024-05-13T19:14:31.337Z"
   },
   {
    "duration": 166,
    "start_time": "2024-05-13T19:16:37.391Z"
   },
   {
    "duration": 23,
    "start_time": "2024-05-13T19:16:53.718Z"
   },
   {
    "duration": 196,
    "start_time": "2024-05-13T19:17:17.927Z"
   },
   {
    "duration": 194,
    "start_time": "2024-05-13T19:17:27.806Z"
   },
   {
    "duration": 34,
    "start_time": "2024-05-13T19:17:54.386Z"
   },
   {
    "duration": 162,
    "start_time": "2024-05-13T19:18:01.265Z"
   },
   {
    "duration": 21,
    "start_time": "2024-05-13T19:18:35.538Z"
   },
   {
    "duration": 191,
    "start_time": "2024-05-13T19:18:41.237Z"
   },
   {
    "duration": 187,
    "start_time": "2024-05-13T19:18:50.036Z"
   },
   {
    "duration": 34,
    "start_time": "2024-05-13T20:07:57.362Z"
   },
   {
    "duration": 27,
    "start_time": "2024-05-13T20:08:02.745Z"
   },
   {
    "duration": 30,
    "start_time": "2024-05-13T20:23:13.086Z"
   },
   {
    "duration": 14,
    "start_time": "2024-05-13T20:24:44.464Z"
   },
   {
    "duration": 12,
    "start_time": "2024-05-13T20:27:04.040Z"
   },
   {
    "duration": 12,
    "start_time": "2024-05-13T20:27:17.034Z"
   },
   {
    "duration": 105,
    "start_time": "2024-05-13T20:27:17.448Z"
   },
   {
    "duration": 2089,
    "start_time": "2024-05-13T20:27:17.632Z"
   },
   {
    "duration": 18,
    "start_time": "2024-05-13T20:27:19.723Z"
   },
   {
    "duration": 29,
    "start_time": "2024-05-13T20:27:19.743Z"
   },
   {
    "duration": 262,
    "start_time": "2024-05-13T20:27:19.775Z"
   },
   {
    "duration": 9,
    "start_time": "2024-05-13T20:27:20.038Z"
   },
   {
    "duration": 39,
    "start_time": "2024-05-13T20:27:20.049Z"
   },
   {
    "duration": 310,
    "start_time": "2024-05-13T20:27:20.090Z"
   },
   {
    "duration": 106,
    "start_time": "2024-05-13T20:27:21.130Z"
   },
   {
    "duration": 118,
    "start_time": "2024-05-13T20:27:21.820Z"
   },
   {
    "duration": 117,
    "start_time": "2024-05-13T20:27:22.668Z"
   },
   {
    "duration": 155,
    "start_time": "2024-05-13T20:27:23.800Z"
   },
   {
    "duration": 128,
    "start_time": "2024-05-13T20:27:25.220Z"
   },
   {
    "duration": 125,
    "start_time": "2024-05-13T20:27:26.023Z"
   },
   {
    "duration": 112,
    "start_time": "2024-05-13T20:27:26.994Z"
   },
   {
    "duration": 154,
    "start_time": "2024-05-13T20:27:27.693Z"
   },
   {
    "duration": 122,
    "start_time": "2024-05-13T20:27:28.510Z"
   },
   {
    "duration": 127,
    "start_time": "2024-05-13T20:27:31.616Z"
   },
   {
    "duration": 174,
    "start_time": "2024-05-13T20:27:32.598Z"
   },
   {
    "duration": 15,
    "start_time": "2024-05-13T20:27:37.023Z"
   },
   {
    "duration": 40,
    "start_time": "2024-05-13T20:27:59.592Z"
   },
   {
    "duration": 2026,
    "start_time": "2024-05-13T20:28:42.981Z"
   },
   {
    "duration": 13,
    "start_time": "2024-05-13T20:29:56.166Z"
   },
   {
    "duration": 53,
    "start_time": "2024-05-13T20:36:01.439Z"
   },
   {
    "duration": 42,
    "start_time": "2024-05-13T20:36:20.750Z"
   },
   {
    "duration": 670,
    "start_time": "2024-05-13T20:39:38.384Z"
   },
   {
    "duration": 692,
    "start_time": "2024-05-13T20:39:51.375Z"
   },
   {
    "duration": 207,
    "start_time": "2024-05-13T20:40:09.697Z"
   },
   {
    "duration": 188,
    "start_time": "2024-05-13T20:40:14.053Z"
   },
   {
    "duration": 40,
    "start_time": "2024-05-13T20:41:47.616Z"
   },
   {
    "duration": 280,
    "start_time": "2024-05-13T20:43:37.266Z"
   },
   {
    "duration": 44,
    "start_time": "2024-05-13T20:43:48.074Z"
   },
   {
    "duration": 42,
    "start_time": "2024-05-13T20:43:55.192Z"
   },
   {
    "duration": 41,
    "start_time": "2024-05-13T20:43:58.681Z"
   },
   {
    "duration": 39,
    "start_time": "2024-05-13T20:44:02.145Z"
   },
   {
    "duration": 46,
    "start_time": "2024-05-13T20:44:30.262Z"
   },
   {
    "duration": 44,
    "start_time": "2024-05-13T20:44:46.634Z"
   },
   {
    "duration": 43,
    "start_time": "2024-05-13T20:44:59.061Z"
   },
   {
    "duration": 43,
    "start_time": "2024-05-13T20:45:14.474Z"
   },
   {
    "duration": 689,
    "start_time": "2024-05-13T20:46:36.188Z"
   },
   {
    "duration": 52,
    "start_time": "2024-05-13T20:46:53.864Z"
   },
   {
    "duration": 44,
    "start_time": "2024-05-13T20:47:04.506Z"
   },
   {
    "duration": 45,
    "start_time": "2024-05-13T20:47:17.451Z"
   },
   {
    "duration": 55,
    "start_time": "2024-05-13T20:53:43.276Z"
   },
   {
    "duration": 51,
    "start_time": "2024-05-13T20:54:11.971Z"
   },
   {
    "duration": 180,
    "start_time": "2024-05-13T20:54:41.349Z"
   },
   {
    "duration": 110,
    "start_time": "2024-05-13T21:01:44.749Z"
   },
   {
    "duration": 35,
    "start_time": "2024-05-13T21:05:49.876Z"
   },
   {
    "duration": 32,
    "start_time": "2024-05-13T21:06:26.824Z"
   },
   {
    "duration": 73,
    "start_time": "2024-05-13T21:06:42.771Z"
   },
   {
    "duration": 864,
    "start_time": "2024-05-13T21:08:46.467Z"
   },
   {
    "duration": 356,
    "start_time": "2024-05-13T21:09:27.006Z"
   },
   {
    "duration": 106,
    "start_time": "2024-05-13T21:12:53.241Z"
   },
   {
    "duration": 811,
    "start_time": "2024-05-13T21:13:14.637Z"
   },
   {
    "duration": 685,
    "start_time": "2024-05-13T21:13:21.638Z"
   },
   {
    "duration": 4887,
    "start_time": "2024-05-13T21:13:23.601Z"
   },
   {
    "duration": 5012,
    "start_time": "2024-05-13T21:19:34.822Z"
   },
   {
    "duration": 4937,
    "start_time": "2024-05-13T21:21:24.525Z"
   },
   {
    "duration": 5567,
    "start_time": "2024-05-13T21:21:52.545Z"
   },
   {
    "duration": 4921,
    "start_time": "2024-05-13T21:22:07.177Z"
   },
   {
    "duration": 4998,
    "start_time": "2024-05-13T21:25:50.948Z"
   },
   {
    "duration": 4932,
    "start_time": "2024-05-13T21:26:16.532Z"
   },
   {
    "duration": 5098,
    "start_time": "2024-05-13T21:27:47.708Z"
   },
   {
    "duration": 5073,
    "start_time": "2024-05-13T21:30:38.972Z"
   },
   {
    "duration": 6708,
    "start_time": "2024-05-13T21:31:13.823Z"
   },
   {
    "duration": 4873,
    "start_time": "2024-05-13T21:31:28.066Z"
   },
   {
    "duration": 130,
    "start_time": "2024-05-13T21:31:47.378Z"
   },
   {
    "duration": 7,
    "start_time": "2024-05-13T21:38:52.759Z"
   },
   {
    "duration": 778,
    "start_time": "2024-05-13T21:39:04.972Z"
   },
   {
    "duration": 6,
    "start_time": "2024-05-13T21:39:21.701Z"
   },
   {
    "duration": 758,
    "start_time": "2024-05-13T21:39:37.751Z"
   },
   {
    "duration": 12,
    "start_time": "2024-05-13T21:39:53.170Z"
   },
   {
    "duration": 12,
    "start_time": "2024-05-13T21:39:57.184Z"
   },
   {
    "duration": 8,
    "start_time": "2024-05-13T21:40:18.775Z"
   },
   {
    "duration": 690,
    "start_time": "2024-05-13T21:40:37.505Z"
   },
   {
    "duration": 6,
    "start_time": "2024-05-13T21:40:53.651Z"
   },
   {
    "duration": 762,
    "start_time": "2024-05-13T21:42:59.584Z"
   },
   {
    "duration": 30,
    "start_time": "2024-05-13T21:43:23.463Z"
   },
   {
    "duration": 32,
    "start_time": "2024-05-13T21:43:30.288Z"
   },
   {
    "duration": 157,
    "start_time": "2024-05-13T21:43:41.193Z"
   },
   {
    "duration": 126,
    "start_time": "2024-05-13T21:43:56.920Z"
   },
   {
    "duration": 734,
    "start_time": "2024-05-13T21:44:41.421Z"
   },
   {
    "duration": 34,
    "start_time": "2024-05-13T21:45:02.801Z"
   },
   {
    "duration": 31,
    "start_time": "2024-05-13T21:51:15.485Z"
   },
   {
    "duration": 32,
    "start_time": "2024-05-13T21:51:22.881Z"
   },
   {
    "duration": 177,
    "start_time": "2024-05-13T22:21:25.645Z"
   },
   {
    "duration": 173,
    "start_time": "2024-05-13T22:21:41.559Z"
   },
   {
    "duration": 156,
    "start_time": "2024-05-13T22:21:55.929Z"
   },
   {
    "duration": 36,
    "start_time": "2024-05-13T22:22:22.180Z"
   },
   {
    "duration": 164,
    "start_time": "2024-05-13T22:24:12.761Z"
   },
   {
    "duration": 28,
    "start_time": "2024-05-13T22:27:05.260Z"
   },
   {
    "duration": 157,
    "start_time": "2024-05-13T22:36:47.839Z"
   },
   {
    "duration": 148,
    "start_time": "2024-05-13T22:37:30.469Z"
   },
   {
    "duration": 132,
    "start_time": "2024-05-13T22:37:38.555Z"
   },
   {
    "duration": 9,
    "start_time": "2024-05-13T22:40:03.874Z"
   },
   {
    "duration": 9,
    "start_time": "2024-05-13T22:40:11.031Z"
   },
   {
    "duration": 12,
    "start_time": "2024-05-13T22:41:54.170Z"
   },
   {
    "duration": 7,
    "start_time": "2024-05-13T22:42:04.167Z"
   },
   {
    "duration": 20,
    "start_time": "2024-05-13T22:42:18.980Z"
   },
   {
    "duration": 19,
    "start_time": "2024-05-13T22:42:35.435Z"
   },
   {
    "duration": 23,
    "start_time": "2024-05-13T22:42:40.710Z"
   },
   {
    "duration": 19,
    "start_time": "2024-05-13T22:43:01.019Z"
   },
   {
    "duration": 10,
    "start_time": "2024-05-13T22:44:18.118Z"
   },
   {
    "duration": 16,
    "start_time": "2024-05-13T22:44:22.078Z"
   },
   {
    "duration": 18,
    "start_time": "2024-05-13T22:44:41.607Z"
   },
   {
    "duration": 43,
    "start_time": "2024-05-13T22:44:58.505Z"
   },
   {
    "duration": 9,
    "start_time": "2024-05-13T22:45:01.347Z"
   },
   {
    "duration": 7,
    "start_time": "2024-05-13T22:45:05.450Z"
   },
   {
    "duration": 7,
    "start_time": "2024-05-13T22:45:14.713Z"
   },
   {
    "duration": 14,
    "start_time": "2024-05-13T22:52:55.246Z"
   },
   {
    "duration": 8,
    "start_time": "2024-05-13T22:54:52.597Z"
   },
   {
    "duration": 5,
    "start_time": "2024-05-13T22:55:53.040Z"
   },
   {
    "duration": 7,
    "start_time": "2024-05-13T22:55:57.704Z"
   },
   {
    "duration": 26,
    "start_time": "2024-05-13T23:02:10.239Z"
   },
   {
    "duration": 24,
    "start_time": "2024-05-13T23:02:14.860Z"
   },
   {
    "duration": 39,
    "start_time": "2024-05-13T23:03:02.082Z"
   },
   {
    "duration": 26,
    "start_time": "2024-05-13T23:03:04.996Z"
   },
   {
    "duration": 24,
    "start_time": "2024-05-13T23:03:14.491Z"
   },
   {
    "duration": 26,
    "start_time": "2024-05-13T23:03:24.279Z"
   },
   {
    "duration": 25,
    "start_time": "2024-05-13T23:03:39.571Z"
   },
   {
    "duration": 25,
    "start_time": "2024-05-13T23:03:45.121Z"
   },
   {
    "duration": 24,
    "start_time": "2024-05-13T23:04:06.392Z"
   },
   {
    "duration": 32,
    "start_time": "2024-05-13T23:04:16.066Z"
   },
   {
    "duration": 24,
    "start_time": "2024-05-13T23:04:28.246Z"
   },
   {
    "duration": 24,
    "start_time": "2024-05-13T23:04:40.329Z"
   },
   {
    "duration": 25,
    "start_time": "2024-05-13T23:04:49.666Z"
   },
   {
    "duration": 25,
    "start_time": "2024-05-13T23:05:00.699Z"
   },
   {
    "duration": 42,
    "start_time": "2024-05-13T23:06:17.079Z"
   },
   {
    "duration": 25,
    "start_time": "2024-05-13T23:06:29.695Z"
   },
   {
    "duration": 27,
    "start_time": "2024-05-13T23:06:43.157Z"
   },
   {
    "duration": 32,
    "start_time": "2024-05-13T23:07:35.928Z"
   },
   {
    "duration": 29,
    "start_time": "2024-05-13T23:08:18.355Z"
   },
   {
    "duration": 28,
    "start_time": "2024-05-13T23:08:24.684Z"
   },
   {
    "duration": 42,
    "start_time": "2024-05-13T23:09:23.535Z"
   },
   {
    "duration": 55,
    "start_time": "2024-05-13T23:09:52.015Z"
   },
   {
    "duration": 29,
    "start_time": "2024-05-13T23:09:55.277Z"
   },
   {
    "duration": 27,
    "start_time": "2024-05-13T23:10:02.590Z"
   },
   {
    "duration": 27,
    "start_time": "2024-05-13T23:10:20.417Z"
   },
   {
    "duration": 27,
    "start_time": "2024-05-13T23:10:44.866Z"
   },
   {
    "duration": 31,
    "start_time": "2024-05-13T23:12:18.145Z"
   },
   {
    "duration": 29,
    "start_time": "2024-05-13T23:13:01.361Z"
   },
   {
    "duration": 27,
    "start_time": "2024-05-13T23:13:06.587Z"
   },
   {
    "duration": 29,
    "start_time": "2024-05-13T23:13:50.207Z"
   },
   {
    "duration": 28,
    "start_time": "2024-05-13T23:14:44.164Z"
   },
   {
    "duration": 25,
    "start_time": "2024-05-13T23:22:03.101Z"
   },
   {
    "duration": 12,
    "start_time": "2024-05-13T23:23:14.351Z"
   },
   {
    "duration": 22,
    "start_time": "2024-05-13T23:23:17.606Z"
   },
   {
    "duration": 20,
    "start_time": "2024-05-13T23:24:24.081Z"
   },
   {
    "duration": 17,
    "start_time": "2024-05-13T23:24:35.594Z"
   },
   {
    "duration": 218,
    "start_time": "2024-05-13T23:27:53.007Z"
   },
   {
    "duration": 128,
    "start_time": "2024-05-13T23:28:57.560Z"
   },
   {
    "duration": 138,
    "start_time": "2024-05-13T23:29:17.480Z"
   },
   {
    "duration": 687,
    "start_time": "2024-05-13T23:29:34.498Z"
   },
   {
    "duration": 162,
    "start_time": "2024-05-13T23:29:50.150Z"
   },
   {
    "duration": 118,
    "start_time": "2024-05-13T23:30:38.495Z"
   },
   {
    "duration": 136,
    "start_time": "2024-05-13T23:30:42.720Z"
   },
   {
    "duration": 47,
    "start_time": "2024-05-14T11:13:16.885Z"
   },
   {
    "duration": 644,
    "start_time": "2024-05-14T11:13:26.381Z"
   },
   {
    "duration": 17,
    "start_time": "2024-05-14T11:13:28.334Z"
   },
   {
    "duration": 2810,
    "start_time": "2024-05-14T11:13:31.220Z"
   },
   {
    "duration": 16,
    "start_time": "2024-05-14T11:13:34.033Z"
   },
   {
    "duration": 9,
    "start_time": "2024-05-14T11:13:34.051Z"
   },
   {
    "duration": 280,
    "start_time": "2024-05-14T11:13:34.061Z"
   },
   {
    "duration": 9,
    "start_time": "2024-05-14T11:13:34.342Z"
   },
   {
    "duration": 35,
    "start_time": "2024-05-14T11:13:34.353Z"
   },
   {
    "duration": 305,
    "start_time": "2024-05-14T11:13:34.390Z"
   },
   {
    "duration": 110,
    "start_time": "2024-05-14T11:13:34.789Z"
   },
   {
    "duration": 127,
    "start_time": "2024-05-14T11:13:35.305Z"
   },
   {
    "duration": 246,
    "start_time": "2024-05-14T11:13:35.800Z"
   },
   {
    "duration": 169,
    "start_time": "2024-05-14T11:13:36.184Z"
   },
   {
    "duration": 140,
    "start_time": "2024-05-14T11:13:36.574Z"
   },
   {
    "duration": 138,
    "start_time": "2024-05-14T11:13:37.504Z"
   },
   {
    "duration": 124,
    "start_time": "2024-05-14T11:13:40.422Z"
   },
   {
    "duration": 163,
    "start_time": "2024-05-14T11:13:40.834Z"
   },
   {
    "duration": 133,
    "start_time": "2024-05-14T11:13:42.438Z"
   },
   {
    "duration": 136,
    "start_time": "2024-05-14T11:13:44.577Z"
   },
   {
    "duration": 210,
    "start_time": "2024-05-14T11:13:46.023Z"
   },
   {
    "duration": 51,
    "start_time": "2024-05-14T11:14:10.386Z"
   },
   {
    "duration": 19,
    "start_time": "2024-05-14T11:14:38.923Z"
   },
   {
    "duration": 18,
    "start_time": "2024-05-14T11:14:42.756Z"
   },
   {
    "duration": 199,
    "start_time": "2024-05-14T11:14:50.705Z"
   },
   {
    "duration": 615,
    "start_time": "2024-05-14T11:17:33.748Z"
   },
   {
    "duration": 410,
    "start_time": "2024-05-14T11:17:40.873Z"
   },
   {
    "duration": 240,
    "start_time": "2024-05-14T11:18:23.075Z"
   },
   {
    "duration": 19,
    "start_time": "2024-05-14T11:24:22.229Z"
   },
   {
    "duration": 26,
    "start_time": "2024-05-14T11:25:06.831Z"
   },
   {
    "duration": 159,
    "start_time": "2024-05-14T11:25:12.974Z"
   },
   {
    "duration": 264,
    "start_time": "2024-05-14T11:26:36.036Z"
   },
   {
    "duration": 9,
    "start_time": "2024-05-14T11:35:02.436Z"
   },
   {
    "duration": 31,
    "start_time": "2024-05-14T11:35:10.321Z"
   },
   {
    "duration": 685,
    "start_time": "2024-05-14T11:35:12.426Z"
   },
   {
    "duration": 530,
    "start_time": "2024-05-14T11:35:27.857Z"
   },
   {
    "duration": 2649,
    "start_time": "2024-05-14T11:35:28.389Z"
   },
   {
    "duration": 16,
    "start_time": "2024-05-14T11:35:31.041Z"
   },
   {
    "duration": 58,
    "start_time": "2024-05-14T11:35:31.059Z"
   },
   {
    "duration": 296,
    "start_time": "2024-05-14T11:35:31.119Z"
   },
   {
    "duration": 9,
    "start_time": "2024-05-14T11:35:31.417Z"
   },
   {
    "duration": 54,
    "start_time": "2024-05-14T11:35:31.428Z"
   },
   {
    "duration": 311,
    "start_time": "2024-05-14T11:35:31.484Z"
   },
   {
    "duration": 128,
    "start_time": "2024-05-14T11:35:31.797Z"
   },
   {
    "duration": 166,
    "start_time": "2024-05-14T11:35:31.927Z"
   },
   {
    "duration": 141,
    "start_time": "2024-05-14T11:35:32.097Z"
   },
   {
    "duration": 250,
    "start_time": "2024-05-14T11:35:32.240Z"
   },
   {
    "duration": 148,
    "start_time": "2024-05-14T11:35:32.492Z"
   },
   {
    "duration": 155,
    "start_time": "2024-05-14T11:35:32.642Z"
   },
   {
    "duration": 134,
    "start_time": "2024-05-14T11:35:32.800Z"
   },
   {
    "duration": 159,
    "start_time": "2024-05-14T11:35:32.936Z"
   },
   {
    "duration": 150,
    "start_time": "2024-05-14T11:35:33.097Z"
   },
   {
    "duration": 147,
    "start_time": "2024-05-14T11:35:33.249Z"
   },
   {
    "duration": 196,
    "start_time": "2024-05-14T11:35:33.398Z"
   },
   {
    "duration": 5851,
    "start_time": "2024-05-14T11:35:33.596Z"
   },
   {
    "duration": 35,
    "start_time": "2024-05-14T11:35:39.448Z"
   },
   {
    "duration": 796,
    "start_time": "2024-05-14T11:35:39.484Z"
   },
   {
    "duration": 0,
    "start_time": "2024-05-14T11:35:40.282Z"
   },
   {
    "duration": 0,
    "start_time": "2024-05-14T11:35:40.284Z"
   },
   {
    "duration": 0,
    "start_time": "2024-05-14T11:35:40.285Z"
   },
   {
    "duration": 155,
    "start_time": "2024-05-14T11:35:42.028Z"
   },
   {
    "duration": 703,
    "start_time": "2024-05-14T11:35:48.614Z"
   },
   {
    "duration": 685,
    "start_time": "2024-05-14T11:36:04.702Z"
   },
   {
    "duration": 509,
    "start_time": "2024-05-14T11:39:51.066Z"
   },
   {
    "duration": 2661,
    "start_time": "2024-05-14T11:39:51.577Z"
   },
   {
    "duration": 15,
    "start_time": "2024-05-14T11:39:54.240Z"
   },
   {
    "duration": 20,
    "start_time": "2024-05-14T11:39:54.256Z"
   },
   {
    "duration": 303,
    "start_time": "2024-05-14T11:39:54.278Z"
   },
   {
    "duration": 9,
    "start_time": "2024-05-14T11:39:54.583Z"
   },
   {
    "duration": 58,
    "start_time": "2024-05-14T11:39:54.593Z"
   },
   {
    "duration": 303,
    "start_time": "2024-05-14T11:39:54.652Z"
   },
   {
    "duration": 118,
    "start_time": "2024-05-14T11:39:54.956Z"
   },
   {
    "duration": 130,
    "start_time": "2024-05-14T11:39:55.076Z"
   },
   {
    "duration": 135,
    "start_time": "2024-05-14T11:39:55.208Z"
   },
   {
    "duration": 246,
    "start_time": "2024-05-14T11:39:55.345Z"
   },
   {
    "duration": 145,
    "start_time": "2024-05-14T11:39:55.593Z"
   },
   {
    "duration": 155,
    "start_time": "2024-05-14T11:39:55.739Z"
   },
   {
    "duration": 119,
    "start_time": "2024-05-14T11:39:59.788Z"
   },
   {
    "duration": 164,
    "start_time": "2024-05-14T11:40:20.040Z"
   },
   {
    "duration": 130,
    "start_time": "2024-05-14T11:40:23.542Z"
   },
   {
    "duration": 138,
    "start_time": "2024-05-14T11:40:23.931Z"
   },
   {
    "duration": 200,
    "start_time": "2024-05-14T11:40:24.335Z"
   },
   {
    "duration": 5711,
    "start_time": "2024-05-14T11:40:25.679Z"
   },
   {
    "duration": 28,
    "start_time": "2024-05-14T11:40:31.392Z"
   },
   {
    "duration": 191,
    "start_time": "2024-05-14T11:40:31.421Z"
   },
   {
    "duration": 148,
    "start_time": "2024-05-14T11:40:31.614Z"
   },
   {
    "duration": 31,
    "start_time": "2024-05-14T11:40:53.663Z"
   },
   {
    "duration": 139,
    "start_time": "2024-05-14T11:42:43.656Z"
   },
   {
    "duration": 127,
    "start_time": "2024-05-14T11:45:34.335Z"
   },
   {
    "duration": 154,
    "start_time": "2024-05-14T12:54:44.430Z"
   },
   {
    "duration": 149,
    "start_time": "2024-05-14T12:55:12.546Z"
   },
   {
    "duration": 166,
    "start_time": "2024-05-14T12:57:05.452Z"
   },
   {
    "duration": 165,
    "start_time": "2024-05-14T12:57:31.530Z"
   },
   {
    "duration": 148,
    "start_time": "2024-05-14T12:58:20.235Z"
   },
   {
    "duration": 137,
    "start_time": "2024-05-14T12:58:42.826Z"
   },
   {
    "duration": 153,
    "start_time": "2024-05-14T12:58:51.562Z"
   },
   {
    "duration": 158,
    "start_time": "2024-05-14T12:59:35.348Z"
   },
   {
    "duration": 173,
    "start_time": "2024-05-14T12:59:41.934Z"
   },
   {
    "duration": 189,
    "start_time": "2024-05-14T13:00:08.101Z"
   },
   {
    "duration": 168,
    "start_time": "2024-05-14T13:00:16.157Z"
   },
   {
    "duration": 153,
    "start_time": "2024-05-14T13:00:22.814Z"
   },
   {
    "duration": 167,
    "start_time": "2024-05-14T13:00:28.433Z"
   },
   {
    "duration": 161,
    "start_time": "2024-05-14T13:00:34.319Z"
   },
   {
    "duration": 154,
    "start_time": "2024-05-14T13:00:43.057Z"
   },
   {
    "duration": 33,
    "start_time": "2024-05-14T13:01:18.616Z"
   },
   {
    "duration": 149,
    "start_time": "2024-05-14T13:01:28.147Z"
   },
   {
    "duration": 546,
    "start_time": "2024-05-14T13:01:48.952Z"
   },
   {
    "duration": 2794,
    "start_time": "2024-05-14T13:01:49.500Z"
   },
   {
    "duration": 16,
    "start_time": "2024-05-14T13:01:52.296Z"
   },
   {
    "duration": 17,
    "start_time": "2024-05-14T13:01:52.314Z"
   },
   {
    "duration": 270,
    "start_time": "2024-05-14T13:01:52.333Z"
   },
   {
    "duration": 10,
    "start_time": "2024-05-14T13:01:52.605Z"
   },
   {
    "duration": 77,
    "start_time": "2024-05-14T13:01:52.616Z"
   },
   {
    "duration": 346,
    "start_time": "2024-05-14T13:01:52.695Z"
   },
   {
    "duration": 130,
    "start_time": "2024-05-14T13:01:53.043Z"
   },
   {
    "duration": 133,
    "start_time": "2024-05-14T13:01:53.175Z"
   },
   {
    "duration": 164,
    "start_time": "2024-05-14T13:01:53.311Z"
   },
   {
    "duration": 250,
    "start_time": "2024-05-14T13:01:53.477Z"
   },
   {
    "duration": 151,
    "start_time": "2024-05-14T13:01:53.729Z"
   },
   {
    "duration": 156,
    "start_time": "2024-05-14T13:01:53.882Z"
   },
   {
    "duration": 141,
    "start_time": "2024-05-14T13:01:54.040Z"
   },
   {
    "duration": 167,
    "start_time": "2024-05-14T13:01:54.183Z"
   },
   {
    "duration": 163,
    "start_time": "2024-05-14T13:01:54.352Z"
   },
   {
    "duration": 163,
    "start_time": "2024-05-14T13:01:54.517Z"
   },
   {
    "duration": 250,
    "start_time": "2024-05-14T13:01:54.681Z"
   },
   {
    "duration": 6082,
    "start_time": "2024-05-14T13:01:54.933Z"
   },
   {
    "duration": 60,
    "start_time": "2024-05-14T13:02:01.017Z"
   },
   {
    "duration": 262,
    "start_time": "2024-05-14T13:02:01.079Z"
   },
   {
    "duration": 169,
    "start_time": "2024-05-14T13:02:01.343Z"
   },
   {
    "duration": 211,
    "start_time": "2024-05-14T13:02:01.514Z"
   },
   {
    "duration": 195,
    "start_time": "2024-05-14T13:05:21.175Z"
   },
   {
    "duration": 130,
    "start_time": "2024-05-14T13:49:46.758Z"
   },
   {
    "duration": 60,
    "start_time": "2024-05-14T13:50:03.601Z"
   },
   {
    "duration": 16,
    "start_time": "2024-05-14T13:50:45.122Z"
   },
   {
    "duration": 20,
    "start_time": "2024-05-14T14:03:44.202Z"
   },
   {
    "duration": 716,
    "start_time": "2024-05-14T14:04:27.034Z"
   },
   {
    "duration": 20,
    "start_time": "2024-05-14T14:04:31.003Z"
   },
   {
    "duration": 22,
    "start_time": "2024-05-14T14:05:49.910Z"
   },
   {
    "duration": 15,
    "start_time": "2024-05-14T14:07:14.023Z"
   },
   {
    "duration": 32,
    "start_time": "2024-05-14T14:07:21.971Z"
   },
   {
    "duration": 37,
    "start_time": "2024-05-14T14:07:30.276Z"
   },
   {
    "duration": 43,
    "start_time": "2024-05-14T14:07:32.960Z"
   },
   {
    "duration": 15,
    "start_time": "2024-05-14T14:10:51.014Z"
   },
   {
    "duration": 23,
    "start_time": "2024-05-14T14:11:00.189Z"
   },
   {
    "duration": 55,
    "start_time": "2024-05-14T14:11:03.796Z"
   },
   {
    "duration": 21,
    "start_time": "2024-05-14T14:11:15.840Z"
   },
   {
    "duration": 27,
    "start_time": "2024-05-14T14:11:35.533Z"
   },
   {
    "duration": 16,
    "start_time": "2024-05-14T14:12:10.116Z"
   },
   {
    "duration": 213,
    "start_time": "2024-05-14T14:12:20.825Z"
   },
   {
    "duration": 17,
    "start_time": "2024-05-14T14:14:27.817Z"
   },
   {
    "duration": 5,
    "start_time": "2024-05-14T14:15:12.023Z"
   },
   {
    "duration": 40,
    "start_time": "2024-05-14T14:15:16.188Z"
   },
   {
    "duration": 1976,
    "start_time": "2024-05-14T14:16:05.700Z"
   },
   {
    "duration": 18,
    "start_time": "2024-05-14T14:18:04.197Z"
   },
   {
    "duration": 22,
    "start_time": "2024-05-14T14:18:08.453Z"
   },
   {
    "duration": 17,
    "start_time": "2024-05-14T14:18:23.955Z"
   },
   {
    "duration": 25,
    "start_time": "2024-05-14T14:19:45.855Z"
   },
   {
    "duration": 19,
    "start_time": "2024-05-14T14:19:49.571Z"
   },
   {
    "duration": 11,
    "start_time": "2024-05-14T14:21:07.816Z"
   },
   {
    "duration": 16,
    "start_time": "2024-05-14T14:21:19.335Z"
   },
   {
    "duration": 14,
    "start_time": "2024-05-14T14:21:38.859Z"
   },
   {
    "duration": 26,
    "start_time": "2024-05-14T14:21:52.253Z"
   },
   {
    "duration": 317,
    "start_time": "2024-05-14T14:22:09.427Z"
   },
   {
    "duration": 324,
    "start_time": "2024-05-14T14:22:28.906Z"
   },
   {
    "duration": 310,
    "start_time": "2024-05-14T14:22:33.474Z"
   },
   {
    "duration": 332,
    "start_time": "2024-05-14T14:22:54.468Z"
   },
   {
    "duration": 489,
    "start_time": "2024-05-14T14:23:04.629Z"
   },
   {
    "duration": 333,
    "start_time": "2024-05-14T14:23:08.747Z"
   },
   {
    "duration": 318,
    "start_time": "2024-05-14T14:23:19.508Z"
   },
   {
    "duration": 26,
    "start_time": "2024-05-14T14:24:00.715Z"
   },
   {
    "duration": 47,
    "start_time": "2024-05-14T14:29:42.220Z"
   },
   {
    "duration": 2201,
    "start_time": "2024-05-14T14:29:45.881Z"
   },
   {
    "duration": 18,
    "start_time": "2024-05-14T14:30:46.595Z"
   },
   {
    "duration": 16,
    "start_time": "2024-05-14T14:30:56.509Z"
   },
   {
    "duration": 18,
    "start_time": "2024-05-14T14:31:12.303Z"
   },
   {
    "duration": 17,
    "start_time": "2024-05-14T14:31:16.137Z"
   },
   {
    "duration": 583,
    "start_time": "2024-05-14T14:31:58.783Z"
   },
   {
    "duration": 177,
    "start_time": "2024-05-14T14:32:50.441Z"
   },
   {
    "duration": 165,
    "start_time": "2024-05-14T14:32:56.289Z"
   },
   {
    "duration": 237,
    "start_time": "2024-05-14T14:33:04.645Z"
   },
   {
    "duration": 237,
    "start_time": "2024-05-14T14:33:23.775Z"
   },
   {
    "duration": 36,
    "start_time": "2024-05-14T14:41:28.681Z"
   },
   {
    "duration": 44,
    "start_time": "2024-05-14T14:42:06.313Z"
   },
   {
    "duration": 35,
    "start_time": "2024-05-14T14:42:31.588Z"
   },
   {
    "duration": 39,
    "start_time": "2024-05-14T14:43:05.458Z"
   },
   {
    "duration": 37,
    "start_time": "2024-05-14T14:43:32.743Z"
   },
   {
    "duration": 59,
    "start_time": "2024-05-14T14:43:38.031Z"
   },
   {
    "duration": 40,
    "start_time": "2024-05-14T14:43:40.453Z"
   },
   {
    "duration": 41,
    "start_time": "2024-05-14T14:43:50.863Z"
   },
   {
    "duration": 15,
    "start_time": "2024-05-14T14:44:31.799Z"
   },
   {
    "duration": 14,
    "start_time": "2024-05-14T14:44:49.950Z"
   },
   {
    "duration": 15,
    "start_time": "2024-05-14T14:44:56.782Z"
   },
   {
    "duration": 6,
    "start_time": "2024-05-14T14:45:30.306Z"
   },
   {
    "duration": 75,
    "start_time": "2024-05-14T14:45:38.152Z"
   },
   {
    "duration": 19,
    "start_time": "2024-05-14T14:45:41.819Z"
   },
   {
    "duration": 3,
    "start_time": "2024-05-14T14:45:48.367Z"
   },
   {
    "duration": 35,
    "start_time": "2024-05-14T14:45:50.422Z"
   },
   {
    "duration": 40,
    "start_time": "2024-05-14T14:45:54.711Z"
   },
   {
    "duration": 37,
    "start_time": "2024-05-14T14:45:58.319Z"
   },
   {
    "duration": 40,
    "start_time": "2024-05-14T14:46:06.165Z"
   },
   {
    "duration": 39,
    "start_time": "2024-05-14T14:46:36.900Z"
   },
   {
    "duration": 36,
    "start_time": "2024-05-14T14:47:46.459Z"
   },
   {
    "duration": 17,
    "start_time": "2024-05-14T14:48:38.461Z"
   },
   {
    "duration": 36,
    "start_time": "2024-05-14T14:48:43.612Z"
   },
   {
    "duration": 35,
    "start_time": "2024-05-14T14:48:47.319Z"
   },
   {
    "duration": 37,
    "start_time": "2024-05-14T14:52:34.022Z"
   },
   {
    "duration": 39,
    "start_time": "2024-05-14T14:54:52.959Z"
   },
   {
    "duration": 36,
    "start_time": "2024-05-14T14:55:03.123Z"
   },
   {
    "duration": 34,
    "start_time": "2024-05-14T14:55:12.513Z"
   },
   {
    "duration": 66,
    "start_time": "2024-05-14T14:55:38.358Z"
   },
   {
    "duration": 49,
    "start_time": "2024-05-14T14:55:41.042Z"
   },
   {
    "duration": 9,
    "start_time": "2024-05-14T15:07:13.303Z"
   },
   {
    "duration": 40,
    "start_time": "2024-05-14T15:08:01.903Z"
   },
   {
    "duration": 9,
    "start_time": "2024-05-14T15:08:05.847Z"
   },
   {
    "duration": 8,
    "start_time": "2024-05-14T15:08:35.819Z"
   },
   {
    "duration": 45,
    "start_time": "2024-05-14T15:09:52.754Z"
   },
   {
    "duration": 39,
    "start_time": "2024-05-14T15:10:07.013Z"
   },
   {
    "duration": 391,
    "start_time": "2024-05-14T15:10:28.299Z"
   },
   {
    "duration": 45,
    "start_time": "2024-05-14T15:10:49.529Z"
   },
   {
    "duration": 32,
    "start_time": "2024-05-14T15:11:21.190Z"
   },
   {
    "duration": 25,
    "start_time": "2024-05-14T15:11:36.692Z"
   },
   {
    "duration": 65,
    "start_time": "2024-05-14T15:24:46.350Z"
   },
   {
    "duration": 45,
    "start_time": "2024-05-14T16:18:46.096Z"
   },
   {
    "duration": 537,
    "start_time": "2024-05-14T16:19:41.342Z"
   },
   {
    "duration": 2608,
    "start_time": "2024-05-14T16:19:46.418Z"
   },
   {
    "duration": 16,
    "start_time": "2024-05-14T16:19:49.028Z"
   },
   {
    "duration": 18,
    "start_time": "2024-05-14T16:19:49.045Z"
   },
   {
    "duration": 264,
    "start_time": "2024-05-14T16:19:49.066Z"
   },
   {
    "duration": 10,
    "start_time": "2024-05-14T16:19:49.331Z"
   },
   {
    "duration": 64,
    "start_time": "2024-05-14T16:19:49.342Z"
   },
   {
    "duration": 292,
    "start_time": "2024-05-14T16:19:49.407Z"
   },
   {
    "duration": 128,
    "start_time": "2024-05-14T16:19:49.701Z"
   },
   {
    "duration": 156,
    "start_time": "2024-05-14T16:19:49.832Z"
   },
   {
    "duration": 154,
    "start_time": "2024-05-14T16:19:50.274Z"
   },
   {
    "duration": 235,
    "start_time": "2024-05-14T16:19:50.768Z"
   },
   {
    "duration": 131,
    "start_time": "2024-05-14T16:19:51.285Z"
   },
   {
    "duration": 157,
    "start_time": "2024-05-14T16:19:51.811Z"
   },
   {
    "duration": 110,
    "start_time": "2024-05-14T16:19:52.320Z"
   },
   {
    "duration": 157,
    "start_time": "2024-05-14T16:19:52.763Z"
   },
   {
    "duration": 152,
    "start_time": "2024-05-14T16:19:53.220Z"
   },
   {
    "duration": 174,
    "start_time": "2024-05-14T16:19:53.693Z"
   },
   {
    "duration": 204,
    "start_time": "2024-05-14T16:19:54.158Z"
   },
   {
    "duration": 5724,
    "start_time": "2024-05-14T16:19:54.564Z"
   },
   {
    "duration": 30,
    "start_time": "2024-05-14T16:20:00.290Z"
   },
   {
    "duration": 156,
    "start_time": "2024-05-14T16:20:00.322Z"
   },
   {
    "duration": 156,
    "start_time": "2024-05-14T16:20:00.480Z"
   },
   {
    "duration": 251,
    "start_time": "2024-05-14T16:20:00.638Z"
   },
   {
    "duration": 107,
    "start_time": "2024-05-14T16:20:00.891Z"
   },
   {
    "duration": 25,
    "start_time": "2024-05-14T16:20:00.999Z"
   },
   {
    "duration": 502,
    "start_time": "2024-05-14T16:32:02.141Z"
   },
   {
    "duration": 2438,
    "start_time": "2024-05-14T16:32:02.645Z"
   },
   {
    "duration": 14,
    "start_time": "2024-05-14T16:32:05.084Z"
   },
   {
    "duration": 8,
    "start_time": "2024-05-14T16:32:05.100Z"
   },
   {
    "duration": 253,
    "start_time": "2024-05-14T16:32:05.109Z"
   },
   {
    "duration": 9,
    "start_time": "2024-05-14T16:32:05.363Z"
   },
   {
    "duration": 29,
    "start_time": "2024-05-14T16:32:05.373Z"
   },
   {
    "duration": 311,
    "start_time": "2024-05-14T16:32:05.404Z"
   },
   {
    "duration": 123,
    "start_time": "2024-05-14T16:32:05.717Z"
   },
   {
    "duration": 133,
    "start_time": "2024-05-14T16:32:05.843Z"
   },
   {
    "duration": 124,
    "start_time": "2024-05-14T16:32:05.977Z"
   },
   {
    "duration": 229,
    "start_time": "2024-05-14T16:32:06.103Z"
   },
   {
    "duration": 143,
    "start_time": "2024-05-14T16:32:06.334Z"
   },
   {
    "duration": 130,
    "start_time": "2024-05-14T16:32:06.479Z"
   },
   {
    "duration": 126,
    "start_time": "2024-05-14T16:32:06.610Z"
   },
   {
    "duration": 155,
    "start_time": "2024-05-14T16:32:06.737Z"
   },
   {
    "duration": 139,
    "start_time": "2024-05-14T16:32:06.893Z"
   },
   {
    "duration": 151,
    "start_time": "2024-05-14T16:32:07.033Z"
   },
   {
    "duration": 179,
    "start_time": "2024-05-14T16:32:07.186Z"
   },
   {
    "duration": 5324,
    "start_time": "2024-05-14T16:32:07.367Z"
   },
   {
    "duration": 31,
    "start_time": "2024-05-14T16:32:12.693Z"
   },
   {
    "duration": 142,
    "start_time": "2024-05-14T16:32:12.726Z"
   },
   {
    "duration": 138,
    "start_time": "2024-05-14T16:32:12.869Z"
   },
   {
    "duration": 198,
    "start_time": "2024-05-14T16:32:13.009Z"
   },
   {
    "duration": 75,
    "start_time": "2024-05-14T16:32:13.208Z"
   },
   {
    "duration": 21,
    "start_time": "2024-05-14T16:32:13.284Z"
   },
   {
    "duration": 305,
    "start_time": "2024-05-14T18:17:52.271Z"
   },
   {
    "duration": 525,
    "start_time": "2024-05-14T18:18:09.369Z"
   },
   {
    "duration": 2643,
    "start_time": "2024-05-14T18:18:09.895Z"
   },
   {
    "duration": 15,
    "start_time": "2024-05-14T18:18:12.540Z"
   },
   {
    "duration": 7,
    "start_time": "2024-05-14T18:18:12.557Z"
   },
   {
    "duration": 241,
    "start_time": "2024-05-14T18:18:22.697Z"
   },
   {
    "duration": 247,
    "start_time": "2024-05-14T18:18:35.461Z"
   },
   {
    "duration": 243,
    "start_time": "2024-05-14T18:18:39.939Z"
   },
   {
    "duration": 242,
    "start_time": "2024-05-14T18:19:40.951Z"
   },
   {
    "duration": 248,
    "start_time": "2024-05-14T18:20:25.598Z"
   },
   {
    "duration": 71,
    "start_time": "2024-05-14T18:21:24.782Z"
   },
   {
    "duration": 8,
    "start_time": "2024-05-14T18:22:30.766Z"
   },
   {
    "duration": 47,
    "start_time": "2024-05-14T18:27:27.032Z"
   },
   {
    "duration": 243,
    "start_time": "2024-05-14T18:27:44.866Z"
   },
   {
    "duration": 238,
    "start_time": "2024-05-14T18:27:52.142Z"
   },
   {
    "duration": 37,
    "start_time": "2024-05-14T18:28:09.556Z"
   },
   {
    "duration": 258,
    "start_time": "2024-05-14T18:30:30.670Z"
   },
   {
    "duration": 242,
    "start_time": "2024-05-14T18:30:37.525Z"
   },
   {
    "duration": 258,
    "start_time": "2024-05-14T18:30:44.259Z"
   },
   {
    "duration": 236,
    "start_time": "2024-05-14T18:30:48.234Z"
   },
   {
    "duration": 240,
    "start_time": "2024-05-14T18:30:53.026Z"
   },
   {
    "duration": 243,
    "start_time": "2024-05-14T18:31:08.672Z"
   },
   {
    "duration": 251,
    "start_time": "2024-05-14T18:32:02.560Z"
   },
   {
    "duration": 230,
    "start_time": "2024-05-14T18:32:18.054Z"
   },
   {
    "duration": 247,
    "start_time": "2024-05-14T18:32:25.314Z"
   },
   {
    "duration": 230,
    "start_time": "2024-05-14T18:32:38.964Z"
   },
   {
    "duration": 306,
    "start_time": "2024-05-14T18:33:32.950Z"
   },
   {
    "duration": 292,
    "start_time": "2024-05-14T18:33:49.046Z"
   },
   {
    "duration": 276,
    "start_time": "2024-05-14T18:33:59.478Z"
   },
   {
    "duration": 231,
    "start_time": "2024-05-14T18:35:10.525Z"
   },
   {
    "duration": 234,
    "start_time": "2024-05-14T18:36:13.105Z"
   },
   {
    "duration": 336,
    "start_time": "2024-05-14T18:36:27.251Z"
   },
   {
    "duration": 375,
    "start_time": "2024-05-14T18:36:35.592Z"
   },
   {
    "duration": 259,
    "start_time": "2024-05-14T18:38:29.985Z"
   },
   {
    "duration": 232,
    "start_time": "2024-05-14T18:38:39.949Z"
   },
   {
    "duration": 240,
    "start_time": "2024-05-14T18:38:47.485Z"
   },
   {
    "duration": 275,
    "start_time": "2024-05-14T18:39:08.532Z"
   },
   {
    "duration": 251,
    "start_time": "2024-05-14T18:39:18.462Z"
   },
   {
    "duration": 264,
    "start_time": "2024-05-14T18:39:41.082Z"
   },
   {
    "duration": 240,
    "start_time": "2024-05-14T21:18:42.215Z"
   },
   {
    "duration": 110,
    "start_time": "2024-05-14T21:18:49.412Z"
   },
   {
    "duration": 2427,
    "start_time": "2024-05-14T21:18:50.303Z"
   },
   {
    "duration": 15,
    "start_time": "2024-05-14T21:18:52.732Z"
   },
   {
    "duration": 7,
    "start_time": "2024-05-14T21:18:53.551Z"
   },
   {
    "duration": 235,
    "start_time": "2024-05-14T21:18:54.683Z"
   },
   {
    "duration": 10,
    "start_time": "2024-05-14T21:18:59.962Z"
   },
   {
    "duration": 26,
    "start_time": "2024-05-14T21:19:00.578Z"
   },
   {
    "duration": 737,
    "start_time": "2024-05-14T21:21:41.386Z"
   },
   {
    "duration": 2465,
    "start_time": "2024-05-14T21:21:42.125Z"
   },
   {
    "duration": 15,
    "start_time": "2024-05-14T21:21:44.592Z"
   },
   {
    "duration": 8,
    "start_time": "2024-05-14T21:21:44.608Z"
   },
   {
    "duration": 242,
    "start_time": "2024-05-14T21:21:44.618Z"
   },
   {
    "duration": 11,
    "start_time": "2024-05-14T21:21:46.711Z"
   },
   {
    "duration": 20,
    "start_time": "2024-05-14T21:21:47.712Z"
   },
   {
    "duration": 138,
    "start_time": "2024-05-14T21:22:17.694Z"
   },
   {
    "duration": 112,
    "start_time": "2024-05-14T21:22:22.373Z"
   },
   {
    "duration": 18,
    "start_time": "2024-05-14T21:23:03.250Z"
   },
   {
    "duration": 18,
    "start_time": "2024-05-14T21:23:12.744Z"
   },
   {
    "duration": 98,
    "start_time": "2024-05-14T21:23:40.298Z"
   },
   {
    "duration": 2380,
    "start_time": "2024-05-14T21:23:41.416Z"
   },
   {
    "duration": 14,
    "start_time": "2024-05-14T21:23:45.113Z"
   },
   {
    "duration": 10,
    "start_time": "2024-05-14T21:23:47.093Z"
   },
   {
    "duration": 250,
    "start_time": "2024-05-14T21:23:47.918Z"
   },
   {
    "duration": 9,
    "start_time": "2024-05-14T21:23:54.038Z"
   },
   {
    "duration": 19,
    "start_time": "2024-05-14T21:23:54.893Z"
   },
   {
    "duration": 14,
    "start_time": "2024-05-14T21:24:09.879Z"
   },
   {
    "duration": 27,
    "start_time": "2024-05-14T21:24:20.071Z"
   },
   {
    "duration": 18,
    "start_time": "2024-05-14T21:24:26.357Z"
   },
   {
    "duration": 17,
    "start_time": "2024-05-14T21:24:30.085Z"
   },
   {
    "duration": 16,
    "start_time": "2024-05-14T21:24:52.832Z"
   },
   {
    "duration": 16,
    "start_time": "2024-05-14T21:25:05.154Z"
   },
   {
    "duration": 16,
    "start_time": "2024-05-14T21:25:13.502Z"
   },
   {
    "duration": 313,
    "start_time": "2024-05-14T21:26:00.768Z"
   },
   {
    "duration": 73,
    "start_time": "2024-05-14T21:26:25.478Z"
   },
   {
    "duration": 31,
    "start_time": "2024-05-14T21:26:35.056Z"
   },
   {
    "duration": 164,
    "start_time": "2024-05-14T21:26:39.872Z"
   },
   {
    "duration": 145,
    "start_time": "2024-05-14T21:26:41.717Z"
   },
   {
    "duration": 134,
    "start_time": "2024-05-14T21:26:43.644Z"
   },
   {
    "duration": 717,
    "start_time": "2024-05-14T21:31:53.223Z"
   },
   {
    "duration": 2427,
    "start_time": "2024-05-14T21:31:56.051Z"
   },
   {
    "duration": 16,
    "start_time": "2024-05-14T21:31:58.480Z"
   },
   {
    "duration": 8,
    "start_time": "2024-05-14T21:31:58.497Z"
   },
   {
    "duration": 251,
    "start_time": "2024-05-14T21:31:58.507Z"
   },
   {
    "duration": 11,
    "start_time": "2024-05-14T21:31:59.366Z"
   },
   {
    "duration": 20,
    "start_time": "2024-05-14T21:32:00.094Z"
   },
   {
    "duration": 19,
    "start_time": "2024-05-14T21:32:00.942Z"
   },
   {
    "duration": 340,
    "start_time": "2024-05-14T21:32:04.370Z"
   },
   {
    "duration": 113,
    "start_time": "2024-05-14T21:32:16.295Z"
   },
   {
    "duration": 118,
    "start_time": "2024-05-14T21:32:20.944Z"
   },
   {
    "duration": 188,
    "start_time": "2024-05-14T21:32:21.499Z"
   },
   {
    "duration": 168,
    "start_time": "2024-05-14T21:32:21.942Z"
   },
   {
    "duration": 143,
    "start_time": "2024-05-14T21:32:22.409Z"
   },
   {
    "duration": 136,
    "start_time": "2024-05-14T21:32:24.994Z"
   },
   {
    "duration": 133,
    "start_time": "2024-05-14T21:32:27.116Z"
   },
   {
    "duration": 156,
    "start_time": "2024-05-14T21:32:28.305Z"
   },
   {
    "duration": 137,
    "start_time": "2024-05-14T21:32:31.076Z"
   },
   {
    "duration": 141,
    "start_time": "2024-05-14T21:32:31.482Z"
   },
   {
    "duration": 186,
    "start_time": "2024-05-14T21:32:34.399Z"
   },
   {
    "duration": 5781,
    "start_time": "2024-05-14T21:33:11.494Z"
   },
   {
    "duration": 28,
    "start_time": "2024-05-14T21:33:17.276Z"
   },
   {
    "duration": 146,
    "start_time": "2024-05-14T21:33:17.306Z"
   },
   {
    "duration": 168,
    "start_time": "2024-05-14T21:34:36.659Z"
   },
   {
    "duration": 140,
    "start_time": "2024-05-14T21:34:38.623Z"
   },
   {
    "duration": 134,
    "start_time": "2024-05-14T21:34:39.567Z"
   },
   {
    "duration": 806,
    "start_time": "2024-05-14T21:37:03.934Z"
   },
   {
    "duration": 2436,
    "start_time": "2024-05-14T21:37:04.742Z"
   },
   {
    "duration": 20,
    "start_time": "2024-05-14T21:37:07.180Z"
   },
   {
    "duration": 16,
    "start_time": "2024-05-14T21:37:07.202Z"
   },
   {
    "duration": 260,
    "start_time": "2024-05-14T21:37:07.220Z"
   },
   {
    "duration": 10,
    "start_time": "2024-05-14T21:37:08.053Z"
   },
   {
    "duration": 20,
    "start_time": "2024-05-14T21:37:08.488Z"
   },
   {
    "duration": 19,
    "start_time": "2024-05-14T21:37:08.923Z"
   },
   {
    "duration": 329,
    "start_time": "2024-05-14T21:37:09.855Z"
   },
   {
    "duration": 107,
    "start_time": "2024-05-14T21:37:11.668Z"
   },
   {
    "duration": 124,
    "start_time": "2024-05-14T21:37:12.342Z"
   },
   {
    "duration": 193,
    "start_time": "2024-05-14T21:37:12.714Z"
   },
   {
    "duration": 156,
    "start_time": "2024-05-14T21:37:13.041Z"
   },
   {
    "duration": 132,
    "start_time": "2024-05-14T21:37:13.386Z"
   },
   {
    "duration": 161,
    "start_time": "2024-05-14T21:37:13.730Z"
   },
   {
    "duration": 116,
    "start_time": "2024-05-14T21:37:14.292Z"
   },
   {
    "duration": 153,
    "start_time": "2024-05-14T21:37:14.653Z"
   },
   {
    "duration": 142,
    "start_time": "2024-05-14T21:37:15.102Z"
   },
   {
    "duration": 139,
    "start_time": "2024-05-14T21:37:15.793Z"
   },
   {
    "duration": 194,
    "start_time": "2024-05-14T21:37:17.256Z"
   },
   {
    "duration": 5725,
    "start_time": "2024-05-14T21:37:21.141Z"
   },
   {
    "duration": 36,
    "start_time": "2024-05-14T21:37:26.869Z"
   },
   {
    "duration": 30,
    "start_time": "2024-05-14T21:38:00.629Z"
   },
   {
    "duration": 120,
    "start_time": "2024-05-14T21:38:02.495Z"
   },
   {
    "duration": 643,
    "start_time": "2024-05-14T21:38:08.827Z"
   },
   {
    "duration": 0,
    "start_time": "2024-05-14T21:43:43.485Z"
   },
   {
    "duration": 0,
    "start_time": "2024-05-14T21:43:43.486Z"
   },
   {
    "duration": 237,
    "start_time": "2024-05-14T21:43:45.518Z"
   },
   {
    "duration": 202997,
    "start_time": "2024-05-14T21:48:02.863Z"
   },
   {
    "duration": 12133,
    "start_time": "2024-05-14T21:57:55.670Z"
   },
   {
    "duration": 211,
    "start_time": "2024-05-14T21:58:44.975Z"
   },
   {
    "duration": 673,
    "start_time": "2024-05-14T22:01:45.959Z"
   },
   {
    "duration": 673,
    "start_time": "2024-05-14T22:01:52.994Z"
   },
   {
    "duration": 198,
    "start_time": "2024-05-14T22:02:03.793Z"
   },
   {
    "duration": 155,
    "start_time": "2024-05-14T22:02:10.971Z"
   },
   {
    "duration": 188,
    "start_time": "2024-05-14T22:03:35.370Z"
   },
   {
    "duration": 219,
    "start_time": "2024-05-14T22:03:43.994Z"
   },
   {
    "duration": 206,
    "start_time": "2024-05-14T22:03:53.312Z"
   },
   {
    "duration": 56936,
    "start_time": "2024-05-14T22:04:15.757Z"
   },
   {
    "duration": 0,
    "start_time": "2024-05-14T22:05:12.694Z"
   },
   {
    "duration": 31,
    "start_time": "2024-05-14T22:05:25.656Z"
   },
   {
    "duration": 32,
    "start_time": "2024-05-14T22:05:34.086Z"
   },
   {
    "duration": 32,
    "start_time": "2024-05-14T22:05:57.569Z"
   },
   {
    "duration": 30,
    "start_time": "2024-05-14T22:06:05.428Z"
   },
   {
    "duration": 31,
    "start_time": "2024-05-14T22:06:12.298Z"
   },
   {
    "duration": 60,
    "start_time": "2024-05-14T22:06:45.068Z"
   },
   {
    "duration": 150,
    "start_time": "2024-05-14T22:06:49.311Z"
   },
   {
    "duration": 148565,
    "start_time": "2024-05-14T22:10:14.878Z"
   },
   {
    "duration": 0,
    "start_time": "2024-05-14T22:12:43.445Z"
   },
   {
    "duration": 12,
    "start_time": "2024-05-14T22:12:47.833Z"
   },
   {
    "duration": 45,
    "start_time": "2024-05-14T22:13:55.131Z"
   },
   {
    "duration": 14,
    "start_time": "2024-05-14T22:14:06.495Z"
   },
   {
    "duration": 28,
    "start_time": "2024-05-14T22:14:54.705Z"
   },
   {
    "duration": 27,
    "start_time": "2024-05-14T22:15:23.129Z"
   },
   {
    "duration": 27,
    "start_time": "2024-05-14T22:15:52.276Z"
   },
   {
    "duration": 62656,
    "start_time": "2024-05-14T22:16:11.304Z"
   },
   {
    "duration": 200,
    "start_time": "2024-05-14T22:17:13.962Z"
   },
   {
    "duration": 0,
    "start_time": "2024-05-14T22:23:33.537Z"
   },
   {
    "duration": 205,
    "start_time": "2024-05-14T22:23:39.598Z"
   },
   {
    "duration": 222,
    "start_time": "2024-05-14T22:25:52.079Z"
   },
   {
    "duration": 16238,
    "start_time": "2024-05-14T22:27:39.338Z"
   },
   {
    "duration": 694,
    "start_time": "2024-05-14T22:33:12.353Z"
   },
   {
    "duration": 48,
    "start_time": "2024-05-16T09:13:14.727Z"
   },
   {
    "duration": 972,
    "start_time": "2024-05-16T09:13:25.066Z"
   },
   {
    "duration": 2311,
    "start_time": "2024-05-16T09:13:26.040Z"
   },
   {
    "duration": 14,
    "start_time": "2024-05-16T09:13:28.353Z"
   },
   {
    "duration": 8,
    "start_time": "2024-05-16T09:13:28.368Z"
   },
   {
    "duration": 255,
    "start_time": "2024-05-16T09:13:28.378Z"
   },
   {
    "duration": 8,
    "start_time": "2024-05-16T09:13:28.635Z"
   },
   {
    "duration": 26,
    "start_time": "2024-05-16T09:13:28.645Z"
   },
   {
    "duration": 17,
    "start_time": "2024-05-16T09:13:28.672Z"
   },
   {
    "duration": 319,
    "start_time": "2024-05-16T09:13:28.691Z"
   },
   {
    "duration": 117,
    "start_time": "2024-05-16T09:13:29.012Z"
   },
   {
    "duration": 135,
    "start_time": "2024-05-16T09:13:29.131Z"
   },
   {
    "duration": 209,
    "start_time": "2024-05-16T09:13:29.268Z"
   },
   {
    "duration": 181,
    "start_time": "2024-05-16T09:13:29.478Z"
   },
   {
    "duration": 151,
    "start_time": "2024-05-16T09:13:29.660Z"
   },
   {
    "duration": 135,
    "start_time": "2024-05-16T09:13:29.817Z"
   },
   {
    "duration": 121,
    "start_time": "2024-05-16T09:13:29.954Z"
   },
   {
    "duration": 153,
    "start_time": "2024-05-16T09:13:30.076Z"
   },
   {
    "duration": 140,
    "start_time": "2024-05-16T09:13:30.232Z"
   },
   {
    "duration": 146,
    "start_time": "2024-05-16T09:13:30.373Z"
   },
   {
    "duration": 197,
    "start_time": "2024-05-16T09:13:30.521Z"
   },
   {
    "duration": 5463,
    "start_time": "2024-05-16T09:13:30.719Z"
   },
   {
    "duration": 44,
    "start_time": "2024-05-16T09:13:36.183Z"
   },
   {
    "duration": 128,
    "start_time": "2024-05-16T09:13:36.228Z"
   },
   {
    "duration": 172,
    "start_time": "2024-05-16T09:13:36.358Z"
   },
   {
    "duration": 158,
    "start_time": "2024-05-16T09:13:36.532Z"
   },
   {
    "duration": 140,
    "start_time": "2024-05-16T09:13:36.692Z"
   },
   {
    "duration": 26,
    "start_time": "2024-05-16T09:13:36.834Z"
   },
   {
    "duration": 993,
    "start_time": "2024-05-16T09:13:36.862Z"
   },
   {
    "duration": 0,
    "start_time": "2024-05-16T09:13:37.857Z"
   },
   {
    "duration": 0,
    "start_time": "2024-05-16T09:13:37.858Z"
   },
   {
    "duration": 987,
    "start_time": "2024-05-16T09:29:51.800Z"
   },
   {
    "duration": 54,
    "start_time": "2024-05-16T09:30:18.643Z"
   },
   {
    "duration": 926,
    "start_time": "2024-05-16T09:30:22.408Z"
   },
   {
    "duration": 27,
    "start_time": "2024-05-16T09:30:29.608Z"
   },
   {
    "duration": 13,
    "start_time": "2024-05-16T09:30:53.337Z"
   },
   {
    "duration": 864,
    "start_time": "2024-05-16T09:31:12.719Z"
   },
   {
    "duration": 21,
    "start_time": "2024-05-16T09:31:20.030Z"
   },
   {
    "duration": 10,
    "start_time": "2024-05-16T09:34:16.701Z"
   },
   {
    "duration": 186,
    "start_time": "2024-05-16T09:39:08.393Z"
   },
   {
    "duration": 186,
    "start_time": "2024-05-16T09:39:33.344Z"
   },
   {
    "duration": 34,
    "start_time": "2024-05-16T10:01:56.400Z"
   },
   {
    "duration": 28448,
    "start_time": "2024-05-16T10:02:10.955Z"
   },
   {
    "duration": 25834,
    "start_time": "2024-05-16T10:02:54.285Z"
   },
   {
    "duration": 85631,
    "start_time": "2024-05-16T10:05:00.600Z"
   },
   {
    "duration": 0,
    "start_time": "2024-05-16T10:09:42.824Z"
   },
   {
    "duration": 34087,
    "start_time": "2024-05-16T10:09:48.516Z"
   },
   {
    "duration": 0,
    "start_time": "2024-05-16T10:10:22.607Z"
   },
   {
    "duration": 69,
    "start_time": "2024-05-16T10:10:27.674Z"
   },
   {
    "duration": 15,
    "start_time": "2024-05-16T10:20:27.211Z"
   },
   {
    "duration": 928,
    "start_time": "2024-05-16T10:20:38.315Z"
   },
   {
    "duration": 0,
    "start_time": "2024-05-16T10:22:11.118Z"
   },
   {
    "duration": 1821,
    "start_time": "2024-05-16T10:22:20.551Z"
   },
   {
    "duration": 790,
    "start_time": "2024-05-16T10:22:42.969Z"
   },
   {
    "duration": 1028,
    "start_time": "2024-05-16T10:22:54.781Z"
   },
   {
    "duration": 776,
    "start_time": "2024-05-16T10:23:08.155Z"
   },
   {
    "duration": 912,
    "start_time": "2024-05-16T10:23:14.575Z"
   },
   {
    "duration": 89800,
    "start_time": "2024-05-16T10:23:33.241Z"
   },
   {
    "duration": 3436,
    "start_time": "2024-05-16T10:25:15.072Z"
   },
   {
    "duration": 743,
    "start_time": "2024-05-16T10:25:25.727Z"
   },
   {
    "duration": 1293,
    "start_time": "2024-05-16T10:26:51.820Z"
   },
   {
    "duration": 505,
    "start_time": "2024-05-16T10:28:29.268Z"
   },
   {
    "duration": 318,
    "start_time": "2024-05-16T10:28:37.458Z"
   },
   {
    "duration": 247,
    "start_time": "2024-05-16T10:28:43.465Z"
   },
   {
    "duration": 155,
    "start_time": "2024-05-16T10:28:47.246Z"
   },
   {
    "duration": 883,
    "start_time": "2024-05-16T10:29:27.708Z"
   },
   {
    "duration": 2312,
    "start_time": "2024-05-16T10:29:30.843Z"
   },
   {
    "duration": 16,
    "start_time": "2024-05-16T10:29:33.157Z"
   },
   {
    "duration": 9,
    "start_time": "2024-05-16T10:29:33.175Z"
   },
   {
    "duration": 282,
    "start_time": "2024-05-16T10:29:33.187Z"
   },
   {
    "duration": 9,
    "start_time": "2024-05-16T10:29:33.471Z"
   },
   {
    "duration": 19,
    "start_time": "2024-05-16T10:29:33.481Z"
   },
   {
    "duration": 26,
    "start_time": "2024-05-16T10:29:33.501Z"
   },
   {
    "duration": 334,
    "start_time": "2024-05-16T10:29:33.528Z"
   },
   {
    "duration": 113,
    "start_time": "2024-05-16T10:29:33.864Z"
   },
   {
    "duration": 130,
    "start_time": "2024-05-16T10:29:33.980Z"
   },
   {
    "duration": 206,
    "start_time": "2024-05-16T10:29:34.112Z"
   },
   {
    "duration": 162,
    "start_time": "2024-05-16T10:29:34.320Z"
   },
   {
    "duration": 142,
    "start_time": "2024-05-16T10:29:34.484Z"
   },
   {
    "duration": 146,
    "start_time": "2024-05-16T10:29:34.627Z"
   },
   {
    "duration": 123,
    "start_time": "2024-05-16T10:29:34.775Z"
   },
   {
    "duration": 156,
    "start_time": "2024-05-16T10:29:34.899Z"
   },
   {
    "duration": 138,
    "start_time": "2024-05-16T10:29:35.057Z"
   },
   {
    "duration": 138,
    "start_time": "2024-05-16T10:29:35.196Z"
   },
   {
    "duration": 203,
    "start_time": "2024-05-16T10:29:35.336Z"
   },
   {
    "duration": 5642,
    "start_time": "2024-05-16T10:29:35.541Z"
   },
   {
    "duration": 27,
    "start_time": "2024-05-16T10:29:49.232Z"
   },
   {
    "duration": 114,
    "start_time": "2024-05-16T10:29:49.990Z"
   },
   {
    "duration": 149,
    "start_time": "2024-05-16T10:29:50.268Z"
   },
   {
    "duration": 132,
    "start_time": "2024-05-16T10:29:50.807Z"
   },
   {
    "duration": 137,
    "start_time": "2024-05-16T10:29:50.940Z"
   },
   {
    "duration": 40,
    "start_time": "2024-05-16T10:29:51.079Z"
   },
   {
    "duration": 165,
    "start_time": "2024-05-16T10:29:52.533Z"
   },
   {
    "duration": 70,
    "start_time": "2024-05-16T10:29:54.972Z"
   },
   {
    "duration": 24,
    "start_time": "2024-05-16T10:29:55.443Z"
   },
   {
    "duration": 167,
    "start_time": "2024-05-16T10:30:05.381Z"
   },
   {
    "duration": 46,
    "start_time": "2024-05-16T18:06:59.634Z"
   },
   {
    "duration": 1064,
    "start_time": "2024-05-16T18:07:05.023Z"
   },
   {
    "duration": 2209,
    "start_time": "2024-05-16T18:07:06.089Z"
   },
   {
    "duration": 20,
    "start_time": "2024-05-16T18:07:08.300Z"
   },
   {
    "duration": 44,
    "start_time": "2024-05-16T18:07:08.322Z"
   },
   {
    "duration": 247,
    "start_time": "2024-05-16T18:07:08.368Z"
   },
   {
    "duration": 21,
    "start_time": "2024-05-16T18:07:08.617Z"
   },
   {
    "duration": 94,
    "start_time": "2024-05-16T18:07:08.639Z"
   },
   {
    "duration": 23,
    "start_time": "2024-05-16T18:07:08.735Z"
   },
   {
    "duration": 16,
    "start_time": "2024-05-16T18:07:08.759Z"
   },
   {
    "duration": 314,
    "start_time": "2024-05-16T18:07:08.777Z"
   },
   {
    "duration": 113,
    "start_time": "2024-05-16T18:07:09.093Z"
   },
   {
    "duration": 188,
    "start_time": "2024-05-16T18:07:09.207Z"
   },
   {
    "duration": 141,
    "start_time": "2024-05-16T18:07:09.396Z"
   },
   {
    "duration": 168,
    "start_time": "2024-05-16T18:07:09.539Z"
   },
   {
    "duration": 133,
    "start_time": "2024-05-16T18:07:09.708Z"
   },
   {
    "duration": 142,
    "start_time": "2024-05-16T18:07:09.842Z"
   },
   {
    "duration": 120,
    "start_time": "2024-05-16T18:07:09.985Z"
   },
   {
    "duration": 147,
    "start_time": "2024-05-16T18:07:10.106Z"
   },
   {
    "duration": 131,
    "start_time": "2024-05-16T18:07:10.254Z"
   },
   {
    "duration": 137,
    "start_time": "2024-05-16T18:07:10.386Z"
   },
   {
    "duration": 186,
    "start_time": "2024-05-16T18:07:10.525Z"
   },
   {
    "duration": 5548,
    "start_time": "2024-05-16T18:07:10.712Z"
   },
   {
    "duration": 41,
    "start_time": "2024-05-16T18:07:16.261Z"
   },
   {
    "duration": 137,
    "start_time": "2024-05-16T18:07:16.304Z"
   },
   {
    "duration": 157,
    "start_time": "2024-05-16T18:07:16.443Z"
   },
   {
    "duration": 151,
    "start_time": "2024-05-16T18:07:16.602Z"
   },
   {
    "duration": 140,
    "start_time": "2024-05-16T18:07:16.754Z"
   },
   {
    "duration": 27,
    "start_time": "2024-05-16T18:07:16.898Z"
   },
   {
    "duration": 170,
    "start_time": "2024-05-16T18:07:16.926Z"
   },
   {
    "duration": 73,
    "start_time": "2024-05-16T18:07:17.098Z"
   },
   {
    "duration": 41,
    "start_time": "2024-05-16T18:07:17.173Z"
   },
   {
    "duration": 744,
    "start_time": "2024-05-16T18:10:45.037Z"
   },
   {
    "duration": 2443,
    "start_time": "2024-05-16T18:10:45.783Z"
   },
   {
    "duration": 14,
    "start_time": "2024-05-16T18:10:48.228Z"
   },
   {
    "duration": 28,
    "start_time": "2024-05-16T18:10:48.244Z"
   },
   {
    "duration": 265,
    "start_time": "2024-05-16T18:10:48.274Z"
   },
   {
    "duration": 22,
    "start_time": "2024-05-16T18:10:48.541Z"
   },
   {
    "duration": 12,
    "start_time": "2024-05-16T18:10:48.564Z"
   },
   {
    "duration": 32,
    "start_time": "2024-05-16T18:10:48.578Z"
   },
   {
    "duration": 16,
    "start_time": "2024-05-16T18:10:48.611Z"
   },
   {
    "duration": 380,
    "start_time": "2024-05-16T18:10:48.630Z"
   },
   {
    "duration": 145,
    "start_time": "2024-05-16T18:10:49.012Z"
   },
   {
    "duration": 206,
    "start_time": "2024-05-16T18:10:49.159Z"
   },
   {
    "duration": 235,
    "start_time": "2024-05-16T18:10:49.366Z"
   },
   {
    "duration": 327,
    "start_time": "2024-05-16T18:10:49.603Z"
   },
   {
    "duration": 316,
    "start_time": "2024-05-16T18:10:49.931Z"
   },
   {
    "duration": 178,
    "start_time": "2024-05-16T18:10:50.249Z"
   },
   {
    "duration": 201,
    "start_time": "2024-05-16T18:10:50.429Z"
   },
   {
    "duration": 163,
    "start_time": "2024-05-16T18:10:50.632Z"
   },
   {
    "duration": 138,
    "start_time": "2024-05-16T18:10:50.797Z"
   },
   {
    "duration": 141,
    "start_time": "2024-05-16T18:10:50.937Z"
   },
   {
    "duration": 204,
    "start_time": "2024-05-16T18:10:51.079Z"
   },
   {
    "duration": 5665,
    "start_time": "2024-05-16T18:10:51.284Z"
   },
   {
    "duration": 49,
    "start_time": "2024-05-16T18:10:56.951Z"
   },
   {
    "duration": 137,
    "start_time": "2024-05-16T18:10:57.002Z"
   },
   {
    "duration": 188,
    "start_time": "2024-05-16T18:10:57.141Z"
   },
   {
    "duration": 164,
    "start_time": "2024-05-16T18:10:57.331Z"
   },
   {
    "duration": 137,
    "start_time": "2024-05-16T18:10:57.496Z"
   },
   {
    "duration": 27,
    "start_time": "2024-05-16T18:10:57.636Z"
   },
   {
    "duration": 183,
    "start_time": "2024-05-16T18:10:57.664Z"
   },
   {
    "duration": 77944,
    "start_time": "2024-05-16T18:10:57.849Z"
   },
   {
    "duration": 73,
    "start_time": "2024-05-16T18:12:15.795Z"
   },
   {
    "duration": 37,
    "start_time": "2024-05-16T18:12:15.870Z"
   },
   {
    "duration": 1125,
    "start_time": "2024-05-16T18:15:18.774Z"
   },
   {
    "duration": 21,
    "start_time": "2024-05-16T18:15:47.955Z"
   },
   {
    "duration": 1021,
    "start_time": "2024-05-16T18:15:48.967Z"
   },
   {
    "duration": 1076,
    "start_time": "2024-05-16T18:15:59.794Z"
   },
   {
    "duration": 336,
    "start_time": "2024-05-16T18:16:08.774Z"
   }
  ],
  "celltoolbar": "Отсутствует",
  "colab": {
   "provenance": []
  },
  "kernelspec": {
   "display_name": "Python 3 (ipykernel)",
   "language": "python",
   "name": "python3"
  },
  "language_info": {
   "codemirror_mode": {
    "name": "ipython",
    "version": 3
   },
   "file_extension": ".py",
   "mimetype": "text/x-python",
   "name": "python",
   "nbconvert_exporter": "python",
   "pygments_lexer": "ipython3",
   "version": "3.9.5"
  },
  "toc": {
   "base_numbering": 1,
   "nav_menu": {},
   "number_sections": true,
   "sideBar": true,
   "skip_h1_title": true,
   "title_cell": "Table of Contents",
   "title_sidebar": "Contents",
   "toc_cell": false,
   "toc_position": {},
   "toc_section_display": true,
   "toc_window_display": false
  }
 },
 "nbformat": 4,
 "nbformat_minor": 1
}
